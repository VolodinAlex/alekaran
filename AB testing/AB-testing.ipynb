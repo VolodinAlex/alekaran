{
 "cells": [
  {
   "attachments": {},
   "cell_type": "markdown",
   "id": "c8a6af25-08d3-487a-bd90-001772ac9161",
   "metadata": {},
   "source": [
    "# <center> **A/B-testing**"
   ]
  },
  {
   "attachments": {},
   "cell_type": "markdown",
   "id": "9969061a",
   "metadata": {},
   "source": [
    "**Description**  \n",
    "The company plans to launch a new promotion to sell as many tours as possible. The team developed two versions of the landing page of the company's official website and conducted A/B testing. As a result of the experiment, data were collected.  "
   ]
  },
  {
   "attachments": {},
   "cell_type": "markdown",
   "id": "870341ea",
   "metadata": {},
   "source": [
    "**Task**  \n",
    "Business task: to analyze the effectiveness of both variants of the landing page by two criteria at once: purchase conversion and average check. Based on the analysis, it is necessary to draw conclusions and make a decision: which of the design options is more preferable."
   ]
  },
  {
   "attachments": {},
   "cell_type": "markdown",
   "id": "b6a6c8de",
   "metadata": {},
   "source": [
    "**About data:**  \n",
    "- user_id - user id-number\n",
    "- group\t- A/B-testing hroup (A-contol, B-test)\n",
    "- purchase - whether the user made a purchase of the tour (1 - yes, 0 - no)\n",
    "- price - the price of the purchased tour (if the purchase did not take place, the price is 0)\n",
    "\n",
    "The company offers the following tour options:\n",
    "- Thailand - 100,000 rubles;\n",
    "- Turkey - 60,000 rubles;\n",
    "- Maldives - 200,000 rubles;\n",
    "- St. Petersburg - 10,000 rubles;\n",
    "- Kamchatka - 150,000 rubles."
   ]
  },
  {
   "cell_type": "code",
   "execution_count": 1,
   "id": "a974b482-e192-4014-8520-8a5c0c946da6",
   "metadata": {},
   "outputs": [],
   "source": [
    "# load all required libraries\n",
    "import pandas as pd\n",
    "\n",
    "from scipy.stats import norm\n",
    "from scipy.stats import t\n",
    "from scipy.stats import ttest_ind, shapiro, f_oneway, mannwhitneyu\n",
    "from statsmodels.stats.proportion import proportions_ztest\n",
    "\n",
    "import plotly.express as px\n",
    "import matplotlib.pyplot as plt\n",
    "import seaborn as sns"
   ]
  },
  {
   "attachments": {},
   "cell_type": "markdown",
   "id": "f58dd68d",
   "metadata": {},
   "source": [
    "### **Task 1.**   \n",
    "Load and explore data"
   ]
  },
  {
   "cell_type": "code",
   "execution_count": 5,
   "id": "b0d18245-b9da-44bd-8aea-d272ea74b63a",
   "metadata": {},
   "outputs": [
    {
     "data": {
      "text/html": [
       "<div>\n",
       "<style scoped>\n",
       "    .dataframe tbody tr th:only-of-type {\n",
       "        vertical-align: middle;\n",
       "    }\n",
       "\n",
       "    .dataframe tbody tr th {\n",
       "        vertical-align: top;\n",
       "    }\n",
       "\n",
       "    .dataframe thead th {\n",
       "        text-align: right;\n",
       "    }\n",
       "</style>\n",
       "<table border=\"1\" class=\"dataframe\">\n",
       "  <thead>\n",
       "    <tr style=\"text-align: right;\">\n",
       "      <th></th>\n",
       "      <th>user_id</th>\n",
       "      <th>date</th>\n",
       "      <th>group</th>\n",
       "      <th>purchase</th>\n",
       "      <th>price</th>\n",
       "    </tr>\n",
       "  </thead>\n",
       "  <tbody>\n",
       "    <tr>\n",
       "      <th>0</th>\n",
       "      <td>851104</td>\n",
       "      <td>2021-01-21</td>\n",
       "      <td>A</td>\n",
       "      <td>0</td>\n",
       "      <td>0</td>\n",
       "    </tr>\n",
       "    <tr>\n",
       "      <th>1</th>\n",
       "      <td>804228</td>\n",
       "      <td>2021-01-12</td>\n",
       "      <td>A</td>\n",
       "      <td>0</td>\n",
       "      <td>0</td>\n",
       "    </tr>\n",
       "    <tr>\n",
       "      <th>2</th>\n",
       "      <td>661590</td>\n",
       "      <td>2021-01-11</td>\n",
       "      <td>B</td>\n",
       "      <td>0</td>\n",
       "      <td>0</td>\n",
       "    </tr>\n",
       "    <tr>\n",
       "      <th>3</th>\n",
       "      <td>853541</td>\n",
       "      <td>2021-01-08</td>\n",
       "      <td>B</td>\n",
       "      <td>0</td>\n",
       "      <td>0</td>\n",
       "    </tr>\n",
       "    <tr>\n",
       "      <th>4</th>\n",
       "      <td>864975</td>\n",
       "      <td>2021-01-21</td>\n",
       "      <td>A</td>\n",
       "      <td>1</td>\n",
       "      <td>150000</td>\n",
       "    </tr>\n",
       "  </tbody>\n",
       "</table>\n",
       "</div>"
      ],
      "text/plain": [
       "   user_id        date group  purchase   price\n",
       "0   851104  2021-01-21     A         0       0\n",
       "1   804228  2021-01-12     A         0       0\n",
       "2   661590  2021-01-11     B         0       0\n",
       "3   853541  2021-01-08     B         0       0\n",
       "4   864975  2021-01-21     A         1  150000"
      ]
     },
     "execution_count": 5,
     "metadata": {},
     "output_type": "execute_result"
    }
   ],
   "source": [
    "data = pd.read_csv('ab_data_tourist.csv')\n",
    "data.head()"
   ]
  },
  {
   "cell_type": "code",
   "execution_count": 6,
   "id": "23496521-4878-46e2-ab02-1a98be14884a",
   "metadata": {},
   "outputs": [
    {
     "name": "stdout",
     "output_type": "stream",
     "text": [
      "<class 'pandas.core.frame.DataFrame'>\n",
      "RangeIndex: 294478 entries, 0 to 294477\n",
      "Data columns (total 5 columns):\n",
      " #   Column    Non-Null Count   Dtype \n",
      "---  ------    --------------   ----- \n",
      " 0   user_id   294478 non-null  int64 \n",
      " 1   date      294478 non-null  object\n",
      " 2   group     294478 non-null  object\n",
      " 3   purchase  294478 non-null  int64 \n",
      " 4   price     294478 non-null  int64 \n",
      "dtypes: int64(3), object(2)\n",
      "memory usage: 11.2+ MB\n"
     ]
    }
   ],
   "source": [
    "data.info()"
   ]
  },
  {
   "attachments": {},
   "cell_type": "markdown",
   "id": "946d017d-b4fe-4a17-b91d-0ce369d1ab2e",
   "metadata": {
    "tags": []
   },
   "source": [
    "### **Task 2**  \n",
    "Transform the date column to datetime . Make sure that the duration of testing is equal for each of the groups."
   ]
  },
  {
   "cell_type": "code",
   "execution_count": 7,
   "id": "604c619d-6338-45c8-8248-ac098a2366bb",
   "metadata": {},
   "outputs": [
    {
     "data": {
      "text/html": [
       "<div>\n",
       "<style scoped>\n",
       "    .dataframe tbody tr th:only-of-type {\n",
       "        vertical-align: middle;\n",
       "    }\n",
       "\n",
       "    .dataframe tbody tr th {\n",
       "        vertical-align: top;\n",
       "    }\n",
       "\n",
       "    .dataframe thead th {\n",
       "        text-align: right;\n",
       "    }\n",
       "</style>\n",
       "<table border=\"1\" class=\"dataframe\">\n",
       "  <thead>\n",
       "    <tr style=\"text-align: right;\">\n",
       "      <th></th>\n",
       "      <th>group</th>\n",
       "      <th>min</th>\n",
       "      <th>max</th>\n",
       "    </tr>\n",
       "  </thead>\n",
       "  <tbody>\n",
       "    <tr>\n",
       "      <th>0</th>\n",
       "      <td>A</td>\n",
       "      <td>2021-01-02</td>\n",
       "      <td>2021-01-24</td>\n",
       "    </tr>\n",
       "    <tr>\n",
       "      <th>1</th>\n",
       "      <td>B</td>\n",
       "      <td>2021-01-02</td>\n",
       "      <td>2021-01-24</td>\n",
       "    </tr>\n",
       "  </tbody>\n",
       "</table>\n",
       "</div>"
      ],
      "text/plain": [
       "  group        min        max\n",
       "0     A 2021-01-02 2021-01-24\n",
       "1     B 2021-01-02 2021-01-24"
      ]
     },
     "execution_count": 7,
     "metadata": {},
     "output_type": "execute_result"
    }
   ],
   "source": [
    "# transform to datetime\n",
    "data['date'] = pd.to_datetime(data['date'])\n",
    "\n",
    "# check the duration\n",
    "data.groupby('group')['date'].agg(['min', 'max']).reset_index()"
   ]
  },
  {
   "attachments": {},
   "cell_type": "markdown",
   "id": "e04eb341-52ae-48b3-9dc2-0578ca91641a",
   "metadata": {},
   "source": [
    "### **Task 3**\n",
    "Calculate the number of visits, purchases and the sum of all purchases for both groups."
   ]
  },
  {
   "cell_type": "code",
   "execution_count": 8,
   "id": "02bf0148-488e-4f34-95bf-37794b2fa98b",
   "metadata": {},
   "outputs": [
    {
     "data": {
      "text/html": [
       "<div>\n",
       "<style scoped>\n",
       "    .dataframe tbody tr th:only-of-type {\n",
       "        vertical-align: middle;\n",
       "    }\n",
       "\n",
       "    .dataframe tbody tr th {\n",
       "        vertical-align: top;\n",
       "    }\n",
       "\n",
       "    .dataframe thead th {\n",
       "        text-align: right;\n",
       "    }\n",
       "</style>\n",
       "<table border=\"1\" class=\"dataframe\">\n",
       "  <thead>\n",
       "    <tr style=\"text-align: right;\">\n",
       "      <th></th>\n",
       "      <th>group</th>\n",
       "      <th>user_id</th>\n",
       "      <th>purchase</th>\n",
       "      <th>price</th>\n",
       "    </tr>\n",
       "  </thead>\n",
       "  <tbody>\n",
       "    <tr>\n",
       "      <th>0</th>\n",
       "      <td>A</td>\n",
       "      <td>147202</td>\n",
       "      <td>17723</td>\n",
       "      <td>1436260000</td>\n",
       "    </tr>\n",
       "    <tr>\n",
       "      <th>1</th>\n",
       "      <td>B</td>\n",
       "      <td>147276</td>\n",
       "      <td>17514</td>\n",
       "      <td>1554100000</td>\n",
       "    </tr>\n",
       "  </tbody>\n",
       "</table>\n",
       "</div>"
      ],
      "text/plain": [
       "  group  user_id  purchase       price\n",
       "0     A   147202     17723  1436260000\n",
       "1     B   147276     17514  1554100000"
      ]
     },
     "execution_count": 8,
     "metadata": {},
     "output_type": "execute_result"
    }
   ],
   "source": [
    "# group our dateset\n",
    "data.groupby('group').agg({\n",
    "    'user_id': 'count',\n",
    "    'purchase': 'sum',\n",
    "    'price': 'sum'\n",
    "}).reset_index()"
   ]
  },
  {
   "attachments": {},
   "cell_type": "markdown",
   "id": "2434db1b-17e6-4977-8e54-1df875c6f221",
   "metadata": {
    "tags": []
   },
   "source": [
    "### **Task 4**\n",
    "Check if there are users who were in both test groups during the A / B test? Get rid of it.\n"
   ]
  },
  {
   "cell_type": "code",
   "execution_count": 9,
   "id": "57a2d711-057d-4f8b-9f56-df0f772d41c8",
   "metadata": {},
   "outputs": [
    {
     "name": "stdout",
     "output_type": "stream",
     "text": [
      "1895\n"
     ]
    },
    {
     "data": {
      "text/plain": [
       "(290688, 5)"
      ]
     },
     "execution_count": 9,
     "metadata": {},
     "output_type": "execute_result"
    }
   ],
   "source": [
    "# create sets for both groups\n",
    "data_a = data[data['group'] == 'A']\n",
    "data_b = data[data['group'] == 'B']\n",
    "set_a = set(data_a['user_id'])\n",
    "set_b = set(data_b['user_id'])\n",
    "\n",
    "# intersect these sets\n",
    "common_id = set_a.intersection(set_b)\n",
    "\n",
    "# print the number of people with common id in both groups\n",
    "print(len(common_id))\n",
    "\n",
    "# get rid of it\n",
    "data = data[data['user_id'].apply(lambda x: x not in common_id)]\n",
    "\n",
    "# check dimensity\n",
    "data.shape"
   ]
  },
  {
   "attachments": {
    "95f235d2-6323-4799-bf69-697fc57f727b.png": {
     "image/png": "[encoded data removed]"
    }
   },
   "cell_type": "markdown",
   "id": "2ddf6b2c-7987-41f3-82b1-8992630ae97b",
   "metadata": {
    "tags": []
   },
   "source": [
    "### **Task 5**\n",
    "Get the following table:\n",
    "![image.png](attachment:95f235d2-6323-4799-bf69-697fc57f727b.png)\n",
    "In order to obtain such a table, group the data according to the group. Calculate the following for each group:\n",
    "- number of visits (number of users);\n",
    "- the number of purchases made;\n",
    "- the sum of all purchases in the group.\n",
    "Rename the columns to count_visits, count_purchases, and sum_price.\n"
   ]
  },
  {
   "cell_type": "code",
   "execution_count": 10,
   "id": "5c0c018e-a250-48e9-b72a-e3c7be586ebd",
   "metadata": {},
   "outputs": [
    {
     "data": {
      "text/html": [
       "<div>\n",
       "<style scoped>\n",
       "    .dataframe tbody tr th:only-of-type {\n",
       "        vertical-align: middle;\n",
       "    }\n",
       "\n",
       "    .dataframe tbody tr th {\n",
       "        vertical-align: top;\n",
       "    }\n",
       "\n",
       "    .dataframe thead th {\n",
       "        text-align: right;\n",
       "    }\n",
       "</style>\n",
       "<table border=\"1\" class=\"dataframe\">\n",
       "  <thead>\n",
       "    <tr style=\"text-align: right;\">\n",
       "      <th></th>\n",
       "      <th>group</th>\n",
       "      <th>count_visits</th>\n",
       "      <th>count_purchases</th>\n",
       "      <th>sum_price</th>\n",
       "    </tr>\n",
       "  </thead>\n",
       "  <tbody>\n",
       "    <tr>\n",
       "      <th>0</th>\n",
       "      <td>A</td>\n",
       "      <td>145307</td>\n",
       "      <td>17487</td>\n",
       "      <td>1417780000</td>\n",
       "    </tr>\n",
       "    <tr>\n",
       "      <th>1</th>\n",
       "      <td>B</td>\n",
       "      <td>145381</td>\n",
       "      <td>17290</td>\n",
       "      <td>1533010000</td>\n",
       "    </tr>\n",
       "  </tbody>\n",
       "</table>\n",
       "</div>"
      ],
      "text/plain": [
       "  group  count_visits  count_purchases   sum_price\n",
       "0     A        145307            17487  1417780000\n",
       "1     B        145381            17290  1533010000"
      ]
     },
     "execution_count": 10,
     "metadata": {},
     "output_type": "execute_result"
    }
   ],
   "source": [
    "# create new dataset for future work\n",
    "ab_data = data.groupby('group').agg({\n",
    "    'user_id': 'count',\n",
    "    'purchase': 'sum',\n",
    "    'price': 'sum' \n",
    "}).reset_index().rename(columns={\n",
    "    'user_id': 'count_visits',\n",
    "    'purchase': 'count_purchases',\n",
    "    'price': 'sum_price'\n",
    "})\n",
    "\n",
    "# display it\n",
    "ab_data"
   ]
  },
  {
   "attachments": {},
   "cell_type": "markdown",
   "id": "4ea1b65b-475e-4bff-9460-fac0acdb9620",
   "metadata": {},
   "source": [
    "**Conclusion**    \n",
    "The sample size was reduced in both groups by the number of \"doubled\" visitors, that is, those who fell into both groups.  \n",
    "The sizes of the groups are as close as possible to each other, so the samples are quite balanced."
   ]
  },
  {
   "attachments": {},
   "cell_type": "markdown",
   "id": "afb2ee0a-31d1-45a5-be42-a2bf168b9448",
   "metadata": {
    "tags": []
   },
   "source": [
    "### **Task 6**\n",
    "Add conversion columns to the grouped table:\n",
    "- purchase conversion (the ratio of the number of purchases to the number of site visits in each group, expressed as a percentage)"
   ]
  },
  {
   "cell_type": "code",
   "execution_count": 11,
   "id": "bd9c3b3e-5956-41a8-bae0-43693f6de1f2",
   "metadata": {},
   "outputs": [
    {
     "data": {
      "text/html": [
       "<div>\n",
       "<style scoped>\n",
       "    .dataframe tbody tr th:only-of-type {\n",
       "        vertical-align: middle;\n",
       "    }\n",
       "\n",
       "    .dataframe tbody tr th {\n",
       "        vertical-align: top;\n",
       "    }\n",
       "\n",
       "    .dataframe thead th {\n",
       "        text-align: right;\n",
       "    }\n",
       "</style>\n",
       "<table border=\"1\" class=\"dataframe\">\n",
       "  <thead>\n",
       "    <tr style=\"text-align: right;\">\n",
       "      <th></th>\n",
       "      <th>group</th>\n",
       "      <th>conversion</th>\n",
       "    </tr>\n",
       "  </thead>\n",
       "  <tbody>\n",
       "    <tr>\n",
       "      <th>0</th>\n",
       "      <td>A</td>\n",
       "      <td>12.03</td>\n",
       "    </tr>\n",
       "    <tr>\n",
       "      <th>1</th>\n",
       "      <td>B</td>\n",
       "      <td>11.89</td>\n",
       "    </tr>\n",
       "  </tbody>\n",
       "</table>\n",
       "</div>"
      ],
      "text/plain": [
       "  group  conversion\n",
       "0     A       12.03\n",
       "1     B       11.89"
      ]
     },
     "execution_count": 11,
     "metadata": {},
     "output_type": "execute_result"
    }
   ],
   "source": [
    "# create new feature - conversion purchase\n",
    "ab_data['conversion'] = ab_data['count_purchases'] / ab_data['count_visits'] * 100\n",
    "round(ab_data[['group','conversion']], 2)"
   ]
  },
  {
   "attachments": {},
   "cell_type": "markdown",
   "id": "9cd1ab56",
   "metadata": {},
   "source": [
    "- mean_check — average check (the ratio of the amount of purchases to the number of purchases in each group)."
   ]
  },
  {
   "cell_type": "code",
   "execution_count": 12,
   "id": "f19b1691",
   "metadata": {},
   "outputs": [
    {
     "data": {
      "text/html": [
       "<div>\n",
       "<style scoped>\n",
       "    .dataframe tbody tr th:only-of-type {\n",
       "        vertical-align: middle;\n",
       "    }\n",
       "\n",
       "    .dataframe tbody tr th {\n",
       "        vertical-align: top;\n",
       "    }\n",
       "\n",
       "    .dataframe thead th {\n",
       "        text-align: right;\n",
       "    }\n",
       "</style>\n",
       "<table border=\"1\" class=\"dataframe\">\n",
       "  <thead>\n",
       "    <tr style=\"text-align: right;\">\n",
       "      <th></th>\n",
       "      <th>group</th>\n",
       "      <th>mean_check</th>\n",
       "    </tr>\n",
       "  </thead>\n",
       "  <tbody>\n",
       "    <tr>\n",
       "      <th>0</th>\n",
       "      <td>A</td>\n",
       "      <td>81076.0</td>\n",
       "    </tr>\n",
       "    <tr>\n",
       "      <th>1</th>\n",
       "      <td>B</td>\n",
       "      <td>88665.0</td>\n",
       "    </tr>\n",
       "  </tbody>\n",
       "</table>\n",
       "</div>"
      ],
      "text/plain": [
       "  group  mean_check\n",
       "0     A     81076.0\n",
       "1     B     88665.0"
      ]
     },
     "execution_count": 12,
     "metadata": {},
     "output_type": "execute_result"
    }
   ],
   "source": [
    "ab_data['mean_check'] = ab_data['sum_price'] / ab_data['count_purchases']\n",
    "round(ab_data[['group', 'mean_check']])"
   ]
  },
  {
   "attachments": {},
   "cell_type": "markdown",
   "id": "9e88c883-84f9-44ec-accd-04d5d459b261",
   "metadata": {},
   "source": [
    "**Сonclusion**  \n",
    "The conversion in the control group turned out to be slightly higher, but the average check is noticeably lower than in the test group.  \n",
    "However, it is too early to draw full conclusions."
   ]
  },
  {
   "attachments": {},
   "cell_type": "markdown",
   "id": "7f9f1ae0-f12f-49b3-8b57-1c299c208c49",
   "metadata": {
    "tags": []
   },
   "source": [
    "### **Task 6**\n",
    "Now let's compare the options for the purchasing power of tours. To do this, build a pivot table that will show the dependence of the number of sales on the group and the price of the tour.  \n",
    "Visualize the resulting pivot table with an annotated heatmap."
   ]
  },
  {
   "cell_type": "code",
   "execution_count": 13,
   "id": "80567a90",
   "metadata": {},
   "outputs": [
    {
     "data": {
      "image/png": "[encoded data removed]",
      "text/plain": [
       "<Figure size 432x288 with 2 Axes>"
      ]
     },
     "metadata": {
      "needs_background": "light"
     },
     "output_type": "display_data"
    }
   ],
   "source": [
    "# build a pivot table\n",
    "purchased_tour = data[data['price'] > 0].pivot_table(\n",
    "    values='purchase',\n",
    "    index='group',\n",
    "    columns='price',\n",
    "    aggfunc='count'\n",
    ")\n",
    "\n",
    "purchase_heatmap = sns.heatmap(purchased_tour, annot=True, fmt='.0f', cmap='YlGnBu_r')\n",
    "purchase_heatmap.set_title('Dependence of the number of sales on the price of the tour and the group');"
   ]
  },
  {
   "attachments": {},
   "cell_type": "markdown",
   "id": "6d13fd45-e3df-468f-9d32-1fc45d38b10c",
   "metadata": {},
   "source": [
    "**Concluion**   \n",
    "The difference in purchasing power between the control and the test group is clearly noticeable only in the Turks to Turkey (60k) and Thailand (100k), in other cases the difference is insignificant.  \n",
    "At the same time, in group B they chose a tour to Thailand much more often, and in group A to Turkey. Probably, this is the reason for the difference in the average check in favor of the test group."
   ]
  },
  {
   "attachments": {},
   "cell_type": "markdown",
   "id": "8f021fb4-d0f6-4e43-b518-1a96c07a4531",
   "metadata": {
    "tags": []
   },
   "source": [
    "### **Task 8**  \n",
    "Group the data by date and testing group. In each group, calculate the number of page visits, the number of purchases, and the amount of purchases.   \n",
    "Add information about the daily conversion (daily number of purchases / daily number of visits) in the group and the daily average check (daily amount of purchases / daily number of purchases) to the table."
   ]
  },
  {
   "cell_type": "code",
   "execution_count": 14,
   "id": "4503b528-412e-433a-bc03-da7da52fa1a3",
   "metadata": {},
   "outputs": [],
   "source": [
    "# group data according to the task conditions\n",
    "date_group_df = data.groupby(['date', 'group']).agg({\n",
    "    'user_id': 'count',\n",
    "    'purchase': 'sum',\n",
    "    'price': 'sum'\n",
    "}).reset_index().rename(columns={\n",
    "    'user_id': 'visits',\n",
    "    'purchase': 'purchases',\n",
    "    'price': 'income'\n",
    "})\n",
    "\n",
    "# создаем столбец ежедневной конверсии\n",
    "date_group_df['conversion'] = date_group_df['purchases'] / date_group_df['visits'] * 100\n",
    "\n",
    "# создаем столбец ежедневного среднего чека\n",
    "date_group_df['average_bill'] = date_group_df['income'] / date_group_df['purchases']"
   ]
  },
  {
   "attachments": {},
   "cell_type": "markdown",
   "id": "bc8e241b-1ef1-4f67-ab90-77251889b7f2",
   "metadata": {},
   "source": [
    "### **Task 9** \n",
    "Add cumulative signs to the table with daily indicators:\n",
    "- cumulative number of page visits;\n",
    "- cumulative number of purchases;\n",
    "- the cumulative amount of purchases.  \n",
    "\n",
    "Calculate the cumulative conversion and the cumulative average check based on the obtained cumulative indicators.  \n",
    "Plot cumulative conversion and average check graphs in each group by day."
   ]
  },
  {
   "cell_type": "code",
   "execution_count": 15,
   "id": "afe59f9a-8d39-45c1-a14f-9f62091d81a1",
   "metadata": {},
   "outputs": [],
   "source": [
    "# copy dataset\n",
    "accum_data = date_group_df.copy()\n",
    "\n",
    "# create new features\n",
    "accum_data['cum_visits'] = accum_data.groupby('group')['visits'].cumsum()\n",
    "accum_data['cum_purchases'] = accum_data.groupby('group')['purchases'].cumsum()\n",
    "accum_data['cum_income'] = accum_data.groupby('group')['income'].cumsum()"
   ]
  },
  {
   "cell_type": "code",
   "execution_count": 16,
   "id": "29fb8ea4",
   "metadata": {},
   "outputs": [],
   "source": [
    "# create new feature for cumulative conversion\n",
    "accum_data['accum_conversion'] = accum_data['cum_purchases'] / accum_data['cum_visits'] * 100\n",
    "\n",
    "# create new feature for cumulative average bill\n",
    "accum_data['accum_average_bill'] = accum_data['cum_income'] / accum_data['cum_purchases']"
   ]
  },
  {
   "cell_type": "code",
   "execution_count": 17,
   "id": "27e23d20-7ed6-4a26-973d-6d0320b81adb",
   "metadata": {},
   "outputs": [
    {
     "data": {
      "image/png": "[encoded data removed]",
      "text/plain": [
       "<Figure size 1080x360 with 2 Axes>"
      ]
     },
     "metadata": {
      "needs_background": "light"
     },
     "output_type": "display_data"
    }
   ],
   "source": [
    "# build a graph\n",
    "fig, ax = plt.subplots(1, 2, figsize=(15,5))\n",
    "sns.lineplot(data=accum_data, x='date', y='accum_conversion', hue='group', ax=ax[0])\n",
    "ax[0].set_title('Daily cumulative conversion graph')\n",
    "ax[0].grid(True)\n",
    "ax[0].xaxis.set_tick_params(rotation=45)\n",
    "ax[0].set_xlabel('Cumulative conversion')\n",
    "ax[0].set_ylabel('Date');\n",
    "\n",
    "sns.lineplot(data=accum_data, x='date', y='accum_average_bill', hue='group', ax=ax[1])\n",
    "ax[1].set_title('Graph of daily cumulative average check')\n",
    "ax[1].grid(True)\n",
    "ax[1].xaxis.set_tick_params(rotation=45)\n",
    "ax[1].set_xlabel('Cumulative average check')\n",
    "ax[1].set_ylabel('Date');"
   ]
  },
  {
   "attachments": {},
   "cell_type": "markdown",
   "id": "f645f8e5-ad16-4b3b-8228-fbdeeb286833",
   "metadata": {},
   "source": [
    "**Conclusion**  \n",
    "As of January 13 and beyond, both charts have stabilized. The conversion of group A is somewhat higher, but the superiority of the average check in group B is much more noticeable.  \n",
    "The duration of the observation was sufficient to judge the statistical significance of such a difference in both indicators."
   ]
  },
  {
   "attachments": {},
   "cell_type": "markdown",
   "id": "2ecaa382-56e2-47f4-b086-24b4742570a3",
   "metadata": {
    "tags": []
   },
   "source": [
    "### **Task 10**\n",
    "It is time to move on to testing the statistical significance of the difference between the metrics in the groups. Let's start with conversion.  \n",
    "Test under the following null and alternative hypotheses:\n",
    "- Ho: Conversions in groups A and B are equal;\n",
    "- Ha: The conversion in group A is greater than the conversion in group B."
   ]
  },
  {
   "cell_type": "code",
   "execution_count": 18,
   "id": "9dd1f6fd-2fa0-4a2f-8181-dbed4c302bce",
   "metadata": {},
   "outputs": [
    {
     "name": "stdout",
     "output_type": "stream",
     "text": [
      "p-value: 0.12\n",
      "We accept the null hypothesis. Conversions in groups A and B are equal.\n"
     ]
    }
   ],
   "source": [
    "# group data\n",
    "converted_data = data.groupby('group')['purchase'].agg(['count', 'sum'])\n",
    "\n",
    "# define hypothesis\n",
    "Ho = 'Conversions in groups A and B are equal.'\n",
    "Ha = 'The conversion in group A is greater than the conversion in group B.'\n",
    "\n",
    "# define the significance level\n",
    "alpha = 0.05\n",
    "\n",
    "# calculate p-value\n",
    "_, p_value = proportions_ztest(\n",
    "    count = converted_data['sum'],\n",
    "    nobs = converted_data['count'],\n",
    "    alternative='larger'\n",
    ")\n",
    "\n",
    "print('p-value:', round(p_value, 2))\n",
    "\n",
    "if (p_value < alpha):\n",
    "    print('We accept the alternative hypothesis.', Ha)\n",
    "else:\n",
    "    print('We accept the null hypothesis.', Ho)"
   ]
  },
  {
   "attachments": {},
   "cell_type": "markdown",
   "id": "75dddb06-389d-4d65-92c7-425efa28e51a",
   "metadata": {},
   "source": [
    "**Conclusion**    \n",
    "The true values of conversions in the groups are equal at a significance level of 5%, which means that the difference obtained in previous studies is not statistically significant.\n",
    "When the significance level is increased by more than 12% (which is rather strange), the conversion in the control group will still be higher. However, in our situation it is important that the conversion of the experimental group B is not higher than the control group."
   ]
  },
  {
   "attachments": {},
   "cell_type": "markdown",
   "id": "32c5a1af-8cb2-4f3c-a126-410b70fb3ff3",
   "metadata": {
    "tags": []
   },
   "source": [
    "### **Task 11**\n",
    "Verify your reasoning by plotting a 95% confidence interval for conversions and the difference between them."
   ]
  },
  {
   "cell_type": "code",
   "execution_count": 19,
   "id": "0ba8af7c",
   "metadata": {},
   "outputs": [
    {
     "name": "stdout",
     "output_type": "stream",
     "text": [
      "Conversion confidence interval for group A: (11.87, 12.2)\n",
      "Conversion confidence interval for group B: (11.73, 12.06)\n"
     ]
    }
   ],
   "source": [
    "def proportions_conf_interval(n, x_p, gamma=0.95):\n",
    "    \"\"\"func for defining a confidence interval\n",
    "\n",
    "    Args:\n",
    "        n (int): dimensity of data\n",
    "        x_p (int): sample proportion\n",
    "        gamma (float, optional): reliability level. Defaults to 0.95.\n",
    "\n",
    "    Returns:\n",
    "        tuple: confidence interval\n",
    "    \"\"\"\n",
    "    \n",
    "    # find the significance level\n",
    "    alpha = 1 - gamma\n",
    "    \n",
    "    # calculation formulas\n",
    "    z_crit = -norm.ppf(alpha/2)\n",
    "    eps = z_crit * (x_p * (1 - x_p) / n) ** 0.5\n",
    "    \n",
    "    # find the lower bound\n",
    "    lower_bound = x_p - eps\n",
    "    \n",
    "    # find the upper bound\n",
    "    upper_bound = x_p + eps\n",
    "    \n",
    "    return round(lower_bound * 100, 2), round(upper_bound * 100, 2)\n",
    "\n",
    "\n",
    "# splitting into 2 table depending on a group\n",
    "a_data = data[data['group'] == 'A']\n",
    "b_data = data[data['group'] == 'B']\n",
    "\n",
    "# caltucalte conversion confidence interval for group A\n",
    "conf_interval_a = proportions_conf_interval(\n",
    "    n=a_data['user_id'].count(),\n",
    "    x_p=a_data['purchase'].mean()\n",
    ")\n",
    "# calculate conversion confidence interval for group B\n",
    "conf_interval_b = proportions_conf_interval(\n",
    "    n=b_data['user_id'].count(),\n",
    "    x_p=b_data['purchase'].mean()\n",
    ")\n",
    "\n",
    "# display resalts\n",
    "print('Conversion confidence interval for group A:', conf_interval_a)\n",
    "print('Conversion confidence interval for group B:', conf_interval_b)"
   ]
  },
  {
   "cell_type": "code",
   "execution_count": 20,
   "id": "7b4ea375",
   "metadata": {},
   "outputs": [
    {
     "name": "stdout",
     "output_type": "stream",
     "text": [
      "The conversion confidence interval of the difference in proportions (-0.38, 0.09)\n"
     ]
    }
   ],
   "source": [
    "def diff_proportions_conf_interval(n, xp, gamma=0.95):\n",
    "    \"\"\"func for determining the confidence interval of the difference in proportions\n",
    "\n",
    "    Args:\n",
    "        n (list): dimensiry if both samples\n",
    "        xp (list): sample proportions\n",
    "        gamma (float, optional): reliability level. Defaults to 0.95.\n",
    "\n",
    "    Returns:\n",
    "        tuple: the confidence interval of the difference in proportions\n",
    "    \"\"\"\n",
    "    \n",
    "    # find the significance level\n",
    "    alpha = 1 - gamma \n",
    "    \n",
    "    # calculation formulas\n",
    "    diff = xp[1] - xp[0] \n",
    "    z_crit = -norm.ppf(alpha/2) \n",
    "    eps = z_crit * (xp[0] * (1 - xp[0])/n[0] + xp[1] * (1 - xp[1])/n[1]) ** 0.5\n",
    "    \n",
    "    # find the lower bound\n",
    "    lower_bound = diff - eps\n",
    "    \n",
    "    # find the upper bound\n",
    "    upper_bound = diff + eps\n",
    "    \n",
    "    return round(lower_bound *100, 2), round(upper_bound * 100, 2)\n",
    "\n",
    "\n",
    "# calculate the confidence interval of the difference in proportions\n",
    "conversion_diff_interval = diff_proportions_conf_interval(\n",
    "    n = [a_data['user_id'].count(), b_data['user_id'].count()],\n",
    "    xp = [a_data['purchase'].mean(), b_data['purchase'].mean()]\n",
    ")\n",
    "print('The conversion confidence interval of the difference in proportions', conversion_diff_interval)"
   ]
  },
  {
   "attachments": {},
   "cell_type": "markdown",
   "id": "38195860",
   "metadata": {},
   "source": [
    "**Conclusion**  \n",
    "The constructed confidence interval with 95% reliability tells us that the difference in conversion between option B and option A lies in the range from -0.38% to 0.09%. This means that there was no statistical difference in conversion between the control and experimental groups, i.e. they are equivalent in terms of conversion metrics."
   ]
  },
  {
   "attachments": {},
   "cell_type": "markdown",
   "id": "73c54883-b919-4889-bbf2-e1bdeb0b7055",
   "metadata": {},
   "source": [
    "### **Task 12**  \n",
    "Test the hypothesis about the normal distribution of the daily average check in each of the testing groups.  "
   ]
  },
  {
   "cell_type": "code",
   "execution_count": 21,
   "id": "d224ae9b",
   "metadata": {},
   "outputs": [
    {
     "name": "stdout",
     "output_type": "stream",
     "text": [
      "p-value группы А 0.25\n",
      "p-value группы В 0.09\n",
      "We accept the null hypothesis. The distribution is normal in both groups\n"
     ]
    }
   ],
   "source": [
    "# split dataset with daily values into 2 samples depending on group\n",
    "stat_a = date_group_df[date_group_df['group'] == 'A']\n",
    "stat_b = date_group_df[date_group_df['group'] == 'B']\n",
    "\n",
    "# define hypothesis\n",
    "Ho = 'The distribution is normal in both groups'\n",
    "Ha = 'Distribution in one or both groups is not normal'\n",
    "\n",
    "# define the significance level\n",
    "alpha = 0.05\n",
    "\n",
    "# will use the Shapiro-Wilk test\n",
    "# calculate results for borh samples\n",
    "shapiro_result_a = shapiro(stat_a['average_bill'])\n",
    "shapiro_result_b = shapiro(stat_b['average_bill'])\n",
    "\n",
    "# display p-values for both samples\n",
    "print('p-value группы А', round(shapiro_result_a.pvalue, 2))\n",
    "print('p-value группы В', round(shapiro_result_b.pvalue, 2))\n",
    "\n",
    "# display results of test\n",
    "if shapiro_result_a.pvalue < alpha or shapiro_result_b.pvalue < alpha:\n",
    "    print('We accept the alternative hypothesis. {}'.format(Ha))\n",
    "    \n",
    "else:\n",
    "    print('We accept the null hypothesis. {}'.format(Ho))"
   ]
  },
  {
   "attachments": {},
   "cell_type": "markdown",
   "id": "cbddecf9-4d15-4ff1-84e9-46c4d98fc1e0",
   "metadata": {
    "tags": []
   },
   "source": [
    "### **Task 13**\n",
    "Compare page design options by average check metric."
   ]
  },
  {
   "cell_type": "code",
   "execution_count": 22,
   "id": "05d43f23-2c2d-4795-bb96-1ffbfe81c391",
   "metadata": {},
   "outputs": [
    {
     "name": "stdout",
     "output_type": "stream",
     "text": [
      "p-value: 0.0\n",
      "We accept the alternative hypothesis. The daily average check in group A is less than in group B.\n"
     ]
    }
   ],
   "source": [
    "# define the null and left-sided alternative hypothesis\n",
    "Ho = 'Daily average checks in groups A and B are equal.'\n",
    "Ha = 'The daily average check in group A is less than in group B.'\n",
    "\n",
    "# define the significance level\n",
    "aplha = 0.05\n",
    "\n",
    "# use last grouped data\n",
    "# calculating p-value\n",
    "results = ttest_ind(\n",
    "    a=stat_a['average_bill'],\n",
    "    b=stat_b['average_bill'],\n",
    "    alternative='less'\n",
    ")\n",
    "print('p-value:', round(results.pvalue, 2))\n",
    "\n",
    "# display resalts\n",
    "if results.pvalue < alpha:\n",
    "    print('We accept the alternative hypothesis.', Ha)\n",
    "else:\n",
    "    print('We accept the null hypothesis.', Ho)"
   ]
  },
  {
   "attachments": {},
   "cell_type": "markdown",
   "id": "8b85dd0e",
   "metadata": {},
   "source": [
    "**Conclusion**    \n",
    "Judging by the conducted statistical tests, the true values of the average bill in the experimental group are higher than in the control group at a significance level of 5%."
   ]
  },
  {
   "attachments": {},
   "cell_type": "markdown",
   "id": "5e46c9a6-a943-48b4-ad72-935337469613",
   "metadata": {
    "tags": []
   },
   "source": [
    "### **Task 14**\n",
    "Plot a 95% confidence interval for the average check in each group. Since the sample of daily average checks is small, use t_crit in your calculations."
   ]
  },
  {
   "cell_type": "code",
   "execution_count": 23,
   "id": "480430db-ffae-4aad-8e22-f5c70d4800b8",
   "metadata": {},
   "outputs": [
    {
     "name": "stdout",
     "output_type": "stream",
     "text": [
      "The confidence interval for the daily average check in group B (79630.0, 82308.0)\n",
      "The confidence interval for the daily average check in group B (87626.0, 89526.0)\n"
     ]
    }
   ],
   "source": [
    "def conf_interval_std(n, x_mean, x_std, gamma=0.95, rank=2):\n",
    "    \"\"\"Function for determining t-crit and confidence interval with a given bit depth with an unknown true std\n",
    "\n",
    "    Args:\n",
    "        n (int): dimensity\n",
    "        x_mean (int): mean value\n",
    "        x_std (int): sample standard deviation\n",
    "        gamma (float, optional): reliability level. Defaults to 0.95.\n",
    "        rang (int, optional): capacity. Defaults to 2\n",
    "\n",
    "    Returns:\n",
    "       tuple: confidence interval\n",
    "    \"\"\"\n",
    "    \n",
    "    # define the significance level\n",
    "    alpha = 1 - gamma\n",
    "    \n",
    "    # the number degrees of freedom\n",
    "    k = n - 1\n",
    "    \n",
    "    # calculate z-crit\n",
    "    t_crit = -t.ppf(alpha/2, k)\n",
    "\n",
    "    # define the confidence interval\n",
    "    eps = t_crit * x_std / (n ** 0.5)\n",
    "    lower_bound = x_mean - eps\n",
    "    upper_bound = x_mean + eps\n",
    "    confidence_interval = (round(lower_bound, rank), round(upper_bound, rank))\n",
    "    \n",
    "    return confidence_interval\n",
    "\n",
    "\n",
    "# build a confidence interval for the daily average check in group A\n",
    "bill_conf_interbal_a = conf_interval_std(\n",
    "    n=stat_a['visits'].count(),\n",
    "    x_mean=stat_a['average_bill'].mean(),\n",
    "    x_std=stat_a['average_bill'].std(),\n",
    "    rank=0\n",
    ")\n",
    "\n",
    "# build a confidence interval for the daily average check in group B\n",
    "bill_conf_interbal_b = conf_interval_std(\n",
    "    n=stat_b['visits'].count(),\n",
    "    x_mean=stat_b['average_bill'].mean(),\n",
    "    x_std=stat_b['average_bill'].std(),\n",
    "    rank=0\n",
    ")\n",
    "\n",
    "# display results\n",
    "print('The confidence interval for the daily average check in group B', bill_conf_interbal_a)\n",
    "print('The confidence interval for the daily average check in group B', bill_conf_interbal_b)"
   ]
  },
  {
   "attachments": {},
   "cell_type": "markdown",
   "id": "1b3e0394",
   "metadata": {},
   "source": [
    "**Conclusion**  \n",
    "The confidence interval for the control and experimental groups has no intersections. This means that the average check in group B is indeed higher than that in group A."
   ]
  },
  {
   "attachments": {},
   "cell_type": "markdown",
   "id": "c078852f-892f-42ed-8d78-73edf8eb1f5e",
   "metadata": {
    "tags": []
   },
   "source": [
    "### **General conclusion**  \n",
    "Taking into account all the previous studies, the following conclusions can be drawn:\n",
    "1. The test can be considered complete, and the data is balanced.\n",
    "2. There is no difference in the target action (buying a tour) in both groups, or even has a slight superiority in the original version of the landing page.\n",
    "3. The new version of the landing page leads to an increase in the average check due to the advantage in choosing a more expensive tour.\n",
    "\n",
    "Taking into account these findings, the second version of the landing page is preferable, because in the absence of a difference in conversion (performing a target action), it has a clear advantage in the size of the average check."
   ]
  }
 ],
 "metadata": {
  "kernelspec": {
   "display_name": "Python 3.9.10 64-bit",
   "language": "python",
   "name": "python3"
  },
  "language_info": {
   "codemirror_mode": {
    "name": "ipython",
    "version": 3
   },
   "file_extension": ".py",
   "mimetype": "text/x-python",
   "name": "python",
   "nbconvert_exporter": "python",
   "pygments_lexer": "ipython3",
   "version": "3.9.10"
  },
  "vscode": {
   "interpreter": {
    "hash": "4d181b88a5681332783464b335ffcae2a192662c591f914e6515f1b7dbb1ef53"
   }
  }
 },
 "nbformat": 4,
 "nbformat_minor": 5
}
