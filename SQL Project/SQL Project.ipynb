{
  "cells": [
    {
      "cell_type": "markdown",
      "id": "42289889-bd57-434e-9637-d3e354756316",
      "metadata": {
        "id": "42289889-bd57-434e-9637-d3e354756316"
      },
      "source": [
        "<center> <img src = https://raw.githubusercontent.com/AndreyRysistov/DatasetsForPandas/main/hh%20label.jpg alt=\"drawing\" style=\"width:400px;\">"
      ]
    },
    {
      "attachments": {},
      "cell_type": "markdown",
      "id": "829cb75b-f14e-4ba8-9195-7ba929a7d656",
      "metadata": {
        "id": "829cb75b-f14e-4ba8-9195-7ba929a7d656",
        "tags": []
      },
      "source": [
        "# <center> **Project SQL. HeadHunter**\n",
        "   "
      ]
    },
    {
      "attachments": {},
      "cell_type": "markdown",
      "id": "1964f9ba",
      "metadata": {},
      "source": [
        "It is necessary to analyze vacancies from the HeadHunter job search aggregator using SQL queries to the database.  \n",
        "All required tables are in the public database schema below."
      ]
    },
    {
      "attachments": {},
      "cell_type": "markdown",
      "id": "8a945d28",
      "metadata": {},
      "source": [
        "[![Pj2-SQL.png](https://i.postimg.cc/YS74hGmk/Pj2-SQL.png)](https://postimg.cc/cvD1zJm5)"
      ]
    },
    {
      "cell_type": "code",
      "execution_count": 242,
      "id": "dccfde33-2452-43fb-a8a5-5c6ebc02a71d",
      "metadata": {
        "id": "dccfde33-2452-43fb-a8a5-5c6ebc02a71d"
      },
      "outputs": [],
      "source": [
        "# load libraries\n",
        "import pandas as pd\n",
        "import psycopg2\n",
        "\n",
        "import plotly.graph_objects as go\n",
        "import plotly.express as px\n",
        "import seaborn as sns\n",
        "import matplotlib.pyplot as plt"
      ]
    },
    {
      "cell_type": "code",
      "execution_count": 61,
      "id": "a5a73d69",
      "metadata": {},
      "outputs": [],
      "source": [
        "# switch off the system warnings\n",
        "import warnings\n",
        "warnings.simplefilter(\"ignore\", UserWarning)"
      ]
    },
    {
      "attachments": {},
      "cell_type": "markdown",
      "id": "5a96e210",
      "metadata": {},
      "source": [
        "There was connection parameters here."
      ]
    },
    {
      "cell_type": "code",
      "execution_count": 182,
      "id": "G4X_q8KBf7SF",
      "metadata": {
        "id": "G4X_q8KBf7SF"
      },
      "outputs": [],
      "source": [
        "# provide the connection\n",
        "connection = psycopg2.connect(\n",
        "    dbname=DBNAME,\n",
        "    user=USER,\n",
        "    host=HOST,\n",
        "    password=PASSWORD,\n",
        "    port=PORT\n",
        ")"
      ]
    },
    {
      "cell_type": "code",
      "execution_count": 116,
      "id": "e73d4973",
      "metadata": {},
      "outputs": [],
      "source": [
        "def get_df(query, connect):\n",
        "    \"\"\"function to get dataframe by a sql-query\"\"\"\n",
        "    \n",
        "    df = pd.read_sql_query(query, connect)\n",
        "    \n",
        "    return df"
      ]
    },
    {
      "attachments": {},
      "cell_type": "markdown",
      "id": "0dc6476b-7a00-44f1-ac93-6e3baed33a29",
      "metadata": {
        "id": "0dc6476b-7a00-44f1-ac93-6e3baed33a29"
      },
      "source": [
        "## <center> **Preliminary Data Analysis**"
      ]
    },
    {
      "cell_type": "code",
      "execution_count": 146,
      "id": "bc39e68e-ed02-4ee2-9235-7258a2f867a8",
      "metadata": {
        "id": "bc39e68e-ed02-4ee2-9235-7258a2f867a8"
      },
      "outputs": [
        {
          "data": {
            "text/html": [
              "<div>\n",
              "<style scoped>\n",
              "    .dataframe tbody tr th:only-of-type {\n",
              "        vertical-align: middle;\n",
              "    }\n",
              "\n",
              "    .dataframe tbody tr th {\n",
              "        vertical-align: top;\n",
              "    }\n",
              "\n",
              "    .dataframe thead th {\n",
              "        text-align: right;\n",
              "    }\n",
              "</style>\n",
              "<table border=\"1\" class=\"dataframe\">\n",
              "  <thead>\n",
              "    <tr style=\"text-align: right;\">\n",
              "      <th></th>\n",
              "      <th>vacancies_count</th>\n",
              "    </tr>\n",
              "  </thead>\n",
              "  <tbody>\n",
              "    <tr>\n",
              "      <th>0</th>\n",
              "      <td>49197</td>\n",
              "    </tr>\n",
              "  </tbody>\n",
              "</table>\n",
              "</div>"
            ],
            "text/plain": [
              "   vacancies_count\n",
              "0            49197"
            ]
          },
          "execution_count": 146,
          "metadata": {},
          "output_type": "execute_result"
        }
      ],
      "source": [
        "# find the total number of vacancies\n",
        "query_vacancies = f'''\n",
        "    select count(*) as vacancies_count\n",
        "    from vacancies\n",
        "'''\n",
        "\n",
        "# create a df\n",
        "count_vacancies = get_df(query_vacancies, connection)\n",
        "count_vacancies"
      ]
    },
    {
      "cell_type": "code",
      "execution_count": 145,
      "id": "5408c52c-3407-4a63-b25b-1aafa2322d28",
      "metadata": {
        "id": "5408c52c-3407-4a63-b25b-1aafa2322d28"
      },
      "outputs": [
        {
          "data": {
            "text/html": [
              "<div>\n",
              "<style scoped>\n",
              "    .dataframe tbody tr th:only-of-type {\n",
              "        vertical-align: middle;\n",
              "    }\n",
              "\n",
              "    .dataframe tbody tr th {\n",
              "        vertical-align: top;\n",
              "    }\n",
              "\n",
              "    .dataframe thead th {\n",
              "        text-align: right;\n",
              "    }\n",
              "</style>\n",
              "<table border=\"1\" class=\"dataframe\">\n",
              "  <thead>\n",
              "    <tr style=\"text-align: right;\">\n",
              "      <th></th>\n",
              "      <th>employers_count</th>\n",
              "    </tr>\n",
              "  </thead>\n",
              "  <tbody>\n",
              "    <tr>\n",
              "      <th>0</th>\n",
              "      <td>23501</td>\n",
              "    </tr>\n",
              "  </tbody>\n",
              "</table>\n",
              "</div>"
            ],
            "text/plain": [
              "   employers_count\n",
              "0            23501"
            ]
          },
          "execution_count": 145,
          "metadata": {},
          "output_type": "execute_result"
        }
      ],
      "source": [
        "# find the total number of employers\n",
        "query_employers = f'''\n",
        "    select count(name) as employers_count\n",
        "    from employers\n",
        "'''\n",
        "\n",
        "count_employers = get_df(query_employers, connection)\n",
        "count_employers"
      ]
    },
    {
      "cell_type": "code",
      "execution_count": 148,
      "id": "1m8QJwBYhey6",
      "metadata": {
        "id": "1m8QJwBYhey6"
      },
      "outputs": [
        {
          "data": {
            "text/html": [
              "<div>\n",
              "<style scoped>\n",
              "    .dataframe tbody tr th:only-of-type {\n",
              "        vertical-align: middle;\n",
              "    }\n",
              "\n",
              "    .dataframe tbody tr th {\n",
              "        vertical-align: top;\n",
              "    }\n",
              "\n",
              "    .dataframe thead th {\n",
              "        text-align: right;\n",
              "    }\n",
              "</style>\n",
              "<table border=\"1\" class=\"dataframe\">\n",
              "  <thead>\n",
              "    <tr style=\"text-align: right;\">\n",
              "      <th></th>\n",
              "      <th>areas_count</th>\n",
              "    </tr>\n",
              "  </thead>\n",
              "  <tbody>\n",
              "    <tr>\n",
              "      <th>0</th>\n",
              "      <td>1362</td>\n",
              "    </tr>\n",
              "  </tbody>\n",
              "</table>\n",
              "</div>"
            ],
            "text/plain": [
              "   areas_count\n",
              "0         1362"
            ]
          },
          "execution_count": 148,
          "metadata": {},
          "output_type": "execute_result"
        }
      ],
      "source": [
        "# find the number of regions represented\n",
        "query_areas = f'''\n",
        "    select count(areas) as areas_count\n",
        "    from areas\n",
        "'''\n",
        "\n",
        "count_areas = get_df(query_areas, connection)\n",
        "count_areas"
      ]
    },
    {
      "cell_type": "code",
      "execution_count": 348,
      "id": "d286cf4c-707b-4cd2-9190-7ab3587d04a1",
      "metadata": {
        "id": "d286cf4c-707b-4cd2-9190-7ab3587d04a1"
      },
      "outputs": [
        {
          "data": {
            "text/html": [
              "<div>\n",
              "<style scoped>\n",
              "    .dataframe tbody tr th:only-of-type {\n",
              "        vertical-align: middle;\n",
              "    }\n",
              "\n",
              "    .dataframe tbody tr th {\n",
              "        vertical-align: top;\n",
              "    }\n",
              "\n",
              "    .dataframe thead th {\n",
              "        text-align: right;\n",
              "    }\n",
              "</style>\n",
              "<table border=\"1\" class=\"dataframe\">\n",
              "  <thead>\n",
              "    <tr style=\"text-align: right;\">\n",
              "      <th></th>\n",
              "      <th>industries</th>\n",
              "    </tr>\n",
              "  </thead>\n",
              "  <tbody>\n",
              "    <tr>\n",
              "      <th>0</th>\n",
              "      <td>294</td>\n",
              "    </tr>\n",
              "  </tbody>\n",
              "</table>\n",
              "</div>"
            ],
            "text/plain": [
              "   industries\n",
              "0         294"
            ]
          },
          "execution_count": 348,
          "metadata": {},
          "output_type": "execute_result"
        }
      ],
      "source": [
        "# let's count the number of industries\n",
        "query_industries = f'''\n",
        "    select count(name) as industries\n",
        "    from industries\n",
        "'''\n",
        "\n",
        "count_industries = get_df(query_industries, connection)\n",
        "count_industries"
      ]
    },
    {
      "attachments": {},
      "cell_type": "markdown",
      "id": "26498e78",
      "metadata": {},
      "source": [
        "It's time to draw some conclusions. Let's do it by a graph."
      ]
    },
    {
      "cell_type": "code",
      "execution_count": 155,
      "id": "8355f74d",
      "metadata": {},
      "outputs": [
        {
          "data": {
            "text/html": [
              "<div>\n",
              "<style scoped>\n",
              "    .dataframe tbody tr th:only-of-type {\n",
              "        vertical-align: middle;\n",
              "    }\n",
              "\n",
              "    .dataframe tbody tr th {\n",
              "        vertical-align: top;\n",
              "    }\n",
              "\n",
              "    .dataframe thead th {\n",
              "        text-align: right;\n",
              "    }\n",
              "</style>\n",
              "<table border=\"1\" class=\"dataframe\">\n",
              "  <thead>\n",
              "    <tr style=\"text-align: right;\">\n",
              "      <th></th>\n",
              "      <th>HeadHunter</th>\n",
              "      <th>Amount</th>\n",
              "    </tr>\n",
              "  </thead>\n",
              "  <tbody>\n",
              "    <tr>\n",
              "      <th>0</th>\n",
              "      <td>Vacancies</td>\n",
              "      <td>49197</td>\n",
              "    </tr>\n",
              "    <tr>\n",
              "      <th>1</th>\n",
              "      <td>Employers</td>\n",
              "      <td>23501</td>\n",
              "    </tr>\n",
              "    <tr>\n",
              "      <th>2</th>\n",
              "      <td>Areas</td>\n",
              "      <td>1362</td>\n",
              "    </tr>\n",
              "    <tr>\n",
              "      <th>3</th>\n",
              "      <td>Industries</td>\n",
              "      <td>294</td>\n",
              "    </tr>\n",
              "  </tbody>\n",
              "</table>\n",
              "</div>"
            ],
            "text/plain": [
              "   HeadHunter  Amount\n",
              "0   Vacancies   49197\n",
              "1   Employers   23501\n",
              "2       Areas    1362\n",
              "3  Industries     294"
            ]
          },
          "execution_count": 155,
          "metadata": {},
          "output_type": "execute_result"
        }
      ],
      "source": [
        "# create a request with union values\n",
        "query_primary_analysis = f'''\n",
        "    select\n",
        "        'Vacancies' as \"HeadHunter\",\n",
        "        count(*) as \"Amount\"\n",
        "    from vacancies\n",
        "            union all\n",
        "    select \n",
        "        'Employers',\n",
        "        count(name)\n",
        "    from employers\n",
        "            union all\n",
        "    select \n",
        "        'Areas',\n",
        "        count(areas)\n",
        "    from areas\n",
        "            union all\n",
        "    select\n",
        "        'Industries',\n",
        "        count(name)\n",
        "    from industries\n",
        "'''\n",
        "\n",
        "# display the result\n",
        "primary_analysis = get_df(query_primary_analysis, connection)\n",
        "primary_analysis"
      ]
    },
    {
      "cell_type": "code",
      "execution_count": 167,
      "id": "a655a722",
      "metadata": {},
      "outputs": [
        {
          "data": {
            "image/png": "[encoded data removed]"
          },
          "metadata": {},
          "output_type": "display_data"
        }
      ],
      "source": [
        "# build a graph\n",
        "hh_bar = px.bar(\n",
        "    data_frame=primary_analysis,\n",
        "    x='HeadHunter',\n",
        "    y='Amount',\n",
        "    color='HeadHunter',\n",
        "    text_auto=True,\n",
        "    title='Coverage of by vacancies, employers, regions and fields of activity',\n",
        "    width=1000\n",
        ")\n",
        "\n",
        "# add a litle changes\n",
        "hh_bar.update_layout(\n",
        "    xaxis_title='HeadHunter data',\n",
        "    title_font_size=20,\n",
        "    title=dict(x=.5, xanchor='center'),\n",
        "    showlegend=False\n",
        ")\n",
        "\n",
        "# picturaze it\n",
        "hh_bar.show('png')"
      ]
    },
    {
      "attachments": {},
      "cell_type": "markdown",
      "id": "6bd2d330",
      "metadata": {},
      "source": [
        "HeadHunter database contains about 50 thousand vacancies from more than 20 thousand employers with almost 300 fields of activity. At the same time, 1362 regions are represented in this platform."
      ]
    },
    {
      "attachments": {},
      "cell_type": "markdown",
      "id": "8d62a9f3-f64e-4fe7-bdac-c4dffa16155e",
      "metadata": {
        "id": "8d62a9f3-f64e-4fe7-bdac-c4dffa16155e"
      },
      "source": [
        "## <center> **Job Analysis**"
      ]
    },
    {
      "attachments": {},
      "cell_type": "markdown",
      "id": "7f46f615",
      "metadata": {},
      "source": [
        "Find out the number of vacancies by region."
      ]
    },
    {
      "cell_type": "code",
      "execution_count": 184,
      "id": "3f069da6-fdc9-4ae7-b514-fafe2675efd3",
      "metadata": {
        "id": "3f069da6-fdc9-4ae7-b514-fafe2675efd3"
      },
      "outputs": [
        {
          "data": {
            "text/html": [
              "<div>\n",
              "<style scoped>\n",
              "    .dataframe tbody tr th:only-of-type {\n",
              "        vertical-align: middle;\n",
              "    }\n",
              "\n",
              "    .dataframe tbody tr th {\n",
              "        vertical-align: top;\n",
              "    }\n",
              "\n",
              "    .dataframe thead th {\n",
              "        text-align: right;\n",
              "    }\n",
              "</style>\n",
              "<table border=\"1\" class=\"dataframe\">\n",
              "  <thead>\n",
              "    <tr style=\"text-align: right;\">\n",
              "      <th></th>\n",
              "      <th>name</th>\n",
              "      <th>vacancies_count</th>\n",
              "    </tr>\n",
              "  </thead>\n",
              "  <tbody>\n",
              "    <tr>\n",
              "      <th>0</th>\n",
              "      <td>Москва</td>\n",
              "      <td>5333</td>\n",
              "    </tr>\n",
              "    <tr>\n",
              "      <th>1</th>\n",
              "      <td>Санкт-Петербург</td>\n",
              "      <td>2851</td>\n",
              "    </tr>\n",
              "    <tr>\n",
              "      <th>2</th>\n",
              "      <td>Минск</td>\n",
              "      <td>2112</td>\n",
              "    </tr>\n",
              "    <tr>\n",
              "      <th>3</th>\n",
              "      <td>Новосибирск</td>\n",
              "      <td>2006</td>\n",
              "    </tr>\n",
              "    <tr>\n",
              "      <th>4</th>\n",
              "      <td>Алматы</td>\n",
              "      <td>1892</td>\n",
              "    </tr>\n",
              "  </tbody>\n",
              "</table>\n",
              "</div>"
            ],
            "text/plain": [
              "              name  vacancies_count\n",
              "0           Москва             5333\n",
              "1  Санкт-Петербург             2851\n",
              "2            Минск             2112\n",
              "3      Новосибирск             2006\n",
              "4           Алматы             1892"
            ]
          },
          "execution_count": 184,
          "metadata": {},
          "output_type": "execute_result"
        }
      ],
      "source": [
        "# pull request\n",
        "query_vacancies_area = f'''\n",
        "    select\n",
        "        a.name,\n",
        "        count(v.name) as vacancies_count\n",
        "    from vacancies as v\n",
        "    join areas as a on v.area_id=a.id\n",
        "    group by a.name\n",
        "    order by count(v.name) desc\n",
        "'''\n",
        "\n",
        "# create a df\n",
        "vacancies_in_area = get_df(query_vacancies_area, connection)\n",
        "\n",
        "# displya top 5\n",
        "vacancies_in_area.head()"
      ]
    },
    {
      "cell_type": "code",
      "execution_count": 188,
      "id": "aeda7632",
      "metadata": {},
      "outputs": [
        {
          "data": {
            "image/png": "[encoded data removed]"
          },
          "metadata": {},
          "output_type": "display_data"
        }
      ],
      "source": [
        "# reduce this sample to top 10\n",
        "vacancies_in_area = vacancies_in_area.head(10)\n",
        "\n",
        "# build a graph\n",
        "vacancies_in_area_bar = px.bar(\n",
        "    data_frame=vacancies_in_area,\n",
        "    x='name',\n",
        "    y='vacancies_count',\n",
        "    color='name',\n",
        "    text_auto=True,\n",
        "    title='Number of vacancies by the region',\n",
        "    width=1000\n",
        ")\n",
        "\n",
        "# add names\n",
        "vacancies_in_area_bar.update_layout(\n",
        "    title=dict(x=.5, xanchor='center'),\n",
        "    xaxis_title='Region',\n",
        "    yaxis_title='Number of vacancies',\n",
        "    title_font_size=20,\n",
        "    showlegend=False\n",
        ")\n",
        "\n",
        "# show the graph\n",
        "vacancies_in_area_bar.show('png')"
      ]
    },
    {
      "attachments": {},
      "cell_type": "markdown",
      "id": "c177cebf",
      "metadata": {},
      "source": [
        "Let's find out the number of vacancies in which at least one of the salary range is filled."
      ]
    },
    {
      "cell_type": "code",
      "execution_count": 350,
      "id": "0c44b350-72eb-4d65-8b54-a1fc449ba9fd",
      "metadata": {
        "id": "0c44b350-72eb-4d65-8b54-a1fc449ba9fd"
      },
      "outputs": [
        {
          "data": {
            "text/html": [
              "<div>\n",
              "<style scoped>\n",
              "    .dataframe tbody tr th:only-of-type {\n",
              "        vertical-align: middle;\n",
              "    }\n",
              "\n",
              "    .dataframe tbody tr th {\n",
              "        vertical-align: top;\n",
              "    }\n",
              "\n",
              "    .dataframe thead th {\n",
              "        text-align: right;\n",
              "    }\n",
              "</style>\n",
              "<table border=\"1\" class=\"dataframe\">\n",
              "  <thead>\n",
              "    <tr style=\"text-align: right;\">\n",
              "      <th></th>\n",
              "      <th>salary_cap_filled</th>\n",
              "    </tr>\n",
              "  </thead>\n",
              "  <tbody>\n",
              "    <tr>\n",
              "      <th>0</th>\n",
              "      <td>24073</td>\n",
              "    </tr>\n",
              "  </tbody>\n",
              "</table>\n",
              "</div>"
            ],
            "text/plain": [
              "   salary_cap_filled\n",
              "0              24073"
            ]
          },
          "execution_count": 350,
          "metadata": {},
          "output_type": "execute_result"
        }
      ],
      "source": [
        "# pull the request\n",
        "query_salary_range = f'''\n",
        "    select\n",
        "        count(*) as salary_cap_filled\n",
        "    from vacancies\n",
        "    where (salary_from is not null)\n",
        "        or (salary_to is not null)\n",
        "'''\n",
        "\n",
        "# display it\n",
        "have_salary_range = get_df(query_salary_range, connection)\n",
        "have_salary_range"
      ]
    },
    {
      "attachments": {},
      "cell_type": "markdown",
      "id": "b0a0a7bc",
      "metadata": {},
      "source": [
        "Let's calculate the average value of the lower and the upper bound of a salary range."
      ]
    },
    {
      "cell_type": "code",
      "execution_count": 190,
      "id": "603cdbe4-0ec3-4106-8eaf-c73fcdd29165",
      "metadata": {
        "id": "603cdbe4-0ec3-4106-8eaf-c73fcdd29165"
      },
      "outputs": [
        {
          "data": {
            "text/html": [
              "<div>\n",
              "<style scoped>\n",
              "    .dataframe tbody tr th:only-of-type {\n",
              "        vertical-align: middle;\n",
              "    }\n",
              "\n",
              "    .dataframe tbody tr th {\n",
              "        vertical-align: top;\n",
              "    }\n",
              "\n",
              "    .dataframe thead th {\n",
              "        text-align: right;\n",
              "    }\n",
              "</style>\n",
              "<table border=\"1\" class=\"dataframe\">\n",
              "  <thead>\n",
              "    <tr style=\"text-align: right;\">\n",
              "      <th></th>\n",
              "      <th>Salary range</th>\n",
              "      <th>avg_salary</th>\n",
              "    </tr>\n",
              "  </thead>\n",
              "  <tbody>\n",
              "    <tr>\n",
              "      <th>0</th>\n",
              "      <td>Average lower bound</td>\n",
              "      <td>71065.0</td>\n",
              "    </tr>\n",
              "    <tr>\n",
              "      <th>1</th>\n",
              "      <td>Average upper bound</td>\n",
              "      <td>110537.0</td>\n",
              "    </tr>\n",
              "  </tbody>\n",
              "</table>\n",
              "</div>"
            ],
            "text/plain": [
              "          Salary range  avg_salary\n",
              "0  Average lower bound     71065.0\n",
              "1  Average upper bound    110537.0"
            ]
          },
          "execution_count": 190,
          "metadata": {},
          "output_type": "execute_result"
        }
      ],
      "source": [
        "# pull the request\n",
        "query_avg_salary_bound = f'''\n",
        "    select\n",
        "        'Average lower bound' as \"Salary range\",\n",
        "        round(avg(salary_from)) avg_salary\n",
        "    from vacancies\n",
        "    where (salary_from is not null)\n",
        "        or (salary_to is not null)\n",
        "    \n",
        "        union all\n",
        "    \n",
        "    select\n",
        "        'Average upper bound',\n",
        "        round(avg(salary_to))\n",
        "    from vacancies\n",
        "    where (salary_from is not null)\n",
        "        or (salary_to is not null)\n",
        "'''\n",
        "\n",
        "# display it\n",
        "avg_salary_bound = get_df(query_avg_salary_bound, connection)\n",
        "avg_salary_bound"
      ]
    },
    {
      "attachments": {},
      "cell_type": "markdown",
      "id": "fc8e849e",
      "metadata": {},
      "source": [
        "Find out the number of vacancies for all options for a combination of work schedule and type of employment."
      ]
    },
    {
      "cell_type": "code",
      "execution_count": 191,
      "id": "1ea710ec-871b-431e-9462-c7d0fd87011b",
      "metadata": {
        "id": "1ea710ec-871b-431e-9462-c7d0fd87011b"
      },
      "outputs": [
        {
          "data": {
            "text/html": [
              "<div>\n",
              "<style scoped>\n",
              "    .dataframe tbody tr th:only-of-type {\n",
              "        vertical-align: middle;\n",
              "    }\n",
              "\n",
              "    .dataframe tbody tr th {\n",
              "        vertical-align: top;\n",
              "    }\n",
              "\n",
              "    .dataframe thead th {\n",
              "        text-align: right;\n",
              "    }\n",
              "</style>\n",
              "<table border=\"1\" class=\"dataframe\">\n",
              "  <thead>\n",
              "    <tr style=\"text-align: right;\">\n",
              "      <th></th>\n",
              "      <th>schedule</th>\n",
              "      <th>employment</th>\n",
              "      <th>vacancies_count</th>\n",
              "    </tr>\n",
              "  </thead>\n",
              "  <tbody>\n",
              "    <tr>\n",
              "      <th>0</th>\n",
              "      <td>Полный день</td>\n",
              "      <td>Полная занятость</td>\n",
              "      <td>35367</td>\n",
              "    </tr>\n",
              "    <tr>\n",
              "      <th>1</th>\n",
              "      <td>Удаленная работа</td>\n",
              "      <td>Полная занятость</td>\n",
              "      <td>7802</td>\n",
              "    </tr>\n",
              "    <tr>\n",
              "      <th>2</th>\n",
              "      <td>Гибкий график</td>\n",
              "      <td>Полная занятость</td>\n",
              "      <td>1593</td>\n",
              "    </tr>\n",
              "    <tr>\n",
              "      <th>3</th>\n",
              "      <td>Удаленная работа</td>\n",
              "      <td>Частичная занятость</td>\n",
              "      <td>1312</td>\n",
              "    </tr>\n",
              "    <tr>\n",
              "      <th>4</th>\n",
              "      <td>Сменный график</td>\n",
              "      <td>Полная занятость</td>\n",
              "      <td>940</td>\n",
              "    </tr>\n",
              "  </tbody>\n",
              "</table>\n",
              "</div>"
            ],
            "text/plain": [
              "           schedule           employment  vacancies_count\n",
              "0       Полный день     Полная занятость            35367\n",
              "1  Удаленная работа     Полная занятость             7802\n",
              "2     Гибкий график     Полная занятость             1593\n",
              "3  Удаленная работа  Частичная занятость             1312\n",
              "4    Сменный график     Полная занятость              940"
            ]
          },
          "execution_count": 191,
          "metadata": {},
          "output_type": "execute_result"
        }
      ],
      "source": [
        "# pull the request\n",
        "query_schedule_employment = f'''\n",
        "    select\n",
        "        schedule,\n",
        "        employment,\n",
        "        count(id) as vacancies_count\n",
        "    from vacancies\n",
        "    group by schedule, employment\n",
        "    order by count(id) desc\n",
        "'''\n",
        "\n",
        "# display the top 5\n",
        "schedule_employment = get_df(query_schedule_employment, connection)\n",
        "schedule_employment.head()"
      ]
    },
    {
      "attachments": {},
      "cell_type": "markdown",
      "id": "1c9eaa9b",
      "metadata": {},
      "source": [
        "Let's estimate the distribution of vacancies by work experience."
      ]
    },
    {
      "cell_type": "code",
      "execution_count": 192,
      "id": "5b3a8e79-f7ab-4008-b767-12aea3a205ea",
      "metadata": {
        "id": "5b3a8e79-f7ab-4008-b767-12aea3a205ea"
      },
      "outputs": [
        {
          "data": {
            "text/html": [
              "<div>\n",
              "<style scoped>\n",
              "    .dataframe tbody tr th:only-of-type {\n",
              "        vertical-align: middle;\n",
              "    }\n",
              "\n",
              "    .dataframe tbody tr th {\n",
              "        vertical-align: top;\n",
              "    }\n",
              "\n",
              "    .dataframe thead th {\n",
              "        text-align: right;\n",
              "    }\n",
              "</style>\n",
              "<table border=\"1\" class=\"dataframe\">\n",
              "  <thead>\n",
              "    <tr style=\"text-align: right;\">\n",
              "      <th></th>\n",
              "      <th>experience</th>\n",
              "      <th>vacancies_count</th>\n",
              "    </tr>\n",
              "  </thead>\n",
              "  <tbody>\n",
              "    <tr>\n",
              "      <th>0</th>\n",
              "      <td>Более 6 лет</td>\n",
              "      <td>1337</td>\n",
              "    </tr>\n",
              "    <tr>\n",
              "      <th>1</th>\n",
              "      <td>Нет опыта</td>\n",
              "      <td>7197</td>\n",
              "    </tr>\n",
              "    <tr>\n",
              "      <th>2</th>\n",
              "      <td>От 3 до 6 лет</td>\n",
              "      <td>14511</td>\n",
              "    </tr>\n",
              "    <tr>\n",
              "      <th>3</th>\n",
              "      <td>От 1 года до 3 лет</td>\n",
              "      <td>26152</td>\n",
              "    </tr>\n",
              "  </tbody>\n",
              "</table>\n",
              "</div>"
            ],
            "text/plain": [
              "           experience  vacancies_count\n",
              "0         Более 6 лет             1337\n",
              "1           Нет опыта             7197\n",
              "2       От 3 до 6 лет            14511\n",
              "3  От 1 года до 3 лет            26152"
            ]
          },
          "execution_count": 192,
          "metadata": {},
          "output_type": "execute_result"
        }
      ],
      "source": [
        "# pull the request\n",
        "query_experience = f'''\n",
        "    select\n",
        "        experience,\n",
        "        count(id) as vacancies_count\n",
        "    from vacancies\n",
        "    group by experience\n",
        "    order by count(id)\n",
        "'''\n",
        "\n",
        "# display the result\n",
        "experience = get_df(query_experience, connection)\n",
        "experience"
      ]
    },
    {
      "cell_type": "code",
      "execution_count": 352,
      "id": "4242d636",
      "metadata": {},
      "outputs": [
        {
          "data": {
            "image/png": "[encoded data removed]"
          },
          "metadata": {},
          "output_type": "display_data"
        }
      ],
      "source": [
        "# build the graph\n",
        "experience_pie = px.pie(\n",
        "    data_frame=experience,\n",
        "    values='vacancies_count',\n",
        "    names='experience',\n",
        "    title='Distribution of vacancies by the experience',\n",
        "    width=800\n",
        ")\n",
        "\n",
        "# add a little changes\n",
        "experience_pie.update_layout(\n",
        "    title=dict(x=.5, xanchor='center'),\n",
        "    title_font_size=20\n",
        ")\n",
        "\n",
        "# show the graph\n",
        "experience_pie.show('png')"
      ]
    },
    {
      "attachments": {},
      "cell_type": "markdown",
      "id": "514da32d",
      "metadata": {},
      "source": [
        "Conclusions for this stage:  \n",
        "- the largest number of vacancies in large cities with a million inhabitants, with 1st place - the capital of Russia, 3rd - the capital of Belarus, and 5th - Kazakhstan. Thus, the CIS countries are integrated into the search for specialists from Russia;\n",
        "- in less than half of the cases, the vacancy has at least one of the values of the salary range;\n",
        "- the average salary range in this database is from 71 to 110 thousand rubles (1000-1600$);\n",
        "- about 70% are looking for work in the office, about 15% are full-time remote work, and the rest of the categories are much less common;\n",
        "- less than 3% of vacancies are designed for experienced specialists (> 6y), less than 15% of companies are ready for a specialist without experience, and the main search group is middle specialists with more than 1 year of experience."
      ]
    },
    {
      "attachments": {},
      "cell_type": "markdown",
      "id": "7ea20ab6-04a7-40a0-adec-443a0e5a42c3",
      "metadata": {
        "id": "7ea20ab6-04a7-40a0-adec-443a0e5a42c3"
      },
      "source": [
        "## <center> **Employer Analysis**"
      ]
    },
    {
      "attachments": {},
      "cell_type": "markdown",
      "id": "42ea8041",
      "metadata": {},
      "source": [
        "Display the top employers by the number of vacancies."
      ]
    },
    {
      "cell_type": "code",
      "execution_count": 214,
      "id": "f2d62796-d400-4ec1-a675-88112739a50e",
      "metadata": {
        "id": "f2d62796-d400-4ec1-a675-88112739a50e"
      },
      "outputs": [
        {
          "data": {
            "text/html": [
              "<div>\n",
              "<style scoped>\n",
              "    .dataframe tbody tr th:only-of-type {\n",
              "        vertical-align: middle;\n",
              "    }\n",
              "\n",
              "    .dataframe tbody tr th {\n",
              "        vertical-align: top;\n",
              "    }\n",
              "\n",
              "    .dataframe thead th {\n",
              "        text-align: right;\n",
              "    }\n",
              "</style>\n",
              "<table border=\"1\" class=\"dataframe\">\n",
              "  <thead>\n",
              "    <tr style=\"text-align: right;\">\n",
              "      <th></th>\n",
              "      <th>employer</th>\n",
              "      <th>vacancies_count</th>\n",
              "    </tr>\n",
              "  </thead>\n",
              "  <tbody>\n",
              "    <tr>\n",
              "      <th>0</th>\n",
              "      <td>Яндекс</td>\n",
              "      <td>1933</td>\n",
              "    </tr>\n",
              "    <tr>\n",
              "      <th>1</th>\n",
              "      <td>Ростелеком</td>\n",
              "      <td>491</td>\n",
              "    </tr>\n",
              "    <tr>\n",
              "      <th>2</th>\n",
              "      <td>Тинькофф</td>\n",
              "      <td>444</td>\n",
              "    </tr>\n",
              "    <tr>\n",
              "      <th>3</th>\n",
              "      <td>СБЕР</td>\n",
              "      <td>428</td>\n",
              "    </tr>\n",
              "    <tr>\n",
              "      <th>4</th>\n",
              "      <td>Газпром нефть</td>\n",
              "      <td>331</td>\n",
              "    </tr>\n",
              "    <tr>\n",
              "      <th>5</th>\n",
              "      <td>ИК СИБИНТЕК</td>\n",
              "      <td>327</td>\n",
              "    </tr>\n",
              "    <tr>\n",
              "      <th>6</th>\n",
              "      <td>МТС</td>\n",
              "      <td>292</td>\n",
              "    </tr>\n",
              "    <tr>\n",
              "      <th>7</th>\n",
              "      <td>DataArt</td>\n",
              "      <td>247</td>\n",
              "    </tr>\n",
              "    <tr>\n",
              "      <th>8</th>\n",
              "      <td>Совкомбанк Технологии</td>\n",
              "      <td>204</td>\n",
              "    </tr>\n",
              "    <tr>\n",
              "      <th>9</th>\n",
              "      <td>Первый Бит</td>\n",
              "      <td>176</td>\n",
              "    </tr>\n",
              "  </tbody>\n",
              "</table>\n",
              "</div>"
            ],
            "text/plain": [
              "                employer  vacancies_count\n",
              "0                 Яндекс             1933\n",
              "1             Ростелеком              491\n",
              "2               Тинькофф              444\n",
              "3                   СБЕР              428\n",
              "4          Газпром нефть              331\n",
              "5            ИК СИБИНТЕК              327\n",
              "6                    МТС              292\n",
              "7                DataArt              247\n",
              "8  Совкомбанк Технологии              204\n",
              "9             Первый Бит              176"
            ]
          },
          "execution_count": 214,
          "metadata": {},
          "output_type": "execute_result"
        }
      ],
      "source": [
        "# pull the request\n",
        "query_top_employers = f'''\n",
        "    select\n",
        "        e.name as employer,\n",
        "        count(v.id) as vacancies_count\n",
        "    from vacancies as v\n",
        "    join employers as e on v.employer_id=e.id\n",
        "    group by e.name\n",
        "    order by count(v.id) desc\n",
        "    limit 10\n",
        "'''\n",
        "\n",
        "# display the result\n",
        "top_employers = get_df(query_top_employers, connection)\n",
        "top_employers"
      ]
    },
    {
      "attachments": {},
      "cell_type": "markdown",
      "id": "30dd2f24",
      "metadata": {},
      "source": [
        "Write a query that for each region will display the number of employers and vacancies in it."
      ]
    },
    {
      "cell_type": "code",
      "execution_count": 216,
      "id": "dd7df27a-e3e8-412e-a21a-5d389b71e891",
      "metadata": {
        "id": "dd7df27a-e3e8-412e-a21a-5d389b71e891"
      },
      "outputs": [
        {
          "data": {
            "text/html": [
              "<div>\n",
              "<style scoped>\n",
              "    .dataframe tbody tr th:only-of-type {\n",
              "        vertical-align: middle;\n",
              "    }\n",
              "\n",
              "    .dataframe tbody tr th {\n",
              "        vertical-align: top;\n",
              "    }\n",
              "\n",
              "    .dataframe thead th {\n",
              "        text-align: right;\n",
              "    }\n",
              "</style>\n",
              "<table border=\"1\" class=\"dataframe\">\n",
              "  <thead>\n",
              "    <tr style=\"text-align: right;\">\n",
              "      <th></th>\n",
              "      <th>area</th>\n",
              "      <th>employers_count</th>\n",
              "      <th>vacancies_count</th>\n",
              "    </tr>\n",
              "  </thead>\n",
              "  <tbody>\n",
              "    <tr>\n",
              "      <th>0</th>\n",
              "      <td>Москва</td>\n",
              "      <td>2320</td>\n",
              "      <td>5333</td>\n",
              "    </tr>\n",
              "    <tr>\n",
              "      <th>1</th>\n",
              "      <td>Санкт-Петербург</td>\n",
              "      <td>1451</td>\n",
              "      <td>2851</td>\n",
              "    </tr>\n",
              "    <tr>\n",
              "      <th>2</th>\n",
              "      <td>Минск</td>\n",
              "      <td>851</td>\n",
              "      <td>2112</td>\n",
              "    </tr>\n",
              "    <tr>\n",
              "      <th>3</th>\n",
              "      <td>Новосибирск</td>\n",
              "      <td>802</td>\n",
              "      <td>2006</td>\n",
              "    </tr>\n",
              "    <tr>\n",
              "      <th>4</th>\n",
              "      <td>Алматы</td>\n",
              "      <td>798</td>\n",
              "      <td>1892</td>\n",
              "    </tr>\n",
              "    <tr>\n",
              "      <th>5</th>\n",
              "      <td>Екатеринбург</td>\n",
              "      <td>742</td>\n",
              "      <td>1698</td>\n",
              "    </tr>\n",
              "    <tr>\n",
              "      <th>6</th>\n",
              "      <td>Нижний Новгород</td>\n",
              "      <td>657</td>\n",
              "      <td>1670</td>\n",
              "    </tr>\n",
              "    <tr>\n",
              "      <th>7</th>\n",
              "      <td>Казань</td>\n",
              "      <td>609</td>\n",
              "      <td>1415</td>\n",
              "    </tr>\n",
              "    <tr>\n",
              "      <th>8</th>\n",
              "      <td>Краснодар</td>\n",
              "      <td>578</td>\n",
              "      <td>1301</td>\n",
              "    </tr>\n",
              "    <tr>\n",
              "      <th>9</th>\n",
              "      <td>Ростов-на-Дону</td>\n",
              "      <td>487</td>\n",
              "      <td>1131</td>\n",
              "    </tr>\n",
              "  </tbody>\n",
              "</table>\n",
              "</div>"
            ],
            "text/plain": [
              "              area  employers_count  vacancies_count\n",
              "0           Москва             2320             5333\n",
              "1  Санкт-Петербург             1451             2851\n",
              "2            Минск              851             2112\n",
              "3      Новосибирск              802             2006\n",
              "4           Алматы              798             1892\n",
              "5     Екатеринбург              742             1698\n",
              "6  Нижний Новгород              657             1670\n",
              "7           Казань              609             1415\n",
              "8        Краснодар              578             1301\n",
              "9   Ростов-на-Дону              487             1131"
            ]
          },
          "execution_count": 216,
          "metadata": {},
          "output_type": "execute_result"
        }
      ],
      "source": [
        "# pull the request\n",
        "query_employer_in_area = f'''\n",
        "    select\n",
        "        distinct a.name as area,\n",
        "        count(distinct v.employer_id) as employers_count,\n",
        "        count(v.id) as vacancies_count\n",
        "    from areas as a\n",
        "    left join vacancies as v on a.id=v.area_id\n",
        "    group by a.id\n",
        "    order by employers_count desc\n",
        "    limit 10\n",
        "'''\n",
        "\n",
        "employer_in_area = get_df(query_employer_in_area, connection)\n",
        "employer_in_area"
      ]
    },
    {
      "attachments": {},
      "cell_type": "markdown",
      "id": "20dc7c6e",
      "metadata": {},
      "source": [
        "For each employer, count the number of regions in which he publishes his vacancies."
      ]
    },
    {
      "cell_type": "code",
      "execution_count": 219,
      "id": "6271f8ad-bd2e-4196-ae4a-5b39c4c1010e",
      "metadata": {
        "id": "6271f8ad-bd2e-4196-ae4a-5b39c4c1010e"
      },
      "outputs": [
        {
          "data": {
            "text/html": [
              "<div>\n",
              "<style scoped>\n",
              "    .dataframe tbody tr th:only-of-type {\n",
              "        vertical-align: middle;\n",
              "    }\n",
              "\n",
              "    .dataframe tbody tr th {\n",
              "        vertical-align: top;\n",
              "    }\n",
              "\n",
              "    .dataframe thead th {\n",
              "        text-align: right;\n",
              "    }\n",
              "</style>\n",
              "<table border=\"1\" class=\"dataframe\">\n",
              "  <thead>\n",
              "    <tr style=\"text-align: right;\">\n",
              "      <th></th>\n",
              "      <th>name</th>\n",
              "      <th>areas_count</th>\n",
              "    </tr>\n",
              "  </thead>\n",
              "  <tbody>\n",
              "    <tr>\n",
              "      <th>0</th>\n",
              "      <td>Яндекс</td>\n",
              "      <td>181</td>\n",
              "    </tr>\n",
              "    <tr>\n",
              "      <th>1</th>\n",
              "      <td>Ростелеком</td>\n",
              "      <td>152</td>\n",
              "    </tr>\n",
              "    <tr>\n",
              "      <th>2</th>\n",
              "      <td>Спецремонт</td>\n",
              "      <td>116</td>\n",
              "    </tr>\n",
              "    <tr>\n",
              "      <th>3</th>\n",
              "      <td>Поляков Денис Иванович</td>\n",
              "      <td>88</td>\n",
              "    </tr>\n",
              "    <tr>\n",
              "      <th>4</th>\n",
              "      <td>ООО ЕФИН</td>\n",
              "      <td>71</td>\n",
              "    </tr>\n",
              "    <tr>\n",
              "      <th>5</th>\n",
              "      <td>Совкомбанк</td>\n",
              "      <td>63</td>\n",
              "    </tr>\n",
              "    <tr>\n",
              "      <th>6</th>\n",
              "      <td>МТС</td>\n",
              "      <td>55</td>\n",
              "    </tr>\n",
              "    <tr>\n",
              "      <th>7</th>\n",
              "      <td>ЭФКО, Управляющая компания</td>\n",
              "      <td>49</td>\n",
              "    </tr>\n",
              "    <tr>\n",
              "      <th>8</th>\n",
              "      <td>Почта России</td>\n",
              "      <td>48</td>\n",
              "    </tr>\n",
              "    <tr>\n",
              "      <th>9</th>\n",
              "      <td>КРОН</td>\n",
              "      <td>48</td>\n",
              "    </tr>\n",
              "  </tbody>\n",
              "</table>\n",
              "</div>"
            ],
            "text/plain": [
              "                         name  areas_count\n",
              "0                      Яндекс          181\n",
              "1                  Ростелеком          152\n",
              "2                  Спецремонт          116\n",
              "3      Поляков Денис Иванович           88\n",
              "4                   ООО ЕФИН            71\n",
              "5                  Совкомбанк           63\n",
              "6                         МТС           55\n",
              "7  ЭФКО, Управляющая компания           49\n",
              "8                Почта России           48\n",
              "9                        КРОН           48"
            ]
          },
          "execution_count": 219,
          "metadata": {},
          "output_type": "execute_result"
        }
      ],
      "source": [
        "# pull the request\n",
        "query_employers_spread = f'''\n",
        "    select\n",
        "        e.name,\n",
        "        count(distinct v.area_id) as areas_count\n",
        "    from employers as e\n",
        "    join vacancies as v on v.employer_id=e.id\n",
        "    group by e.name\n",
        "    order by count(distinct v.area_id) desc\n",
        "    limit 10\n",
        "'''\n",
        "\n",
        "# display the result\n",
        "employers_spread = get_df(query_employers_spread, connection)\n",
        "employers_spread"
      ]
    },
    {
      "attachments": {},
      "cell_type": "markdown",
      "id": "0ad2aa03",
      "metadata": {},
      "source": [
        "Write a query to count the number of employers who do not have a field of activity"
      ]
    },
    {
      "cell_type": "code",
      "execution_count": 353,
      "id": "80defb23-bfb1-4a18-8be6-bf36aa7165d5",
      "metadata": {
        "id": "80defb23-bfb1-4a18-8be6-bf36aa7165d5"
      },
      "outputs": [
        {
          "data": {
            "text/html": [
              "<div>\n",
              "<style scoped>\n",
              "    .dataframe tbody tr th:only-of-type {\n",
              "        vertical-align: middle;\n",
              "    }\n",
              "\n",
              "    .dataframe tbody tr th {\n",
              "        vertical-align: top;\n",
              "    }\n",
              "\n",
              "    .dataframe thead th {\n",
              "        text-align: right;\n",
              "    }\n",
              "</style>\n",
              "<table border=\"1\" class=\"dataframe\">\n",
              "  <thead>\n",
              "    <tr style=\"text-align: right;\">\n",
              "      <th></th>\n",
              "      <th>empty_industries</th>\n",
              "    </tr>\n",
              "  </thead>\n",
              "  <tbody>\n",
              "    <tr>\n",
              "      <th>0</th>\n",
              "      <td>8419</td>\n",
              "    </tr>\n",
              "  </tbody>\n",
              "</table>\n",
              "</div>"
            ],
            "text/plain": [
              "   empty_industries\n",
              "0              8419"
            ]
          },
          "execution_count": 353,
          "metadata": {},
          "output_type": "execute_result"
        }
      ],
      "source": [
        "# pull the request\n",
        "query_industries_null = f'''\n",
        "    select\n",
        "        count(*) as empty_industries\n",
        "    from employers as e \n",
        "    left join employers_industries as ei on e.id=ei.employer_id\n",
        "    where industry_id is null\n",
        "'''\n",
        "\n",
        "count_null_industries = get_df(query_industries_null, connection)\n",
        "count_null_industries"
      ]
    },
    {
      "attachments": {},
      "cell_type": "markdown",
      "id": "84549b59",
      "metadata": {},
      "source": [
        "Write a query to find out companies that have four areas of activity."
      ]
    },
    {
      "cell_type": "code",
      "execution_count": 354,
      "id": "973b0cfc-a972-470a-8b4a-68744ef220c4",
      "metadata": {
        "id": "973b0cfc-a972-470a-8b4a-68744ef220c4"
      },
      "outputs": [
        {
          "data": {
            "text/html": [
              "<div>\n",
              "<style scoped>\n",
              "    .dataframe tbody tr th:only-of-type {\n",
              "        vertical-align: middle;\n",
              "    }\n",
              "\n",
              "    .dataframe tbody tr th {\n",
              "        vertical-align: top;\n",
              "    }\n",
              "\n",
              "    .dataframe thead th {\n",
              "        text-align: right;\n",
              "    }\n",
              "</style>\n",
              "<table border=\"1\" class=\"dataframe\">\n",
              "  <thead>\n",
              "    <tr style=\"text-align: right;\">\n",
              "      <th></th>\n",
              "      <th>company_name</th>\n",
              "      <th>industries_count</th>\n",
              "    </tr>\n",
              "  </thead>\n",
              "  <tbody>\n",
              "    <tr>\n",
              "      <th>0</th>\n",
              "      <td>101 Интернет</td>\n",
              "      <td>4</td>\n",
              "    </tr>\n",
              "    <tr>\n",
              "      <th>1</th>\n",
              "      <td>21vek.by</td>\n",
              "      <td>4</td>\n",
              "    </tr>\n",
              "    <tr>\n",
              "      <th>2</th>\n",
              "      <td>2ГИС</td>\n",
              "      <td>4</td>\n",
              "    </tr>\n",
              "    <tr>\n",
              "      <th>3</th>\n",
              "      <td>2К</td>\n",
              "      <td>4</td>\n",
              "    </tr>\n",
              "    <tr>\n",
              "      <th>4</th>\n",
              "      <td>4 пикселя +</td>\n",
              "      <td>4</td>\n",
              "    </tr>\n",
              "    <tr>\n",
              "      <th>5</th>\n",
              "      <td>5lb</td>\n",
              "      <td>4</td>\n",
              "    </tr>\n",
              "    <tr>\n",
              "      <th>6</th>\n",
              "      <td>5 Армия</td>\n",
              "      <td>4</td>\n",
              "    </tr>\n",
              "    <tr>\n",
              "      <th>7</th>\n",
              "      <td>741 Studios</td>\n",
              "      <td>4</td>\n",
              "    </tr>\n",
              "    <tr>\n",
              "      <th>8</th>\n",
              "      <td>AAEngineering Group</td>\n",
              "      <td>4</td>\n",
              "    </tr>\n",
              "    <tr>\n",
              "      <th>9</th>\n",
              "      <td>ADAPTER</td>\n",
              "      <td>4</td>\n",
              "    </tr>\n",
              "  </tbody>\n",
              "</table>\n",
              "</div>"
            ],
            "text/plain": [
              "          company_name  industries_count\n",
              "0         101 Интернет                 4\n",
              "1             21vek.by                 4\n",
              "2                 2ГИС                 4\n",
              "3                   2К                 4\n",
              "4          4 пикселя +                 4\n",
              "5                  5lb                 4\n",
              "6              5 Армия                 4\n",
              "7          741 Studios                 4\n",
              "8  AAEngineering Group                 4\n",
              "9              ADAPTER                 4"
            ]
          },
          "execution_count": 354,
          "metadata": {},
          "output_type": "execute_result"
        }
      ],
      "source": [
        "# pull the request\n",
        "query_employer_industries = f'''\n",
        "    select\n",
        "        e.name as company_name,\n",
        "        count(ei.industry_id) as industries_count\n",
        "    from employers as e \n",
        "    left join employers_industries as ei on e.id=ei.employer_id\n",
        "    group by e.name\n",
        "    having count(ei.industry_id)=4\n",
        "    order by e.name\n",
        "    limit 10\n",
        "'''\n",
        "\n",
        "# display the result\n",
        "employer_industries = get_df(query_employer_industries, connection)\n",
        "employer_industries"
      ]
    },
    {
      "attachments": {},
      "cell_type": "markdown",
      "id": "3bfcfdaf-755d-4d2b-8ed8-326201dc07ab",
      "metadata": {
        "id": "3bfcfdaf-755d-4d2b-8ed8-326201dc07ab"
      },
      "source": [
        "Find out how many employers have Software Development listed as their occupation.\n"
      ]
    },
    {
      "cell_type": "code",
      "execution_count": 355,
      "id": "ad3f270f-2991-47eb-929b-e8f88a55b0d1",
      "metadata": {
        "id": "ad3f270f-2991-47eb-929b-e8f88a55b0d1"
      },
      "outputs": [
        {
          "data": {
            "text/html": [
              "<div>\n",
              "<style scoped>\n",
              "    .dataframe tbody tr th:only-of-type {\n",
              "        vertical-align: middle;\n",
              "    }\n",
              "\n",
              "    .dataframe tbody tr th {\n",
              "        vertical-align: top;\n",
              "    }\n",
              "\n",
              "    .dataframe thead th {\n",
              "        text-align: right;\n",
              "    }\n",
              "</style>\n",
              "<table border=\"1\" class=\"dataframe\">\n",
              "  <thead>\n",
              "    <tr style=\"text-align: right;\">\n",
              "      <th></th>\n",
              "      <th>software_dev</th>\n",
              "    </tr>\n",
              "  </thead>\n",
              "  <tbody>\n",
              "    <tr>\n",
              "      <th>0</th>\n",
              "      <td>3553</td>\n",
              "    </tr>\n",
              "  </tbody>\n",
              "</table>\n",
              "</div>"
            ],
            "text/plain": [
              "   software_dev\n",
              "0          3553"
            ]
          },
          "execution_count": 355,
          "metadata": {},
          "output_type": "execute_result"
        }
      ],
      "source": [
        "# pull the request\n",
        "query_count_software_dev = f'''\n",
        "    select\n",
        "        count(*) as software_dev\n",
        "    from employers_industries as ei\n",
        "    join employers as e on e.id=ei.employer_id\n",
        "    join industries as i on i.id=ei.industry_id\n",
        "    where i.name like 'Разработка программного обеспечения'\n",
        "'''\n",
        "\n",
        "# display the result\n",
        "count_software_dev = get_df(query_count_software_dev, connection)\n",
        "count_software_dev"
      ]
    },
    {
      "attachments": {},
      "cell_type": "markdown",
      "id": "19215a20",
      "metadata": {},
      "source": [
        "For the Yandex company, display a list of million-plus regions in which the company's vacancies are presented, along with the number of vacancies in these regions.  \n",
        "Also add the line Total with the total number of vacancies in the company."
      ]
    },
    {
      "cell_type": "code",
      "execution_count": 357,
      "id": "ZdfrL6gIs1Pn",
      "metadata": {
        "id": "ZdfrL6gIs1Pn"
      },
      "outputs": [
        {
          "data": {
            "text/html": [
              "<div>\n",
              "<style scoped>\n",
              "    .dataframe tbody tr th:only-of-type {\n",
              "        vertical-align: middle;\n",
              "    }\n",
              "\n",
              "    .dataframe tbody tr th {\n",
              "        vertical-align: top;\n",
              "    }\n",
              "\n",
              "    .dataframe thead th {\n",
              "        text-align: right;\n",
              "    }\n",
              "</style>\n",
              "<table border=\"1\" class=\"dataframe\">\n",
              "  <thead>\n",
              "    <tr style=\"text-align: right;\">\n",
              "      <th></th>\n",
              "      <th>area_name</th>\n",
              "      <th>vacancies_count</th>\n",
              "    </tr>\n",
              "  </thead>\n",
              "  <tbody>\n",
              "    <tr>\n",
              "      <th>0</th>\n",
              "      <td>Total</td>\n",
              "      <td>485</td>\n",
              "    </tr>\n",
              "    <tr>\n",
              "      <th>1</th>\n",
              "      <td>Москва</td>\n",
              "      <td>54</td>\n",
              "    </tr>\n",
              "    <tr>\n",
              "      <th>2</th>\n",
              "      <td>Санкт-Петербург</td>\n",
              "      <td>42</td>\n",
              "    </tr>\n",
              "    <tr>\n",
              "      <th>3</th>\n",
              "      <td>Екатеринбург</td>\n",
              "      <td>39</td>\n",
              "    </tr>\n",
              "    <tr>\n",
              "      <th>4</th>\n",
              "      <td>Нижний Новгород</td>\n",
              "      <td>36</td>\n",
              "    </tr>\n",
              "    <tr>\n",
              "      <th>5</th>\n",
              "      <td>Новосибирск</td>\n",
              "      <td>35</td>\n",
              "    </tr>\n",
              "    <tr>\n",
              "      <th>6</th>\n",
              "      <td>Воронеж</td>\n",
              "      <td>32</td>\n",
              "    </tr>\n",
              "    <tr>\n",
              "      <th>7</th>\n",
              "      <td>Краснодар</td>\n",
              "      <td>30</td>\n",
              "    </tr>\n",
              "    <tr>\n",
              "      <th>8</th>\n",
              "      <td>Самара</td>\n",
              "      <td>26</td>\n",
              "    </tr>\n",
              "    <tr>\n",
              "      <th>9</th>\n",
              "      <td>Уфа</td>\n",
              "      <td>26</td>\n",
              "    </tr>\n",
              "    <tr>\n",
              "      <th>10</th>\n",
              "      <td>Казань</td>\n",
              "      <td>25</td>\n",
              "    </tr>\n",
              "    <tr>\n",
              "      <th>11</th>\n",
              "      <td>Пермь</td>\n",
              "      <td>25</td>\n",
              "    </tr>\n",
              "    <tr>\n",
              "      <th>12</th>\n",
              "      <td>Ростов-на-Дону</td>\n",
              "      <td>25</td>\n",
              "    </tr>\n",
              "    <tr>\n",
              "      <th>13</th>\n",
              "      <td>Волгоград</td>\n",
              "      <td>24</td>\n",
              "    </tr>\n",
              "    <tr>\n",
              "      <th>14</th>\n",
              "      <td>Красноярск</td>\n",
              "      <td>23</td>\n",
              "    </tr>\n",
              "    <tr>\n",
              "      <th>15</th>\n",
              "      <td>Челябинск</td>\n",
              "      <td>22</td>\n",
              "    </tr>\n",
              "    <tr>\n",
              "      <th>16</th>\n",
              "      <td>Омск</td>\n",
              "      <td>21</td>\n",
              "    </tr>\n",
              "  </tbody>\n",
              "</table>\n",
              "</div>"
            ],
            "text/plain": [
              "          area_name  vacancies_count\n",
              "0             Total              485\n",
              "1            Москва               54\n",
              "2   Санкт-Петербург               42\n",
              "3      Екатеринбург               39\n",
              "4   Нижний Новгород               36\n",
              "5       Новосибирск               35\n",
              "6           Воронеж               32\n",
              "7         Краснодар               30\n",
              "8            Самара               26\n",
              "9               Уфа               26\n",
              "10           Казань               25\n",
              "11            Пермь               25\n",
              "12   Ростов-на-Дону               25\n",
              "13        Волгоград               24\n",
              "14       Красноярск               23\n",
              "15        Челябинск               22\n",
              "16             Омск               21"
            ]
          },
          "execution_count": 357,
          "metadata": {},
          "output_type": "execute_result"
        }
      ],
      "source": [
        "# pull this request\n",
        "query_yandex = f'''\n",
        "    (select\n",
        "        a.name as area_name,\n",
        "        count(v.id) as vacancies_count\n",
        "    from vacancies as v\n",
        "    join employers as e on v.employer_id=e.id\n",
        "    join areas as a on v.area_id=a.id\n",
        "    where e.name='Яндекс'\n",
        "        and a.name in ('Москва', 'Санкт-Петербург', 'Новосибирск', 'Екатеринбург', -- million-plus cities\n",
        "        'Казань', 'Нижний Новгород', 'Челябинск', 'Красноярск', 'Самара', 'Уфа',\n",
        "        'Ростов-на-Дону', 'Омск', 'Краснодар', 'Воронеж', 'Пермь', 'Волгоград')\n",
        "    group by a.name\n",
        "    order by count(v.id) desc)\n",
        "    \n",
        "        UNION ALL \n",
        "\n",
        "    select\n",
        "        'Total',\n",
        "        count(v.id) as vacancies_count\n",
        "    from vacancies as v\n",
        "    join employers as e on v.employer_id=e.id\n",
        "    join areas as a on v.area_id=a.id\n",
        "    where e.name='Яндекс'\n",
        "        and a.name in ('Москва', 'Санкт-Петербург', 'Новосибирск', 'Екатеринбург', -- million-plus cities\n",
        "        'Казань', 'Нижний Новгород', 'Челябинск', 'Красноярск', 'Самара', 'Уфа',\n",
        "        'Ростов-на-Дону', 'Омск', 'Краснодар', 'Воронеж', 'Пермь', 'Волгоград')\n",
        "    group by e.name\n",
        "'''\n",
        "\n",
        "# display the result\n",
        "yandex = get_df(query_yandex, connection)\n",
        "yandex"
      ]
    },
    {
      "attachments": {},
      "cell_type": "markdown",
      "id": "a103d02b",
      "metadata": {},
      "source": [
        "The most common in terms of the number of vacancies and regions covered for searching for employees is Yandex, a leading technology company in Russia."
      ]
    },
    {
      "attachments": {},
      "cell_type": "markdown",
      "id": "b1ef156a-efcb-49ce-bb23-90763e7f35b2",
      "metadata": {
        "id": "b1ef156a-efcb-49ce-bb23-90763e7f35b2",
        "tags": []
      },
      "source": [
        "## <center> **DS Vacancies**"
      ]
    },
    {
      "attachments": {},
      "cell_type": "markdown",
      "id": "b9cd50a0-992d-4988-8463-2b2b1c4629b4",
      "metadata": {
        "id": "b9cd50a0-992d-4988-8463-2b2b1c4629b4"
      },
      "source": [
        "How many jobs are relevant to the data?"
      ]
    },
    {
      "cell_type": "code",
      "execution_count": 358,
      "id": "54ab0e50-c0f1-47cc-a54b-bc5c8bc363f9",
      "metadata": {
        "id": "54ab0e50-c0f1-47cc-a54b-bc5c8bc363f9"
      },
      "outputs": [
        {
          "data": {
            "text/html": [
              "<div>\n",
              "<style scoped>\n",
              "    .dataframe tbody tr th:only-of-type {\n",
              "        vertical-align: middle;\n",
              "    }\n",
              "\n",
              "    .dataframe tbody tr th {\n",
              "        vertical-align: top;\n",
              "    }\n",
              "\n",
              "    .dataframe thead th {\n",
              "        text-align: right;\n",
              "    }\n",
              "</style>\n",
              "<table border=\"1\" class=\"dataframe\">\n",
              "  <thead>\n",
              "    <tr style=\"text-align: right;\">\n",
              "      <th></th>\n",
              "      <th>data_relevant</th>\n",
              "    </tr>\n",
              "  </thead>\n",
              "  <tbody>\n",
              "    <tr>\n",
              "      <th>0</th>\n",
              "      <td>1771</td>\n",
              "    </tr>\n",
              "  </tbody>\n",
              "</table>\n",
              "</div>"
            ],
            "text/plain": [
              "   data_relevant\n",
              "0           1771"
            ]
          },
          "execution_count": 358,
          "metadata": {},
          "output_type": "execute_result"
        }
      ],
      "source": [
        "# pull the request\n",
        "query_relevant_data = f'''\n",
        "    select\n",
        "        count(*) as data_relevant\n",
        "    from vacancies\n",
        "    where lower(name) like '%data%'\n",
        "        or lower(name) like '%данн%'\n",
        "'''\n",
        "\n",
        "# display the result\n",
        "relevant_data = get_df(query_relevant_data, connection)\n",
        "relevant_data"
      ]
    },
    {
      "attachments": {},
      "cell_type": "markdown",
      "id": "4dea20cb-a36b-474a-a0b9-e08e8e3857a5",
      "metadata": {
        "id": "4dea20cb-a36b-474a-a0b9-e08e8e3857a5"
      },
      "source": [
        "How many suitable vacancies are there for a junior/intern data scientist?\n",
        " "
      ]
    },
    {
      "cell_type": "code",
      "execution_count": 359,
      "id": "9c61b3c0-bb66-46c9-ae1e-81d3f5752b4a",
      "metadata": {
        "id": "9c61b3c0-bb66-46c9-ae1e-81d3f5752b4a"
      },
      "outputs": [
        {
          "data": {
            "text/html": [
              "<div>\n",
              "<style scoped>\n",
              "    .dataframe tbody tr th:only-of-type {\n",
              "        vertical-align: middle;\n",
              "    }\n",
              "\n",
              "    .dataframe tbody tr th {\n",
              "        vertical-align: top;\n",
              "    }\n",
              "\n",
              "    .dataframe thead th {\n",
              "        text-align: right;\n",
              "    }\n",
              "</style>\n",
              "<table border=\"1\" class=\"dataframe\">\n",
              "  <thead>\n",
              "    <tr style=\"text-align: right;\">\n",
              "      <th></th>\n",
              "      <th>junior_ds</th>\n",
              "    </tr>\n",
              "  </thead>\n",
              "  <tbody>\n",
              "    <tr>\n",
              "      <th>0</th>\n",
              "      <td>51</td>\n",
              "    </tr>\n",
              "  </tbody>\n",
              "</table>\n",
              "</div>"
            ],
            "text/plain": [
              "   junior_ds\n",
              "0         51"
            ]
          },
          "execution_count": 359,
          "metadata": {},
          "output_type": "execute_result"
        }
      ],
      "source": [
        "# pull the request\n",
        "query_junior_ds = f'''\n",
        "    select\n",
        "        count(*) as junior_ds\n",
        "    from vacancies\n",
        "    where \n",
        "        (name ilike '%data scientist%' \n",
        "            or name ilike '%data science%'\n",
        "            or name ilike '%исследователь данных%'\n",
        "            or name like '%ML%'\n",
        "            or name ilike '%machine learning%'\n",
        "            or name ilike '%машинн%обучен%')\n",
        "    and name not ilike '%HTML%'\n",
        "    and (name ilike '%junior%'\n",
        "            or experience='Нет опыта'\n",
        "            or employment ilike '%стажировка%')\n",
        "'''\n",
        "\n",
        "junior_ds = get_df(query_junior_ds, connection)\n",
        "junior_ds"
      ]
    },
    {
      "attachments": {},
      "cell_type": "markdown",
      "id": "eedceb80-c5ca-480e-b27a-278dfb8b4438",
      "metadata": {
        "id": "eedceb80-c5ca-480e-b27a-278dfb8b4438"
      },
      "source": [
        "How many jobs are there for DS that list SQL or Postgres as a key skill?"
      ]
    },
    {
      "cell_type": "code",
      "execution_count": 360,
      "id": "69621713-0cc5-4f1b-a1d7-bb144fa6148c",
      "metadata": {
        "id": "69621713-0cc5-4f1b-a1d7-bb144fa6148c"
      },
      "outputs": [
        {
          "data": {
            "text/html": [
              "<div>\n",
              "<style scoped>\n",
              "    .dataframe tbody tr th:only-of-type {\n",
              "        vertical-align: middle;\n",
              "    }\n",
              "\n",
              "    .dataframe tbody tr th {\n",
              "        vertical-align: top;\n",
              "    }\n",
              "\n",
              "    .dataframe thead th {\n",
              "        text-align: right;\n",
              "    }\n",
              "</style>\n",
              "<table border=\"1\" class=\"dataframe\">\n",
              "  <thead>\n",
              "    <tr style=\"text-align: right;\">\n",
              "      <th></th>\n",
              "      <th>sql_postgres_skill</th>\n",
              "    </tr>\n",
              "  </thead>\n",
              "  <tbody>\n",
              "    <tr>\n",
              "      <th>0</th>\n",
              "      <td>201</td>\n",
              "    </tr>\n",
              "  </tbody>\n",
              "</table>\n",
              "</div>"
            ],
            "text/plain": [
              "   sql_postgres_skill\n",
              "0                 201"
            ]
          },
          "execution_count": 360,
          "metadata": {},
          "output_type": "execute_result"
        }
      ],
      "source": [
        "# pull the request\n",
        "query_ds_sql_postgres = f'''\n",
        "    select\n",
        "        count(*) as sql_postgres_skill\n",
        "    from vacancies\n",
        "    where \n",
        "        (name ilike '%data scientist%' \n",
        "            or name ilike '%data science%'\n",
        "            or name ilike '%исследователь данных%'\n",
        "            or name like '%ML%'\n",
        "            or name ilike '%machine learning%'\n",
        "            or name ilike '%машинн%обучен%')\n",
        "        and name not ilike '%HTML%'\n",
        "        and (key_skills ilike '%postgres' \n",
        "        or key_skills ilike '%sql%')\n",
        "'''\n",
        "\n",
        "# display the result\n",
        "ds_sql_postgres = get_df(query_ds_sql_postgres, connection)\n",
        "ds_sql_postgres"
      ]
    },
    {
      "attachments": {},
      "cell_type": "markdown",
      "id": "1be1e9c6-37cf-4a5f-bfeb-04cab799dc80",
      "metadata": {
        "id": "1be1e9c6-37cf-4a5f-bfeb-04cab799dc80"
      },
      "source": [
        "Now let's evaluate how much Python is necessary for a Data Scientist."
      ]
    },
    {
      "cell_type": "code",
      "execution_count": 361,
      "id": "0036a355-9ccf-4564-8b01-73d8194297e7",
      "metadata": {
        "id": "0036a355-9ccf-4564-8b01-73d8194297e7"
      },
      "outputs": [
        {
          "data": {
            "text/html": [
              "<div>\n",
              "<style scoped>\n",
              "    .dataframe tbody tr th:only-of-type {\n",
              "        vertical-align: middle;\n",
              "    }\n",
              "\n",
              "    .dataframe tbody tr th {\n",
              "        vertical-align: top;\n",
              "    }\n",
              "\n",
              "    .dataframe thead th {\n",
              "        text-align: right;\n",
              "    }\n",
              "</style>\n",
              "<table border=\"1\" class=\"dataframe\">\n",
              "  <thead>\n",
              "    <tr style=\"text-align: right;\">\n",
              "      <th></th>\n",
              "      <th>python_skill</th>\n",
              "    </tr>\n",
              "  </thead>\n",
              "  <tbody>\n",
              "    <tr>\n",
              "      <th>0</th>\n",
              "      <td>351</td>\n",
              "    </tr>\n",
              "  </tbody>\n",
              "</table>\n",
              "</div>"
            ],
            "text/plain": [
              "   python_skill\n",
              "0           351"
            ]
          },
          "execution_count": 361,
          "metadata": {},
          "output_type": "execute_result"
        }
      ],
      "source": [
        "# pull the request\n",
        "query_ds_python = f'''\n",
        "    select\n",
        "        count(*) as python_skill\n",
        "    from vacancies\n",
        "    where \n",
        "        (name ilike '%data scientist%' \n",
        "            or name ilike '%data science%'\n",
        "            or name ilike '%исследователь данных%'\n",
        "            or name like '%ML%'\n",
        "            or name ilike '%machine learning%'\n",
        "            or name ilike '%машинн%обучен%')\n",
        "    and name not ilike '%HTML%'\n",
        "    and key_skills ilike '%python%' \n",
        "'''\n",
        "\n",
        "# display the result\n",
        "ds_python = get_df(query_ds_python, connection)\n",
        "ds_python"
      ]
    },
    {
      "attachments": {},
      "cell_type": "markdown",
      "id": "ec3c8db7-fa21-4a41-a994-1af63742a642",
      "metadata": {
        "id": "ec3c8db7-fa21-4a41-a994-1af63742a642"
      },
      "source": [
        "How many key skills are listed on average in job postings for DS?  \n",
        "*tab is used as a separator"
      ]
    },
    {
      "cell_type": "code",
      "execution_count": 362,
      "id": "949132bc-d5b6-4611-8218-0b9a504d74f4",
      "metadata": {
        "id": "949132bc-d5b6-4611-8218-0b9a504d74f4"
      },
      "outputs": [
        {
          "data": {
            "text/html": [
              "<div>\n",
              "<style scoped>\n",
              "    .dataframe tbody tr th:only-of-type {\n",
              "        vertical-align: middle;\n",
              "    }\n",
              "\n",
              "    .dataframe tbody tr th {\n",
              "        vertical-align: top;\n",
              "    }\n",
              "\n",
              "    .dataframe thead th {\n",
              "        text-align: right;\n",
              "    }\n",
              "</style>\n",
              "<table border=\"1\" class=\"dataframe\">\n",
              "  <thead>\n",
              "    <tr style=\"text-align: right;\">\n",
              "      <th></th>\n",
              "      <th>avg_skills</th>\n",
              "    </tr>\n",
              "  </thead>\n",
              "  <tbody>\n",
              "    <tr>\n",
              "      <th>0</th>\n",
              "      <td>6.41</td>\n",
              "    </tr>\n",
              "  </tbody>\n",
              "</table>\n",
              "</div>"
            ],
            "text/plain": [
              "   avg_skills\n",
              "0        6.41"
            ]
          },
          "execution_count": 362,
          "metadata": {},
          "output_type": "execute_result"
        }
      ],
      "source": [
        "# pull the request\n",
        "query_count_key_skills = f'''\n",
        "    select\n",
        "        AVG(LENGTH(key_skills) - LENGTH(replace(key_skills, CHR(9), '')) +1) as avg_skills\n",
        "    from vacancies\n",
        "    where \n",
        "        (name ilike '%data scientist%' \n",
        "            or name ilike '%data science%'\n",
        "            or name ilike '%исследователь данных%'\n",
        "            or name like '%ML%'\n",
        "            or name ilike '%machine learning%'\n",
        "            or name ilike '%машинн%обучен%')\n",
        "        and name not ilike '%HTML%'\n",
        "        and key_skills is not null\n",
        "'''\n",
        "\n",
        "# sisplay the result\n",
        "count_key_skills = get_df(query_count_key_skills, connection)\n",
        "round(count_key_skills, 2)"
      ]
    },
    {
      "attachments": {},
      "cell_type": "markdown",
      "id": "781655a4",
      "metadata": {},
      "source": [
        "Write a query to calculate the average DS salary for each type of experience required  \n",
        "*we consider vacancies where at least one value is indicated"
      ]
    },
    {
      "cell_type": "code",
      "execution_count": 230,
      "id": "6a743d39-5204-48d3-8271-b9f88e68d40e",
      "metadata": {
        "id": "6a743d39-5204-48d3-8271-b9f88e68d40e"
      },
      "outputs": [
        {
          "data": {
            "text/html": [
              "<div>\n",
              "<style scoped>\n",
              "    .dataframe tbody tr th:only-of-type {\n",
              "        vertical-align: middle;\n",
              "    }\n",
              "\n",
              "    .dataframe tbody tr th {\n",
              "        vertical-align: top;\n",
              "    }\n",
              "\n",
              "    .dataframe thead th {\n",
              "        text-align: right;\n",
              "    }\n",
              "</style>\n",
              "<table border=\"1\" class=\"dataframe\">\n",
              "  <thead>\n",
              "    <tr style=\"text-align: right;\">\n",
              "      <th></th>\n",
              "      <th>experience</th>\n",
              "      <th>avg_salary</th>\n",
              "    </tr>\n",
              "  </thead>\n",
              "  <tbody>\n",
              "    <tr>\n",
              "      <th>0</th>\n",
              "      <td>Нет опыта</td>\n",
              "      <td>74643.0</td>\n",
              "    </tr>\n",
              "    <tr>\n",
              "      <th>1</th>\n",
              "      <td>От 1 года до 3 лет</td>\n",
              "      <td>146704.0</td>\n",
              "    </tr>\n",
              "    <tr>\n",
              "      <th>2</th>\n",
              "      <td>От 3 до 6 лет</td>\n",
              "      <td>243115.0</td>\n",
              "    </tr>\n",
              "  </tbody>\n",
              "</table>\n",
              "</div>"
            ],
            "text/plain": [
              "           experience  avg_salary\n",
              "0           Нет опыта     74643.0\n",
              "1  От 1 года до 3 лет    146704.0\n",
              "2       От 3 до 6 лет    243115.0"
            ]
          },
          "execution_count": 230,
          "metadata": {},
          "output_type": "execute_result"
        }
      ],
      "source": [
        "# pull the request\n",
        "query_avg_ds_salary = f'''\n",
        "    select\n",
        "        experience,\n",
        "        avg(coalesce((salary_from+salary_to)/2, salary_from, salary_to)) as avg_salary\n",
        "    from vacancies\n",
        "    where \n",
        "        (name ilike '%data scientist%' \n",
        "            or name ilike '%data science%'\n",
        "            or name ilike '%исследователь данных%'\n",
        "            or name like '%ML%'\n",
        "            or name ilike '%machine learning%'\n",
        "            or name ilike '%машинн%обучен%')\n",
        "        and name not ilike '%HTML%'\n",
        "        and key_skills is not null\n",
        "        and (salary_from is not null\n",
        "            or salary_to is not null)\n",
        "    group by experience\n",
        "'''\n",
        "\n",
        "# display the result\n",
        "avg_ds_salary = round(get_df(query_avg_ds_salary, connection))\n",
        "avg_ds_salary"
      ]
    },
    {
      "attachments": {},
      "cell_type": "markdown",
      "id": "94d2a1e0",
      "metadata": {},
      "source": [
        "Let's evaluate the distribution of vacancies according to the work schedule for DS."
      ]
    },
    {
      "cell_type": "code",
      "execution_count": 231,
      "id": "ce7d531c",
      "metadata": {},
      "outputs": [
        {
          "data": {
            "text/html": [
              "<div>\n",
              "<style scoped>\n",
              "    .dataframe tbody tr th:only-of-type {\n",
              "        vertical-align: middle;\n",
              "    }\n",
              "\n",
              "    .dataframe tbody tr th {\n",
              "        vertical-align: top;\n",
              "    }\n",
              "\n",
              "    .dataframe thead th {\n",
              "        text-align: right;\n",
              "    }\n",
              "</style>\n",
              "<table border=\"1\" class=\"dataframe\">\n",
              "  <thead>\n",
              "    <tr style=\"text-align: right;\">\n",
              "      <th></th>\n",
              "      <th>schedule</th>\n",
              "      <th>count</th>\n",
              "    </tr>\n",
              "  </thead>\n",
              "  <tbody>\n",
              "    <tr>\n",
              "      <th>0</th>\n",
              "      <td>Гибкий график</td>\n",
              "      <td>43</td>\n",
              "    </tr>\n",
              "    <tr>\n",
              "      <th>1</th>\n",
              "      <td>Полный день</td>\n",
              "      <td>322</td>\n",
              "    </tr>\n",
              "    <tr>\n",
              "      <th>2</th>\n",
              "      <td>Удаленная работа</td>\n",
              "      <td>115</td>\n",
              "    </tr>\n",
              "  </tbody>\n",
              "</table>\n",
              "</div>"
            ],
            "text/plain": [
              "           schedule  count\n",
              "0     Гибкий график     43\n",
              "1       Полный день    322\n",
              "2  Удаленная работа    115"
            ]
          },
          "execution_count": 231,
          "metadata": {},
          "output_type": "execute_result"
        }
      ],
      "source": [
        "# pull the request\n",
        "query_ds_schedule = f'''\n",
        "    select\n",
        "        schedule,\n",
        "        count(id)\n",
        "    from vacancies\n",
        "    where \n",
        "        (name ilike '%data scientist%' \n",
        "            or name ilike '%data science%'\n",
        "            or name ilike '%исследователь данных%'\n",
        "            or name like '%ML%'\n",
        "            or name ilike '%machine learning%'\n",
        "            or name ilike '%машинн%обучен%')\n",
        "        and name not ilike '%HTML%'\n",
        "    group by schedule\n",
        "'''\n",
        "\n",
        "# display the result\n",
        "ds_schedule = get_df(query_ds_schedule, connection)\n",
        "ds_schedule"
      ]
    },
    {
      "cell_type": "code",
      "execution_count": 363,
      "id": "0de28a52",
      "metadata": {},
      "outputs": [
        {
          "data": {
            "image/png": "[encoded data removed]"
          },
          "metadata": {},
          "output_type": "display_data"
        }
      ],
      "source": [
        "# translate itto english\n",
        "labels = ['Flexible', 'Full-time', 'Remote']\n",
        "values = ds_schedule['count'].to_list()\n",
        "\n",
        "# build a graph\n",
        "ds_schedule_pie = go.Figure(\n",
        "    data=[go.Pie(labels=labels, values=values)])\n",
        "\n",
        "# add some changes\n",
        "ds_schedule_pie.update_layout(\n",
        "    title=dict(x=.5, xanchor='center'),\n",
        "    title_font_size=20,\n",
        "    title_text='Distribution of vacancies by the schedule',\n",
        "    width=800\n",
        ")\n",
        "\n",
        "# picturaze it\n",
        "ds_schedule_pie.show('png')"
      ]
    },
    {
      "attachments": {},
      "cell_type": "markdown",
      "id": "daff7be1",
      "metadata": {},
      "source": [
        "Let's evaluate the distribution of vacancies according to the work experience for DS."
      ]
    },
    {
      "cell_type": "code",
      "execution_count": 244,
      "id": "c347ad2c",
      "metadata": {},
      "outputs": [
        {
          "data": {
            "text/html": [
              "<div>\n",
              "<style scoped>\n",
              "    .dataframe tbody tr th:only-of-type {\n",
              "        vertical-align: middle;\n",
              "    }\n",
              "\n",
              "    .dataframe tbody tr th {\n",
              "        vertical-align: top;\n",
              "    }\n",
              "\n",
              "    .dataframe thead th {\n",
              "        text-align: right;\n",
              "    }\n",
              "</style>\n",
              "<table border=\"1\" class=\"dataframe\">\n",
              "  <thead>\n",
              "    <tr style=\"text-align: right;\">\n",
              "      <th></th>\n",
              "      <th>experience</th>\n",
              "      <th>count</th>\n",
              "    </tr>\n",
              "  </thead>\n",
              "  <tbody>\n",
              "    <tr>\n",
              "      <th>0</th>\n",
              "      <td>Нет опыта</td>\n",
              "      <td>28</td>\n",
              "    </tr>\n",
              "    <tr>\n",
              "      <th>1</th>\n",
              "      <td>Более 6 лет</td>\n",
              "      <td>34</td>\n",
              "    </tr>\n",
              "    <tr>\n",
              "      <th>2</th>\n",
              "      <td>От 3 до 6 лет</td>\n",
              "      <td>195</td>\n",
              "    </tr>\n",
              "    <tr>\n",
              "      <th>3</th>\n",
              "      <td>От 1 года до 3 лет</td>\n",
              "      <td>223</td>\n",
              "    </tr>\n",
              "  </tbody>\n",
              "</table>\n",
              "</div>"
            ],
            "text/plain": [
              "           experience  count\n",
              "0           Нет опыта     28\n",
              "1         Более 6 лет     34\n",
              "2       От 3 до 6 лет    195\n",
              "3  От 1 года до 3 лет    223"
            ]
          },
          "execution_count": 244,
          "metadata": {},
          "output_type": "execute_result"
        }
      ],
      "source": [
        "# pull the request\n",
        "query_ds_experience = f'''\n",
        "    select\n",
        "        experience,\n",
        "        count(id)\n",
        "    from vacancies\n",
        "    where \n",
        "        (name ilike '%data scientist%' \n",
        "            or name ilike '%data science%'\n",
        "            or name ilike '%исследователь данных%'\n",
        "            or name like '%ML%'\n",
        "            or name ilike '%machine learning%'\n",
        "            or name ilike '%машинн%обучен%')\n",
        "        and name not ilike '%HTML%'\n",
        "    group by experience\n",
        "    order by count(id)\n",
        "'''\n",
        "\n",
        "# display the result\n",
        "ds_experience = get_df(query_ds_experience, connection)\n",
        "ds_experience"
      ]
    },
    {
      "cell_type": "code",
      "execution_count": 246,
      "id": "6d07d8aa",
      "metadata": {},
      "outputs": [
        {
          "data": {
            "image/png": "[encoded data removed]"
          },
          "metadata": {},
          "output_type": "display_data"
        }
      ],
      "source": [
        "# translate itto english\n",
        "labels = ['Without experience', 'more than 6 years', '3-6 years', '1-3 years']\n",
        "values = ds_experience['count'].to_list()\n",
        "\n",
        "# build a graph\n",
        "ds_experience_pie = go.Figure(\n",
        "    data=[go.Pie(labels=labels, values=values)])\n",
        "\n",
        "# add some changes\n",
        "ds_experience_pie.update_layout(\n",
        "    title=dict(x=.5, xanchor='center'),\n",
        "    title_font_size=20,\n",
        "    title_text='Distribution of vacancies by the relevant experience',\n",
        "    width=1000\n",
        ")\n",
        "\n",
        "# picturaze it\n",
        "ds_experience_pie.show('png')"
      ]
    },
    {
      "attachments": {},
      "cell_type": "markdown",
      "id": "34cf3085",
      "metadata": {},
      "source": [
        "Now let's build a heat map of the number of vacancies depending on experience and schedule."
      ]
    },
    {
      "cell_type": "code",
      "execution_count": 342,
      "id": "806f699e",
      "metadata": {},
      "outputs": [
        {
          "data": {
            "text/html": [
              "<div>\n",
              "<style scoped>\n",
              "    .dataframe tbody tr th:only-of-type {\n",
              "        vertical-align: middle;\n",
              "    }\n",
              "\n",
              "    .dataframe tbody tr th {\n",
              "        vertical-align: top;\n",
              "    }\n",
              "\n",
              "    .dataframe thead th {\n",
              "        text-align: right;\n",
              "    }\n",
              "</style>\n",
              "<table border=\"1\" class=\"dataframe\">\n",
              "  <thead>\n",
              "    <tr style=\"text-align: right;\">\n",
              "      <th></th>\n",
              "      <th>experience</th>\n",
              "      <th>schedule</th>\n",
              "      <th>count</th>\n",
              "    </tr>\n",
              "  </thead>\n",
              "  <tbody>\n",
              "    <tr>\n",
              "      <th>0</th>\n",
              "      <td>Более 6 лет</td>\n",
              "      <td>Гибкий график</td>\n",
              "      <td>1</td>\n",
              "    </tr>\n",
              "    <tr>\n",
              "      <th>1</th>\n",
              "      <td>Более 6 лет</td>\n",
              "      <td>Полный день</td>\n",
              "      <td>6</td>\n",
              "    </tr>\n",
              "    <tr>\n",
              "      <th>2</th>\n",
              "      <td>Более 6 лет</td>\n",
              "      <td>Удаленная работа</td>\n",
              "      <td>27</td>\n",
              "    </tr>\n",
              "    <tr>\n",
              "      <th>3</th>\n",
              "      <td>Нет опыта</td>\n",
              "      <td>Гибкий график</td>\n",
              "      <td>6</td>\n",
              "    </tr>\n",
              "    <tr>\n",
              "      <th>4</th>\n",
              "      <td>Нет опыта</td>\n",
              "      <td>Полный день</td>\n",
              "      <td>19</td>\n",
              "    </tr>\n",
              "    <tr>\n",
              "      <th>5</th>\n",
              "      <td>Нет опыта</td>\n",
              "      <td>Удаленная работа</td>\n",
              "      <td>3</td>\n",
              "    </tr>\n",
              "    <tr>\n",
              "      <th>6</th>\n",
              "      <td>От 1 года до 3 лет</td>\n",
              "      <td>Гибкий график</td>\n",
              "      <td>12</td>\n",
              "    </tr>\n",
              "    <tr>\n",
              "      <th>7</th>\n",
              "      <td>От 1 года до 3 лет</td>\n",
              "      <td>Полный день</td>\n",
              "      <td>170</td>\n",
              "    </tr>\n",
              "    <tr>\n",
              "      <th>8</th>\n",
              "      <td>От 1 года до 3 лет</td>\n",
              "      <td>Удаленная работа</td>\n",
              "      <td>41</td>\n",
              "    </tr>\n",
              "    <tr>\n",
              "      <th>9</th>\n",
              "      <td>От 3 до 6 лет</td>\n",
              "      <td>Гибкий график</td>\n",
              "      <td>24</td>\n",
              "    </tr>\n",
              "    <tr>\n",
              "      <th>10</th>\n",
              "      <td>От 3 до 6 лет</td>\n",
              "      <td>Полный день</td>\n",
              "      <td>127</td>\n",
              "    </tr>\n",
              "    <tr>\n",
              "      <th>11</th>\n",
              "      <td>От 3 до 6 лет</td>\n",
              "      <td>Удаленная работа</td>\n",
              "      <td>44</td>\n",
              "    </tr>\n",
              "  </tbody>\n",
              "</table>\n",
              "</div>"
            ],
            "text/plain": [
              "            experience          schedule  count\n",
              "0          Более 6 лет     Гибкий график      1\n",
              "1          Более 6 лет       Полный день      6\n",
              "2          Более 6 лет  Удаленная работа     27\n",
              "3            Нет опыта     Гибкий график      6\n",
              "4            Нет опыта       Полный день     19\n",
              "5            Нет опыта  Удаленная работа      3\n",
              "6   От 1 года до 3 лет     Гибкий график     12\n",
              "7   От 1 года до 3 лет       Полный день    170\n",
              "8   От 1 года до 3 лет  Удаленная работа     41\n",
              "9        От 3 до 6 лет     Гибкий график     24\n",
              "10       От 3 до 6 лет       Полный день    127\n",
              "11       От 3 до 6 лет  Удаленная работа     44"
            ]
          },
          "execution_count": 342,
          "metadata": {},
          "output_type": "execute_result"
        }
      ],
      "source": [
        "# pull the request\n",
        "query_ds_exp_sched = f'''\n",
        "    select\n",
        "        experience,\n",
        "        schedule,\n",
        "        count(id)\n",
        "    from vacancies\n",
        "    where \n",
        "        (name ilike '%data scientist%' \n",
        "            or name ilike '%data science%'\n",
        "            or name ilike '%исследователь данных%'\n",
        "            or name like '%ML%'\n",
        "            or name ilike '%machine learning%'\n",
        "            or name ilike '%машинн%обучен%')\n",
        "    and name not ilike '%HTML%'\n",
        "    group by experience, schedule\n",
        "'''\n",
        "\n",
        "# display the result\n",
        "ds_exp_sched = get_df(query_ds_exp_sched, connection)\n",
        "ds_exp_sched"
      ]
    },
    {
      "cell_type": "code",
      "execution_count": 343,
      "id": "b2782d16",
      "metadata": {},
      "outputs": [],
      "source": [
        "def translate_schedule(schedule):\n",
        "    \"\"\"function to translate experience into english\"\"\"\n",
        "    \n",
        "    if schedule == 'Гибкий график':\n",
        "        schedule = 'Flexible'\n",
        "        \n",
        "    if schedule == 'Полный день':\n",
        "        schedule = 'Full-time'\n",
        "        \n",
        "    if schedule == 'Удаленная работа':\n",
        "        schedule = 'Remote'\n",
        "    \n",
        "    return schedule\n",
        "\n",
        "\n",
        "# transfrom our dataset    \n",
        "ds_exp_sched['schedule'] = ds_exp_sched['schedule'].apply(translate_schedule)"
      ]
    },
    {
      "cell_type": "code",
      "execution_count": 344,
      "id": "40f5dd47",
      "metadata": {},
      "outputs": [],
      "source": [
        "def translate_experience(experience):\n",
        "    \"\"\"function to translate experience into english\"\"\"\n",
        "    \n",
        "    if experience == 'Более 6 лет':\n",
        "        experience = 'more than 6 years'\n",
        "        \n",
        "    if experience == 'От 3 до 6 лет':\n",
        "        experience = '3-6 years'\n",
        "        \n",
        "    if experience == 'От 1 года до 3 лет':\n",
        "        experience = '1-3 years'\n",
        "        \n",
        "    if experience == 'Нет опыта':\n",
        "        experience = 'without experience'\n",
        "    \n",
        "    return experience\n",
        "\n",
        " \n",
        "# transfrom our dataset     \n",
        "ds_exp_sched['experience'] = ds_exp_sched['experience'].apply(translate_experience)"
      ]
    },
    {
      "cell_type": "code",
      "execution_count": 346,
      "id": "18776a79",
      "metadata": {},
      "outputs": [],
      "source": [
        "# build a pivot table\n",
        "ds_exp_sched = ds_exp_sched.pivot_table(\n",
        "    index='experience',\n",
        "    columns='schedule',\n",
        "    values='count'\n",
        ")"
      ]
    },
    {
      "cell_type": "code",
      "execution_count": 347,
      "id": "452aafc0",
      "metadata": {},
      "outputs": [
        {
          "data": {
            "image/png": "[encoded data removed]",
            "text/plain": [
              "<Figure size 1080x576 with 1 Axes>"
            ]
          },
          "metadata": {
            "needs_background": "light"
          },
          "output_type": "display_data"
        }
      ],
      "source": [
        "# add axes\n",
        "fig, ax = plt.subplots(figsize=(15, 8))\n",
        "\n",
        "# build a heatmap\n",
        "ds_heatmap = sns.heatmap(\n",
        "    ds_exp_sched,\n",
        "    annot=True,\n",
        "    fmt='.0f',\n",
        "    linewidths=0.1,\n",
        "    linecolor=\"white\",\n",
        "    cmap=\"coolwarm\",\n",
        "    ax=ax,\n",
        "    cbar=False\n",
        ")\n",
        "\n",
        "# adding axis labels\n",
        "ds_heatmap.set_title('Number of vacancies depending on the schedule and experience', fontsize=20)\n",
        "ds_heatmap.set_xlabel('Schedule', fontsize=18)\n",
        "ds_heatmap.set_ylabel('Experience', fontsize=18);"
      ]
    },
    {
      "attachments": {},
      "cell_type": "markdown",
      "id": "ef3f3ca7",
      "metadata": {},
      "source": [
        "Conclusions for this stage:\n",
        "- there are very few vacancies for junior DS without relevant experience;\n",
        "- on average, the company declares 6-7 key skills for DS;\n",
        "- one of the most important, in fact mandatory, is knowledge of Python and SQL;\n",
        "- junior DS without experience can apply for an average of 75 thousand rubles (1k$);\n",
        "- less than a quarter of vacancies are designed to search for remote employees;\n",
        "- almost all vacancies are aimed at finding middle-senior level specialists;\n",
        "- the higher the experience, the more employers are ready to provide a remote work format."
      ]
    },
    {
      "attachments": {},
      "cell_type": "markdown",
      "id": "c0ED6fh7wiBT",
      "metadata": {
        "id": "c0ED6fh7wiBT"
      },
      "source": [
        "### <center> **General conclusion**"
      ]
    },
    {
      "attachments": {},
      "cell_type": "markdown",
      "id": "ba3cd8bf",
      "metadata": {},
      "source": [
        "It is very difficult for a beginner (noob) data scientist to find a job, but i will try."
      ]
    }
  ],
  "metadata": {
    "colab": {
      "collapsed_sections": [
        "8d62a9f3-f64e-4fe7-bdac-c4dffa16155e"
      ],
      "provenance": []
    },
    "kernelspec": {
      "display_name": "Python 3",
      "language": "python",
      "name": "python3"
    },
    "language_info": {
      "codemirror_mode": {
        "name": "ipython",
        "version": 3
      },
      "file_extension": ".py",
      "mimetype": "text/x-python",
      "name": "python",
      "nbconvert_exporter": "python",
      "pygments_lexer": "ipython3",
      "version": "3.9.10"
    },
    "vscode": {
      "interpreter": {
        "hash": "4d181b88a5681332783464b335ffcae2a192662c591f914e6515f1b7dbb1ef53"
      }
    }
  },
  "nbformat": 4,
  "nbformat_minor": 5
}
