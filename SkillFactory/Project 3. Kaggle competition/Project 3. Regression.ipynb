{
 "cells": [
  {
   "attachments": {},
   "cell_type": "markdown",
   "id": "6954215c",
   "metadata": {},
   "source": [
    "# <center> **Project 3. Kaggle competition. Regression Task**"
   ]
  },
  {
   "attachments": {},
   "cell_type": "markdown",
   "id": "bf01394e",
   "metadata": {},
   "source": [
    "**Descriprion**  \n",
    "Imagine that you are a data scientist at Booking. One of the problems of the company is dishonest hotels that wind up their rating. One way to find such hotels is to build a model that predicts the rating of the hotel. If the predictions of the model are very different from the actual result, then the hotel may be playing unfairly and should be checked.\n",
    "\n",
    "You are tasked with creating such a model."
   ]
  },
  {
   "attachments": {},
   "cell_type": "markdown",
   "id": "4a23766f",
   "metadata": {},
   "source": [
    "**Target metric**  \n",
    "The results are evaluated by the MAPE."
   ]
  },
  {
   "attachments": {},
   "cell_type": "markdown",
   "id": "25548925",
   "metadata": {},
   "source": [
    "**About data**  \n",
    "- hotel_address - hotel address\n",
    "- review_date - the date the reviewer posted the corresponding review\n",
    "- average_score - the hotel's average score, calculated based on the last comment for the last year\n",
    "- hotel_name - hotel name\n",
    "- reviewer_nationality - reviewer's nationality\n",
    "- negative_review - negative review that the reviewer gave to the hotel.\n",
    "- review_total_negative_word_counts - total number of words in negative review\n",
    "- positive_review - positive review that the reviewer has given to the hotel\n",
    "- review_total_positive_word_counts - total number of words in a positive review\n",
    "- total_number_of_reviews_reviewer_has_given - Number of reviews that reviewers have given in the past\n",
    "- total_number_of_reviews - total number of valid hotel reviews\n",
    "- tags - tags that the reviewer gave to the hotel.\n",
    "- days_since_review - duration between review date and cleanup date\n",
    "- additional_number_of_scoring - There are also some guests who simply rated the service instead of leaving a review. This number indicates how many valid grades there are without validation.\n",
    "- lat - latitude of the hotel\n",
    "- lng - hotel longitude\n",
    "- **reviewer_score** - is a target varuable - the rating given by the reviewer to the hotel based on their experience"
   ]
  },
  {
   "attachments": {},
   "cell_type": "markdown",
   "id": "d0ce8275",
   "metadata": {},
   "source": [
    "**View File**  \n",
    "For each hotel id in the test dataset, you must predict the hotel rating for the reviewer_score variable."
   ]
  },
  {
   "attachments": {},
   "cell_type": "markdown",
   "id": "aa7de346",
   "metadata": {},
   "source": [
    "**Competition Files**  \n",
    "- hotels_train.csv - training dataset\n",
    "- hotels_test.csv - data set for quality assessment\n",
    "- submission.csv - submission file in the required format"
   ]
  },
  {
   "cell_type": "code",
   "execution_count": 107,
   "id": "d7bd3a33",
   "metadata": {
    "_cell_guid": "b1076dfc-b9ad-4769-8c92-a6c4dae69d19",
    "_uuid": "8f2839f25d086af736a60e9eeb907d3b93b6e0e5",
    "execution": {
     "iopub.execute_input": "2022-10-25T11:21:32.093656Z",
     "iopub.status.busy": "2022-10-25T11:21:32.092338Z",
     "iopub.status.idle": "2022-10-25T11:21:35.461483Z",
     "shell.execute_reply": "2022-10-25T11:21:35.460123Z",
     "shell.execute_reply.started": "2022-10-25T11:16:53.382580Z"
    },
    "papermill": {
     "duration": 3.433827,
     "end_time": "2022-10-25T11:21:35.461840",
     "exception": false,
     "start_time": "2022-10-25T11:21:32.028013",
     "status": "completed"
    },
    "tags": []
   },
   "outputs": [
    {
     "name": "stderr",
     "output_type": "stream",
     "text": [
      "[nltk_data] Downloading package vader_lexicon to\n",
      "[nltk_data]     C:\\Users\\volod\\AppData\\Roaming\\nltk_data...\n",
      "[nltk_data]   Package vader_lexicon is already up-to-date!\n"
     ]
    }
   ],
   "source": [
    "# main\n",
    "import numpy as np\n",
    "import pandas as pd\n",
    "\n",
    "# machine learning\n",
    "from sklearn import ensemble\n",
    "from sklearn import linear_model\n",
    "from sklearn.ensemble import RandomForestRegressor\n",
    "from sklearn.ensemble import GradientBoostingRegressor\n",
    "from sklearn.ensemble import StackingRegressor\n",
    "from sklearn.model_selection import train_test_split\n",
    "from sklearn.model_selection import cross_val_score\n",
    "import optuna\n",
    "\n",
    "from scipy import stats\n",
    "from scipy.stats import shapiro\n",
    "from geopy.distance import geodesic\n",
    "\n",
    "# metrics and encoders\n",
    "from sklearn import metrics\n",
    "from sklearn.metrics import mean_absolute_error\n",
    "from sklearn.metrics import mean_absolute_percentage_error\n",
    "from sklearn import preprocessing\n",
    "from sklearn.preprocessing import OrdinalEncoder, MinMaxScaler\n",
    "import category_encoders as ce\n",
    "\n",
    "# visualization\n",
    "import plotly.express as px\n",
    "import matplotlib.pyplot as plt\n",
    "import seaborn as sns \n",
    "\n",
    "# for sentiment analysis\n",
    "import string\n",
    "import spacy\n",
    "from afinn import Afinn\n",
    "import nltk\n",
    "from nltk.stem import WordNetLemmatizer\n",
    "from nltk.sentiment.vader import SentimentIntensityAnalyzer\n",
    "nltk.downloader.download('vader_lexicon')\n",
    "from textblob import TextBlob, Blobber\n",
    "from textblob.sentiments import NaiveBayesAnalyzer\n",
    "\n",
    "pd.set_option('display.max_columns', None)"
   ]
  },
  {
   "attachments": {},
   "cell_type": "markdown",
   "id": "7e02eed8",
   "metadata": {},
   "source": [
    "## <center> **Part I. Loading and exploring**"
   ]
  },
  {
   "cell_type": "code",
   "execution_count": 108,
   "id": "9fefec8b",
   "metadata": {},
   "outputs": [],
   "source": [
    "# load data\n",
    "df_test = pd.read_csv('hotels_test.csv')\n",
    "df_train = pd.read_csv('hotels_train.csv')\n",
    "submission = pd.read_csv('submission.csv')"
   ]
  },
  {
   "cell_type": "code",
   "execution_count": 109,
   "id": "73b47a9b",
   "metadata": {
    "execution": {
     "iopub.execute_input": "2022-10-25T11:21:50.299430Z",
     "iopub.status.busy": "2022-10-25T11:21:50.298474Z",
     "iopub.status.idle": "2022-10-25T11:21:50.929928Z",
     "shell.execute_reply": "2022-10-25T11:21:50.929280Z",
     "shell.execute_reply.started": "2022-10-25T11:17:00.511462Z"
    },
    "papermill": {
     "duration": 0.698479,
     "end_time": "2022-10-25T11:21:50.930128",
     "exception": false,
     "start_time": "2022-10-25T11:21:50.231649",
     "status": "completed"
    },
    "tags": []
   },
   "outputs": [
    {
     "name": "stderr",
     "output_type": "stream",
     "text": [
      "C:\\Users\\volod\\AppData\\Local\\Temp\\ipykernel_10676\\1482299945.py:9: FutureWarning:\n",
      "\n",
      "The frame.append method is deprecated and will be removed from pandas in a future version. Use pandas.concat instead.\n",
      "\n"
     ]
    }
   ],
   "source": [
    "# mark the train and the test sample\n",
    "df_train['sample'] = 1\n",
    "df_test['sample'] = 0\n",
    "\n",
    "# we ought to predict this value, what's why equate the value to 0 for now\n",
    "df_test['reviewer_score'] = 0\n",
    "\n",
    "# concat train and test to common data set\n",
    "data = df_test.append(df_train, sort=False).reset_index(drop=True)"
   ]
  },
  {
   "cell_type": "code",
   "execution_count": 110,
   "id": "defea330",
   "metadata": {},
   "outputs": [
    {
     "data": {
      "text/html": [
       "<div>\n",
       "<style scoped>\n",
       "    .dataframe tbody tr th:only-of-type {\n",
       "        vertical-align: middle;\n",
       "    }\n",
       "\n",
       "    .dataframe tbody tr th {\n",
       "        vertical-align: top;\n",
       "    }\n",
       "\n",
       "    .dataframe thead th {\n",
       "        text-align: right;\n",
       "    }\n",
       "</style>\n",
       "<table border=\"1\" class=\"dataframe\">\n",
       "  <thead>\n",
       "    <tr style=\"text-align: right;\">\n",
       "      <th></th>\n",
       "      <th>hotel_address</th>\n",
       "      <th>additional_number_of_scoring</th>\n",
       "      <th>review_date</th>\n",
       "      <th>average_score</th>\n",
       "      <th>hotel_name</th>\n",
       "      <th>reviewer_nationality</th>\n",
       "      <th>negative_review</th>\n",
       "      <th>review_total_negative_word_counts</th>\n",
       "      <th>total_number_of_reviews</th>\n",
       "      <th>positive_review</th>\n",
       "      <th>review_total_positive_word_counts</th>\n",
       "      <th>total_number_of_reviews_reviewer_has_given</th>\n",
       "      <th>tags</th>\n",
       "      <th>days_since_review</th>\n",
       "      <th>lat</th>\n",
       "      <th>lng</th>\n",
       "      <th>sample</th>\n",
       "      <th>reviewer_score</th>\n",
       "    </tr>\n",
       "  </thead>\n",
       "  <tbody>\n",
       "    <tr>\n",
       "      <th>0</th>\n",
       "      <td>Via Senigallia 6 20161 Milan Italy</td>\n",
       "      <td>904</td>\n",
       "      <td>7/21/2017</td>\n",
       "      <td>8.1</td>\n",
       "      <td>Hotel Da Vinci</td>\n",
       "      <td>United Kingdom</td>\n",
       "      <td>Would have appreciated a shop in the hotel th...</td>\n",
       "      <td>52</td>\n",
       "      <td>16670</td>\n",
       "      <td>Hotel was great clean friendly staff free bre...</td>\n",
       "      <td>62</td>\n",
       "      <td>1</td>\n",
       "      <td>[' Leisure trip ', ' Couple ', ' Double Room '...</td>\n",
       "      <td>13 days</td>\n",
       "      <td>45.533137</td>\n",
       "      <td>9.171102</td>\n",
       "      <td>0</td>\n",
       "      <td>0.0</td>\n",
       "    </tr>\n",
       "    <tr>\n",
       "      <th>1</th>\n",
       "      <td>Arlandaweg 10 Westpoort 1043 EW Amsterdam Neth...</td>\n",
       "      <td>612</td>\n",
       "      <td>12/12/2016</td>\n",
       "      <td>8.6</td>\n",
       "      <td>Urban Lodge Hotel</td>\n",
       "      <td>Belgium</td>\n",
       "      <td>No tissue paper box was present at the room</td>\n",
       "      <td>10</td>\n",
       "      <td>5018</td>\n",
       "      <td>No Positive</td>\n",
       "      <td>0</td>\n",
       "      <td>7</td>\n",
       "      <td>[' Leisure trip ', ' Group ', ' Triple Room ',...</td>\n",
       "      <td>234 day</td>\n",
       "      <td>52.385649</td>\n",
       "      <td>4.834443</td>\n",
       "      <td>0</td>\n",
       "      <td>0.0</td>\n",
       "    </tr>\n",
       "    <tr>\n",
       "      <th>2</th>\n",
       "      <td>Mallorca 251 Eixample 08008 Barcelona Spain</td>\n",
       "      <td>46</td>\n",
       "      <td>11/26/2015</td>\n",
       "      <td>8.3</td>\n",
       "      <td>Alexandra Barcelona A DoubleTree by Hilton</td>\n",
       "      <td>Sweden</td>\n",
       "      <td>Pillows</td>\n",
       "      <td>3</td>\n",
       "      <td>351</td>\n",
       "      <td>Nice welcoming and service</td>\n",
       "      <td>5</td>\n",
       "      <td>15</td>\n",
       "      <td>[' Business trip ', ' Solo traveler ', ' Twin ...</td>\n",
       "      <td>616 day</td>\n",
       "      <td>41.393192</td>\n",
       "      <td>2.161520</td>\n",
       "      <td>0</td>\n",
       "      <td>0.0</td>\n",
       "    </tr>\n",
       "  </tbody>\n",
       "</table>\n",
       "</div>"
      ],
      "text/plain": [
       "                                       hotel_address  \\\n",
       "0                 Via Senigallia 6 20161 Milan Italy   \n",
       "1  Arlandaweg 10 Westpoort 1043 EW Amsterdam Neth...   \n",
       "2        Mallorca 251 Eixample 08008 Barcelona Spain   \n",
       "\n",
       "   additional_number_of_scoring review_date  average_score  \\\n",
       "0                           904   7/21/2017            8.1   \n",
       "1                           612  12/12/2016            8.6   \n",
       "2                            46  11/26/2015            8.3   \n",
       "\n",
       "                                   hotel_name reviewer_nationality  \\\n",
       "0                              Hotel Da Vinci      United Kingdom    \n",
       "1                           Urban Lodge Hotel             Belgium    \n",
       "2  Alexandra Barcelona A DoubleTree by Hilton              Sweden    \n",
       "\n",
       "                                     negative_review  \\\n",
       "0   Would have appreciated a shop in the hotel th...   \n",
       "1        No tissue paper box was present at the room   \n",
       "2                                           Pillows    \n",
       "\n",
       "   review_total_negative_word_counts  total_number_of_reviews  \\\n",
       "0                                 52                    16670   \n",
       "1                                 10                     5018   \n",
       "2                                  3                      351   \n",
       "\n",
       "                                     positive_review  \\\n",
       "0   Hotel was great clean friendly staff free bre...   \n",
       "1                                        No Positive   \n",
       "2                         Nice welcoming and service   \n",
       "\n",
       "   review_total_positive_word_counts  \\\n",
       "0                                 62   \n",
       "1                                  0   \n",
       "2                                  5   \n",
       "\n",
       "   total_number_of_reviews_reviewer_has_given  \\\n",
       "0                                           1   \n",
       "1                                           7   \n",
       "2                                          15   \n",
       "\n",
       "                                                tags days_since_review  \\\n",
       "0  [' Leisure trip ', ' Couple ', ' Double Room '...           13 days   \n",
       "1  [' Leisure trip ', ' Group ', ' Triple Room ',...           234 day   \n",
       "2  [' Business trip ', ' Solo traveler ', ' Twin ...           616 day   \n",
       "\n",
       "         lat       lng  sample  reviewer_score  \n",
       "0  45.533137  9.171102       0             0.0  \n",
       "1  52.385649  4.834443       0             0.0  \n",
       "2  41.393192  2.161520       0             0.0  "
      ]
     },
     "execution_count": 110,
     "metadata": {},
     "output_type": "execute_result"
    }
   ],
   "source": [
    "# display data\n",
    "data.head(3)"
   ]
  },
  {
   "cell_type": "code",
   "execution_count": 111,
   "id": "14c5ba2b",
   "metadata": {
    "execution": {
     "iopub.execute_input": "2022-10-25T11:21:51.058832Z",
     "iopub.status.busy": "2022-10-25T11:21:51.057985Z",
     "iopub.status.idle": "2022-10-25T11:21:51.294582Z",
     "shell.execute_reply": "2022-10-25T11:21:51.295284Z",
     "shell.execute_reply.started": "2022-10-25T11:17:01.008068Z"
    },
    "papermill": {
     "duration": 0.301847,
     "end_time": "2022-10-25T11:21:51.295487",
     "exception": false,
     "start_time": "2022-10-25T11:21:50.993640",
     "status": "completed"
    },
    "tags": []
   },
   "outputs": [
    {
     "name": "stdout",
     "output_type": "stream",
     "text": [
      "<class 'pandas.core.frame.DataFrame'>\n",
      "RangeIndex: 515738 entries, 0 to 515737\n",
      "Data columns (total 18 columns):\n",
      " #   Column                                      Non-Null Count   Dtype  \n",
      "---  ------                                      --------------   -----  \n",
      " 0   hotel_address                               515738 non-null  object \n",
      " 1   additional_number_of_scoring                515738 non-null  int64  \n",
      " 2   review_date                                 515738 non-null  object \n",
      " 3   average_score                               515738 non-null  float64\n",
      " 4   hotel_name                                  515738 non-null  object \n",
      " 5   reviewer_nationality                        515738 non-null  object \n",
      " 6   negative_review                             515738 non-null  object \n",
      " 7   review_total_negative_word_counts           515738 non-null  int64  \n",
      " 8   total_number_of_reviews                     515738 non-null  int64  \n",
      " 9   positive_review                             515738 non-null  object \n",
      " 10  review_total_positive_word_counts           515738 non-null  int64  \n",
      " 11  total_number_of_reviews_reviewer_has_given  515738 non-null  int64  \n",
      " 12  tags                                        515738 non-null  object \n",
      " 13  days_since_review                           515738 non-null  object \n",
      " 14  lat                                         512470 non-null  float64\n",
      " 15  lng                                         512470 non-null  float64\n",
      " 16  sample                                      515738 non-null  int64  \n",
      " 17  reviewer_score                              515738 non-null  float64\n",
      "dtypes: float64(4), int64(6), object(8)\n",
      "memory usage: 70.8+ MB\n"
     ]
    }
   ],
   "source": [
    "# check for gaps and dtypes\n",
    "data.info()"
   ]
  },
  {
   "attachments": {},
   "cell_type": "markdown",
   "id": "a9a431e9",
   "metadata": {
    "papermill": {
     "duration": 0.059919,
     "end_time": "2022-10-25T11:21:51.982587",
     "exception": false,
     "start_time": "2022-10-25T11:21:51.922668",
     "status": "completed"
    },
    "tags": []
   },
   "source": [
    "### According to the conditions of the problem, we cannot delete lines."
   ]
  },
  {
   "attachments": {},
   "cell_type": "markdown",
   "id": "0e9811c9",
   "metadata": {
    "papermill": {
     "duration": 0.065772,
     "end_time": "2022-10-25T11:21:52.122623",
     "exception": false,
     "start_time": "2022-10-25T11:21:52.056851",
     "status": "completed"
    },
    "tags": []
   },
   "source": [
    "## <center> **Part II. Feature engineering**"
   ]
  },
  {
   "attachments": {},
   "cell_type": "markdown",
   "id": "1af55761",
   "metadata": {},
   "source": [
    "### Hotel address"
   ]
  },
  {
   "cell_type": "code",
   "execution_count": 112,
   "id": "be218b22",
   "metadata": {},
   "outputs": [
    {
     "name": "stdout",
     "output_type": "stream",
     "text": [
      "Same hotels with different addresses: \n",
      " hotel_address                                               hotel_name  \n",
      "Bergara 2 4 Eixample 08002 Barcelona Spain                  Hotel Regina    590\n",
      "Rooseveltplatz 15 09 Alsergrund 1090 Vienna Austria         Hotel Regina    284\n",
      "Via Cesare Correnti 13 Milan City Center 20123 Milan Italy  Hotel Regina     60\n",
      "dtype: int64\n"
     ]
    }
   ],
   "source": [
    "# check some duplitaces between address and name\n",
    "name_address = data[['hotel_address', 'hotel_name']].groupby(by='hotel_name').nunique()\n",
    "\n",
    "# create a list with hotel addresses\n",
    "list_address = name_address[name_address['hotel_address'] != 1].index.to_list()\n",
    "mask = data['hotel_name'].isin(list_address)\n",
    "\n",
    "# same name and different addresses\n",
    "same_address = data[mask][['hotel_address', 'hotel_name']].value_counts()\n",
    "print('Same hotels with different addresses: \\n', same_address)"
   ]
  },
  {
   "cell_type": "code",
   "execution_count": 113,
   "id": "c9df787b",
   "metadata": {},
   "outputs": [
    {
     "data": {
      "text/plain": [
       "Hotel Regina Barcelona    590\n",
       "Hotel Regina Vienna       284\n",
       "Hotel Regina Milan         60\n",
       "Name: hotel_name, dtype: int64"
      ]
     },
     "execution_count": 113,
     "metadata": {},
     "output_type": "execute_result"
    }
   ],
   "source": [
    "# add name for same address\n",
    "data['hotel_name'] = data.apply(lambda row: \n",
    "    (row['hotel_name'] + ' ' + row['hotel_address'].split()[-2])\n",
    "    if (row['hotel_name'] in list_address)\n",
    "    else row['hotel_name'], axis=1)\n",
    "\n",
    "# display results for combaining\n",
    "mask = data['hotel_name'].str.contains(list_address[0])\n",
    "data[mask]['hotel_name'].value_counts()"
   ]
  },
  {
   "cell_type": "code",
   "execution_count": 114,
   "id": "dd288669",
   "metadata": {},
   "outputs": [],
   "source": [
    "# create new feature - city of a hotel\n",
    "data['hotel_city'] = data['hotel_address'].apply(lambda x: 'London' if x.split(' ')[-1] == 'Kingdom' else x.split(' ')[-2])\n",
    "\n",
    "# create new feature - country of a hotel\n",
    "data['hotel_country'] = data['hotel_address'].apply(lambda x: 'United Kingdom' if x.split()[-1] == 'Kingdom' else x.split()[-1])"
   ]
  },
  {
   "attachments": {},
   "cell_type": "markdown",
   "id": "568e8d7a",
   "metadata": {},
   "source": [
    "### Additional number of scoring"
   ]
  },
  {
   "cell_type": "code",
   "execution_count": 115,
   "id": "3c8803e0",
   "metadata": {},
   "outputs": [
    {
     "data": {
      "text/plain": [
       "2682    4789\n",
       "2288    4256\n",
       "2623    4169\n",
       "1831    3578\n",
       "1936    3212\n",
       "        ... \n",
       "7         56\n",
       "5         39\n",
       "17        24\n",
       "1         13\n",
       "4         12\n",
       "Name: additional_number_of_scoring, Length: 480, dtype: int64"
      ]
     },
     "execution_count": 115,
     "metadata": {},
     "output_type": "execute_result"
    }
   ],
   "source": [
    "# displaying and thinking\n",
    "data['additional_number_of_scoring'].value_counts()"
   ]
  },
  {
   "attachments": {},
   "cell_type": "markdown",
   "id": "d0d2b896",
   "metadata": {},
   "source": [
    "Don't know what to do with this feature."
   ]
  },
  {
   "attachments": {},
   "cell_type": "markdown",
   "id": "4ef09074",
   "metadata": {},
   "source": [
    "### Review date"
   ]
  },
  {
   "cell_type": "code",
   "execution_count": 116,
   "id": "b6265a21",
   "metadata": {},
   "outputs": [],
   "source": [
    "# change to comfortable format - datetime\n",
    "data['review_date'] = pd.to_datetime(data['review_date'])"
   ]
  },
  {
   "cell_type": "code",
   "execution_count": 117,
   "id": "fc7fa142",
   "metadata": {},
   "outputs": [],
   "source": [
    "# create a new feature - year of review\n",
    "data['year_review'] = data['review_date'].dt.year"
   ]
  },
  {
   "cell_type": "code",
   "execution_count": 118,
   "id": "20f619ff",
   "metadata": {},
   "outputs": [],
   "source": [
    "# create a new feature - season of review\n",
    "data['season_review'] = data['review_date'].dt.month\n",
    "\n",
    "def get_season(month):\n",
    "    \"\"\"function for definition of season for date review\"\"\"\n",
    "    \n",
    "    if month in list(range(3,6)):\n",
    "        return 'spring'\n",
    "    \n",
    "    if month in list(range(6,9)):\n",
    "        return 'summer'\n",
    "    \n",
    "    if month in list(range(9,12)):\n",
    "        return 'autumn'\n",
    "    \n",
    "    else:\n",
    "        return 'winter'\n",
    "\n",
    "\n",
    "# transform this feature using this feature\n",
    "data['season_review'] = data['season_review'].apply(get_season)"
   ]
  },
  {
   "cell_type": "code",
   "execution_count": 119,
   "id": "cca175cf",
   "metadata": {},
   "outputs": [],
   "source": [
    "# encoding this feature\n",
    "data = pd.get_dummies(data, columns=['season_review'])"
   ]
  },
  {
   "cell_type": "code",
   "execution_count": 120,
   "id": "47681ea0",
   "metadata": {},
   "outputs": [],
   "source": [
    "# create new feature - day of month\n",
    "data['day'] = data['review_date'].dt.day"
   ]
  },
  {
   "cell_type": "code",
   "execution_count": 121,
   "id": "18d255af",
   "metadata": {},
   "outputs": [],
   "source": [
    "# finally get rid of review_date\n",
    "data = data.drop(['review_date'], axis=1)"
   ]
  },
  {
   "attachments": {},
   "cell_type": "markdown",
   "id": "277f8ce1",
   "metadata": {},
   "source": [
    "### Hotel name"
   ]
  },
  {
   "cell_type": "code",
   "execution_count": 122,
   "id": "61ffa4c3",
   "metadata": {},
   "outputs": [
    {
     "data": {
      "text/html": [
       "<div>\n",
       "<style scoped>\n",
       "    .dataframe tbody tr th:only-of-type {\n",
       "        vertical-align: middle;\n",
       "    }\n",
       "\n",
       "    .dataframe tbody tr th {\n",
       "        vertical-align: top;\n",
       "    }\n",
       "\n",
       "    .dataframe thead th {\n",
       "        text-align: right;\n",
       "    }\n",
       "</style>\n",
       "<table border=\"1\" class=\"dataframe\">\n",
       "  <thead>\n",
       "    <tr style=\"text-align: right;\">\n",
       "      <th></th>\n",
       "      <th>mean</th>\n",
       "      <th>count</th>\n",
       "    </tr>\n",
       "    <tr>\n",
       "      <th>hotel_name</th>\n",
       "      <th></th>\n",
       "      <th></th>\n",
       "    </tr>\n",
       "  </thead>\n",
       "  <tbody>\n",
       "    <tr>\n",
       "      <th>Hotel Casa Camper</th>\n",
       "      <td>9.6</td>\n",
       "      <td>301</td>\n",
       "    </tr>\n",
       "    <tr>\n",
       "      <th>Hotel The Serras</th>\n",
       "      <td>9.6</td>\n",
       "      <td>213</td>\n",
       "    </tr>\n",
       "    <tr>\n",
       "      <th>Haymarket Hotel</th>\n",
       "      <td>9.6</td>\n",
       "      <td>121</td>\n",
       "    </tr>\n",
       "    <tr>\n",
       "      <th>H10 Casa Mimosa 4 Sup</th>\n",
       "      <td>9.6</td>\n",
       "      <td>116</td>\n",
       "    </tr>\n",
       "    <tr>\n",
       "      <th>41</th>\n",
       "      <td>9.6</td>\n",
       "      <td>103</td>\n",
       "    </tr>\n",
       "    <tr>\n",
       "      <th>...</th>\n",
       "      <td>...</td>\n",
       "      <td>...</td>\n",
       "    </tr>\n",
       "    <tr>\n",
       "      <th>H tel Duc De St Simon</th>\n",
       "      <td>9.0</td>\n",
       "      <td>115</td>\n",
       "    </tr>\n",
       "    <tr>\n",
       "      <th>Baglioni Hotel London The Leading Hotels of the World</th>\n",
       "      <td>9.0</td>\n",
       "      <td>114</td>\n",
       "    </tr>\n",
       "    <tr>\n",
       "      <th>H tel La Comtesse by Elegancia</th>\n",
       "      <td>9.0</td>\n",
       "      <td>111</td>\n",
       "    </tr>\n",
       "    <tr>\n",
       "      <th>Hotel Clerici</th>\n",
       "      <td>9.0</td>\n",
       "      <td>111</td>\n",
       "    </tr>\n",
       "    <tr>\n",
       "      <th>Sir Adam Hotel</th>\n",
       "      <td>9.0</td>\n",
       "      <td>108</td>\n",
       "    </tr>\n",
       "  </tbody>\n",
       "</table>\n",
       "<p>205 rows × 2 columns</p>\n",
       "</div>"
      ],
      "text/plain": [
       "                                                    mean  count\n",
       "hotel_name                                                     \n",
       "Hotel Casa Camper                                    9.6    301\n",
       "Hotel The Serras                                     9.6    213\n",
       "Haymarket Hotel                                      9.6    121\n",
       "H10 Casa Mimosa 4 Sup                                9.6    116\n",
       "41                                                   9.6    103\n",
       "...                                                  ...    ...\n",
       "H tel Duc De St Simon                                9.0    115\n",
       "Baglioni Hotel London The Leading Hotels of the...   9.0    114\n",
       "H tel La Comtesse by Elegancia                       9.0    111\n",
       "Hotel Clerici                                        9.0    111\n",
       "Sir Adam Hotel                                       9.0    108\n",
       "\n",
       "[205 rows x 2 columns]"
      ]
     },
     "metadata": {},
     "output_type": "display_data"
    }
   ],
   "source": [
    "# group data by hotel name and average rating\n",
    "hotels_names = data.groupby('hotel_name')['average_score'].agg(['mean', 'count'])\n",
    "\n",
    "# select the best hotels\n",
    "mask = (hotels_names['mean'] >= 9.0) & (hotels_names['count'] >= 100)\n",
    "hotels_top = hotels_names[mask]\n",
    "\n",
    "# sort best hotels \n",
    "hotels_top = hotels_top.sort_values(by=['mean', 'count'], ascending=False)\n",
    "display(hotels_top)"
   ]
  },
  {
   "cell_type": "code",
   "execution_count": 123,
   "id": "175d666c",
   "metadata": {},
   "outputs": [],
   "source": [
    "# create new feature - categories of hotel names\n",
    "data['hotel_cat'] = data['hotel_name'].apply(lambda x: x if x in hotels_top.index else 'other')"
   ]
  },
  {
   "cell_type": "code",
   "execution_count": 124,
   "id": "de9a849d",
   "metadata": {},
   "outputs": [],
   "source": [
    "# encoding this feature\n",
    "bin_encoder = ce.BinaryEncoder()\n",
    "type_bin = bin_encoder.fit_transform(data['hotel_cat'])\n",
    "data = pd.concat([data, type_bin], axis=1)\n",
    "\n",
    "# get rid of this feature, the original one will use little bit later\n",
    "data = data.drop('hotel_cat', axis=1)"
   ]
  },
  {
   "attachments": {},
   "cell_type": "markdown",
   "id": "9505b4eb",
   "metadata": {
    "papermill": {
     "duration": 0.061819,
     "end_time": "2022-10-25T11:22:07.946518",
     "exception": false,
     "start_time": "2022-10-25T11:22:07.884699",
     "status": "completed"
    },
    "tags": []
   },
   "source": [
    "### Nationality"
   ]
  },
  {
   "cell_type": "code",
   "execution_count": 125,
   "id": "9a44349c",
   "metadata": {},
   "outputs": [],
   "source": [
    "# there are strange empties, i can't ignore it\n",
    "data['reviewer_nationality'] = data['reviewer_nationality'].apply(lambda x: x.strip())\n",
    "\n",
    "# leave the most common 29 and other is the rest\n",
    "common_nation = data['reviewer_nationality'].value_counts().nlargest(29).index\n",
    "data['reviewer_nationality'] = data['reviewer_nationality'].apply(lambda x: x if x in common_nation else 'other' )\n",
    "\n",
    "# create new feature - was a trip domestic?\n",
    "data['domestic'] = data.apply(lambda x: 1 if x['reviewer_nationality'] == x['hotel_country'] else 0, axis=1)\n",
    "\n",
    "# use dummies for\n",
    "data = pd.get_dummies(data, columns=['reviewer_nationality'])\n",
    "\n",
    "# remember about hotel_country, don't need it anymore\n",
    "data = data.drop(['hotel_country'], axis=1)"
   ]
  },
  {
   "attachments": {},
   "cell_type": "markdown",
   "id": "8541b7bc",
   "metadata": {},
   "source": [
    "### Negative review"
   ]
  },
  {
   "cell_type": "code",
   "execution_count": 126,
   "id": "c2767d4e",
   "metadata": {},
   "outputs": [
    {
     "data": {
      "text/plain": [
       "No Negative        127890\n",
       " Nothing            14295\n",
       " Nothing             4236\n",
       " nothing             2225\n",
       " N A                 1037\n",
       " None                 984\n",
       "                      849\n",
       " N a                  509\n",
       " Breakfast            407\n",
       " Small room           373\n",
       " Location             368\n",
       " Everything           326\n",
       " All good             318\n",
       " Nothing really       316\n",
       " none                 302\n",
       "Name: negative_review, dtype: int64"
      ]
     },
     "execution_count": 126,
     "metadata": {},
     "output_type": "execute_result"
    }
   ],
   "source": [
    "# look at the most often values\n",
    "data['negative_review'].value_counts().nlargest(15)"
   ]
  },
  {
   "attachments": {},
   "cell_type": "markdown",
   "id": "a12241cb",
   "metadata": {},
   "source": [
    "Negative review is an answer to the question that you did not like. Accordingly, the answer 'nothing' or 'everything was fine' is the absence of the negative part of the review."
   ]
  },
  {
   "cell_type": "code",
   "execution_count": 127,
   "metadata": {},
   "outputs": [],
   "source": [
    "# create a not negative list with key words\n",
    "not_negative_list = ['No Negative', ' Nothing', ' Nothing ', ' nothing ', ' nothing', \n",
    "                     ' N A', ' N a', ' Nil', ' All good', ' Nothing really', ' none',\n",
    "                     ' None', ' no complaints', ' No complaints', ' nothing really']\n",
    "\n",
    "# create a new feacture - is any negative in this review\n",
    "data['is_negative'] = data['negative_review'].apply(lambda x: 0 if x in not_negative_list else 1)"
   ]
  },
  {
   "cell_type": "code",
   "execution_count": 128,
   "id": "1f0c98dd",
   "metadata": {},
   "outputs": [],
   "source": [
    "# change values for review with non-negative contents\n",
    "data['negative_review'] = data['negative_review'].apply(lambda x: 'Positive' if x in not_negative_list else x)"
   ]
  },
  {
   "attachments": {},
   "cell_type": "markdown",
   "id": "4b675b42",
   "metadata": {},
   "source": [
    "Sentiment Intensity Analyzer"
   ]
  },
  {
   "cell_type": "code",
   "execution_count": 129,
   "id": "518e6d67",
   "metadata": {},
   "outputs": [],
   "source": [
    "# do a sentiment analysis\n",
    "sia_negative = SentimentIntensityAnalyzer()\n",
    "\n",
    "# create a new feacture for each value obtained using this library\n",
    "data['negative_review_sia'] = data['negative_review'].apply(lambda x: sia_negative.polarity_scores(x))\n",
    "data['negative_neg'] = data['negative_review_sia'].apply(lambda x: x['neg'])\n",
    "data['negative_neu'] = data['negative_review_sia'].apply(lambda x: x['neu'])\n",
    "data['negative_pos'] = data['negative_review_sia'].apply(lambda x: x['pos'])\n",
    "\n",
    "# the main value of this library\n",
    "data['negative_compound'] = data['negative_review_sia'].apply(lambda x: x['compound'])"
   ]
  },
  {
   "attachments": {},
   "cell_type": "markdown",
   "id": "a8ee3dfd",
   "metadata": {},
   "source": [
    "Afinn"
   ]
  },
  {
   "cell_type": "code",
   "execution_count": 130,
   "id": "7b24ab38",
   "metadata": {},
   "outputs": [],
   "source": [
    "# another method to do a sentiment analysis\n",
    "neg_afinn = Afinn()\n",
    "\n",
    "# create new feature obtained using this library\n",
    "data['afinn_negative'] = data['negative_review'].apply(lambda x: neg_afinn.score(x))"
   ]
  },
  {
   "attachments": {},
   "cell_type": "markdown",
   "id": "8dd2d6cc",
   "metadata": {},
   "source": [
    "Text Blob"
   ]
  },
  {
   "cell_type": "code",
   "execution_count": 131,
   "id": "c29ac531",
   "metadata": {},
   "outputs": [],
   "source": [
    "def get_polarity(text):\n",
    "    \"\"\"func to get text polarity\"\"\"\n",
    "    \n",
    "    blob = TextBlob(text)\n",
    "    \n",
    "    return blob.sentiment_assessments.polarity\n",
    "\n",
    "\n",
    "# creare new feature - the polarity value for every review\n",
    "data['negative_polarity'] = data['negative_review'].apply(get_polarity)"
   ]
  },
  {
   "cell_type": "code",
   "execution_count": 132,
   "id": "f22c7f06",
   "metadata": {},
   "outputs": [],
   "source": [
    "# another method of this library\n",
    "text_blob = Blobber(analyzer=NaiveBayesAnalyzer())\n",
    "\n",
    "def get_blobber_sentiment(text):\n",
    "    \"\"\"func for getting the coefficients of negative and positive coloring\"\"\"\n",
    "    \n",
    "    blobber_sentiment = text_blob(text).sentiment\n",
    "    \n",
    "    return blobber_sentiment[1]\n",
    "\n",
    "\n",
    "# create new feacture\n",
    "data['negative_review_pos'] = data['negative_review'].apply(get_blobber_sentiment)"
   ]
  },
  {
   "cell_type": "code",
   "execution_count": 133,
   "id": "4a643c5a",
   "metadata": {},
   "outputs": [],
   "source": [
    "# create new feature depending on the class of review\n",
    "data['negative_review_class'] = data['negative_review_pos'].apply(lambda x: 1 if x > 0.5 else 0)"
   ]
  },
  {
   "cell_type": "code",
   "execution_count": 134,
   "id": "3cb09a2b",
   "metadata": {},
   "outputs": [],
   "source": [
    "# get rid of the original feature\n",
    "data = data.drop(['negative_review'], axis=1)"
   ]
  },
  {
   "attachments": {},
   "cell_type": "markdown",
   "id": "a342d5ea",
   "metadata": {},
   "source": [
    "### Review total negative word counts"
   ]
  },
  {
   "cell_type": "code",
   "execution_count": 135,
   "id": "7cb76088",
   "metadata": {},
   "outputs": [],
   "source": [
    "# splitting and making handmade coding\n",
    "data['number_of_negative_words'] = pd.cut(data['review_total_negative_word_counts'], [-1, 0, 5, 10, 20, 50, 100, 10000], labels=['0', '1', '2', '3', '4', '5', '6'])\n",
    "\n",
    "# cast to explicit int type\n",
    "data['number_of_negative_words'] = data['number_of_negative_words'].astype(int)"
   ]
  },
  {
   "attachments": {},
   "cell_type": "markdown",
   "id": "618aed41",
   "metadata": {},
   "source": [
    "### Total number of reviews"
   ]
  },
  {
   "cell_type": "code",
   "execution_count": 136,
   "id": "1bee888a",
   "metadata": {},
   "outputs": [],
   "source": [
    "# splitting and making handmade coding\n",
    "data['number_of_reviews_cat'] = pd.cut(data['total_number_of_reviews'], [0, 100, 500, 1000, 3000, 5000, 10000, 1000000], labels=['0', '1', '2', '3', '4', '5', '6'])\n",
    "\n",
    "# cast to explicit int type\n",
    "data['number_of_reviews_cat'] = data['number_of_reviews_cat'].astype(int)"
   ]
  },
  {
   "attachments": {},
   "cell_type": "markdown",
   "id": "04e68b04",
   "metadata": {},
   "source": [
    "### Positive review"
   ]
  },
  {
   "cell_type": "code",
   "execution_count": 137,
   "id": "a87bd253",
   "metadata": {},
   "outputs": [
    {
     "data": {
      "text/plain": [
       "No Positive        35946\n",
       " Location           9222\n",
       " Everything         2284\n",
       " location           1677\n",
       " Nothing            1243\n",
       " The location       1126\n",
       " Great location     1047\n",
       " Good location       927\n",
       " Location            915\n",
       " Everything          613\n",
       "Name: positive_review, dtype: int64"
      ]
     },
     "execution_count": 137,
     "metadata": {},
     "output_type": "execute_result"
    }
   ],
   "source": [
    "# check for wrong values\n",
    "data['positive_review'].value_counts().nlargest(10)"
   ]
  },
  {
   "attachments": {},
   "cell_type": "markdown",
   "id": "31e8da57",
   "metadata": {},
   "source": [
    "Positive review is the answer to the question \"what did you like\"? Accordingly, the answer 'nothing' or 'None' is the absence of the positive part of the review."
   ]
  },
  {
   "cell_type": "code",
   "execution_count": 138,
   "metadata": {},
   "outputs": [],
   "source": [
    "# create a not positive list with key words\n",
    "not_positive_list = ['No Positive', ' Nothing', ' nothing', ' nothing ', ' Nothing ', ' None', ' None ']\n",
    "\n",
    "# create a new feacture - is any negative in this review\n",
    "data['is_positive'] = data['positive_review'].apply(lambda x: 0 if x in not_positive_list else 1)"
   ]
  },
  {
   "cell_type": "code",
   "execution_count": 139,
   "id": "f26c947e",
   "metadata": {},
   "outputs": [],
   "source": [
    "# change values for review with non-negative contents\n",
    "data['positive_review'] = data['positive_review'].apply(lambda x: 'Negative' if x in not_positive_list else x)"
   ]
  },
  {
   "attachments": {},
   "cell_type": "markdown",
   "id": "1fc209c8",
   "metadata": {},
   "source": [
    "Sentiment Intensity Analyzer"
   ]
  },
  {
   "cell_type": "code",
   "execution_count": 140,
   "metadata": {},
   "outputs": [],
   "source": [
    "# do a sentiment analysis\n",
    "sia_positive = SentimentIntensityAnalyzer()\n",
    "\n",
    "# create a new feacture for each value obtained using this library\n",
    "data['positive_review_sia'] = data['positive_review'].apply(lambda x: sia_positive.polarity_scores(x))\n",
    "data['positive_neg'] = data['positive_review_sia'].apply(lambda x: x['neg'])\n",
    "data['positive_neu'] = data['positive_review_sia'].apply(lambda x: x['neu'])\n",
    "data['positive_pos'] = data['positive_review_sia'].apply(lambda x: x['pos'])\n",
    "\n",
    "# the main value of this library\n",
    "data['positive_compound'] = data['positive_review_sia'].apply(lambda x: x['compound'])"
   ]
  },
  {
   "attachments": {},
   "cell_type": "markdown",
   "id": "70318aa3",
   "metadata": {},
   "source": [
    "Afinn"
   ]
  },
  {
   "cell_type": "code",
   "execution_count": 141,
   "id": "1a9e8253",
   "metadata": {},
   "outputs": [],
   "source": [
    "# another method to do a sentiment analysis\n",
    "pos_afinn = Afinn()\n",
    "\n",
    "# create new feature obtained using this library\n",
    "data['afinn_positive'] = data['positive_review'].apply(lambda x: pos_afinn.score(x))"
   ]
  },
  {
   "attachments": {},
   "cell_type": "markdown",
   "id": "42fad391",
   "metadata": {},
   "source": [
    "Text Blob"
   ]
  },
  {
   "cell_type": "code",
   "execution_count": 142,
   "id": "9c6075b8",
   "metadata": {},
   "outputs": [],
   "source": [
    "# try to use another one library for sentiment analysis\n",
    "def get_polarity(text):\n",
    "    \"\"\"func to get text polarity\"\"\"\n",
    "    \n",
    "    blob = TextBlob(text)\n",
    "    \n",
    "    return blob.sentiment_assessments.polarity\n",
    "\n",
    "\n",
    "# creare new feature - the polarity value for every review\n",
    "data['positive_polarity'] = data['positive_review'].apply(get_polarity)"
   ]
  },
  {
   "cell_type": "code",
   "execution_count": 143,
   "id": "1738d7f3",
   "metadata": {},
   "outputs": [],
   "source": [
    "# another method of this library\n",
    "text_blob = Blobber(analyzer=NaiveBayesAnalyzer())\n",
    "\n",
    "def get_blobber_sentiment(text):\n",
    "    \"\"\"func for getting the coefficients of negative and positive coloring\"\"\"\n",
    "    \n",
    "    blobber_sentiment = text_blob(text).sentiment\n",
    "    \n",
    "    return blobber_sentiment[1]\n",
    "\n",
    "\n",
    "# create new feacture\n",
    "data['positive_review_pos'] = data['positive_review'].apply(get_blobber_sentiment)"
   ]
  },
  {
   "cell_type": "code",
   "execution_count": 144,
   "id": "e615cf1f",
   "metadata": {},
   "outputs": [],
   "source": [
    "# create new feature depending on the class of review\n",
    "data['positive_review_class'] = data['positive_review_pos'].apply(lambda x: 1 if x >= 0.5 else 0)"
   ]
  },
  {
   "cell_type": "code",
   "execution_count": 145,
   "id": "86fbd0eb",
   "metadata": {},
   "outputs": [],
   "source": [
    "# get rid of the original feature\n",
    "data = data.drop(['positive_review'], axis=1)"
   ]
  },
  {
   "attachments": {},
   "cell_type": "markdown",
   "id": "40489097",
   "metadata": {},
   "source": [
    "### Review total positive word counts"
   ]
  },
  {
   "cell_type": "code",
   "execution_count": 146,
   "id": "f0c99391",
   "metadata": {},
   "outputs": [],
   "source": [
    "# create new feature - sum numbers of words in both reviews\n",
    "data['review_total_word_counts'] = data['review_total_positive_word_counts'] + data['review_total_negative_word_counts']\n",
    "\n",
    "# calculate the ratio of the number of words\n",
    "data['review_positive_word_proportion'] = data.apply(\n",
    "    lambda row: 0.5 if row['review_total_word_counts'] == 0 #/\n",
    "    else row['review_total_positive_word_counts'] / row['review_total_word_counts'], axis=1)\n",
    "\n",
    "# get rid of the sum number of words\n",
    "# data = data.drop('review_total_word_counts', axis = 1)"
   ]
  },
  {
   "cell_type": "code",
   "execution_count": 147,
   "id": "dd2a9b86",
   "metadata": {},
   "outputs": [],
   "source": [
    "# let's compare number of reviews in both groups\n",
    "# but we have to normalize values firstly\n",
    "mm_scaler = MinMaxScaler()\n",
    "\n",
    "# normalize for positive\n",
    "data['review_total_positive_word_counts_norm']  = pd.DataFrame(\n",
    "    mm_scaler.fit_transform(pd.DataFrame(data['review_total_positive_word_counts'])),\n",
    "    columns=['review_total_positive_word_counts'])\n",
    "\n",
    "# normalize for negative\n",
    "data['review_total_negative_word_counts_norm']  = pd.DataFrame(\n",
    "    mm_scaler.fit_transform(pd.DataFrame(data['review_total_negative_word_counts'])),\n",
    "    columns=['review_total_negative_word_counts'])\n",
    "\n",
    "# calculate the differrence between them\n",
    "data['counts_diff_norm'] = data['review_total_positive_word_counts_norm'] - data['review_total_negative_word_counts_norm']\n",
    "\n",
    "# also add one more feature - who is dominate\n",
    "data['positive_words_more'] = data['counts_diff_norm'].apply(\n",
    "    lambda x: 1 if x >= 0 else 0)\n",
    "\n",
    "# get rid of the intermediate feactures\n",
    "data = data.drop(['review_total_positive_word_counts_norm', 'review_total_negative_word_counts_norm'], axis=1)"
   ]
  },
  {
   "cell_type": "code",
   "execution_count": 148,
   "id": "d631216e",
   "metadata": {},
   "outputs": [],
   "source": [
    "# splitting and making handmade coding\n",
    "data['number_of_positive_words'] = pd.cut(data['review_total_positive_word_counts'], [-1, 0, 5, 10, 20, 50, 100, 10000], labels=['0', '1', '2', '3', '4', '5', '6'])\n",
    "\n",
    "# cast to explicit int type\n",
    "data['number_of_positive_words'] = data['number_of_positive_words'].astype(int)"
   ]
  },
  {
   "attachments": {},
   "cell_type": "markdown",
   "id": "47f4f14c",
   "metadata": {},
   "source": [
    "### Total number of reviews reviewer has given"
   ]
  },
  {
   "cell_type": "code",
   "execution_count": 149,
   "id": "438b19b5",
   "metadata": {},
   "outputs": [
    {
     "data": {
      "text/plain": [
       "0          1\n",
       "1          7\n",
       "2         15\n",
       "3          9\n",
       "4          2\n",
       "          ..\n",
       "515733    10\n",
       "515734     1\n",
       "515735    21\n",
       "515736    28\n",
       "515737     2\n",
       "Name: total_number_of_reviews_reviewer_has_given, Length: 515738, dtype: int64"
      ]
     },
     "execution_count": 149,
     "metadata": {},
     "output_type": "execute_result"
    }
   ],
   "source": [
    "# let's take a look and think about some transformation\n",
    "data['total_number_of_reviews_reviewer_has_given']"
   ]
  },
  {
   "attachments": {},
   "cell_type": "markdown",
   "id": "6c37b7c3",
   "metadata": {},
   "source": [
    "Very interesting but not clear."
   ]
  },
  {
   "attachments": {},
   "cell_type": "markdown",
   "id": "93fa68de",
   "metadata": {
    "papermill": {
     "duration": 0.065429,
     "end_time": "2022-10-25T11:22:17.981211",
     "exception": false,
     "start_time": "2022-10-25T11:22:17.915782",
     "status": "completed"
    },
    "tags": []
   },
   "source": [
    "### Tags"
   ]
  },
  {
   "cell_type": "code",
   "execution_count": 150,
   "id": "74617f53",
   "metadata": {
    "execution": {
     "iopub.execute_input": "2022-10-25T11:22:18.115790Z",
     "iopub.status.busy": "2022-10-25T11:22:18.114955Z",
     "iopub.status.idle": "2022-10-25T11:22:20.917353Z",
     "shell.execute_reply": "2022-10-25T11:22:20.916664Z",
     "shell.execute_reply.started": "2022-10-25T11:17:24.479076Z"
    },
    "papermill": {
     "duration": 2.873207,
     "end_time": "2022-10-25T11:22:20.917523",
     "exception": false,
     "start_time": "2022-10-25T11:22:18.044316",
     "status": "completed"
    },
    "tags": []
   },
   "outputs": [],
   "source": [
    "def get_tags(data):\n",
    "    \"\"\"func for changing an array to a list\"\"\"\n",
    "    \n",
    "    # create a list for tags\n",
    "    tags = []\n",
    "    \n",
    "    # get rid of useless gaps and symbols\n",
    "    for tag in list(data.replace('[', '').replace(']', '').replace(\"'\", '').split(',')):\n",
    "        tag = tag.strip()\n",
    "        tags.append(tag)\n",
    "        \n",
    "    return tags\n",
    "\n",
    "\n",
    "# use this func for our feature\n",
    "data['tags'] = data['tags'].apply(get_tags)"
   ]
  },
  {
   "cell_type": "code",
   "execution_count": 151,
   "id": "75f740cc",
   "metadata": {
    "execution": {
     "iopub.execute_input": "2022-10-25T11:22:21.110353Z",
     "iopub.status.busy": "2022-10-25T11:22:21.083985Z",
     "iopub.status.idle": "2022-10-25T11:22:21.369782Z",
     "shell.execute_reply": "2022-10-25T11:22:21.368987Z",
     "shell.execute_reply.started": "2022-10-25T11:17:27.604843Z"
    },
    "papermill": {
     "duration": 0.388204,
     "end_time": "2022-10-25T11:22:21.369952",
     "exception": false,
     "start_time": "2022-10-25T11:22:20.981748",
     "status": "completed"
    },
    "tags": []
   },
   "outputs": [
    {
     "data": {
      "text/plain": [
       "2428"
      ]
     },
     "execution_count": 151,
     "metadata": {},
     "output_type": "execute_result"
    }
   ],
   "source": [
    "# find the number of unique tags\n",
    "tags_list = []\n",
    "for tags in data['tags']:\n",
    "    tags_list.extend(tags)\n",
    "\n",
    "# display the number of unique tags\n",
    "len(set(tags_list))"
   ]
  },
  {
   "cell_type": "code",
   "execution_count": 152,
   "id": "9aaf5e48",
   "metadata": {
    "execution": {
     "iopub.execute_input": "2022-10-25T11:22:21.761780Z",
     "iopub.status.busy": "2022-10-25T11:22:21.760667Z",
     "iopub.status.idle": "2022-10-25T11:22:21.767809Z",
     "shell.execute_reply": "2022-10-25T11:22:21.768465Z",
     "shell.execute_reply.started": "2022-10-25T11:17:28.015618Z"
    },
    "papermill": {
     "duration": 0.333419,
     "end_time": "2022-10-25T11:22:21.768657",
     "exception": false,
     "start_time": "2022-10-25T11:22:21.435238",
     "status": "completed"
    },
    "tags": []
   },
   "outputs": [
    {
     "data": {
      "text/plain": [
       "[('Leisure trip', 417778),\n",
       " ('Submitted from a mobile device', 307640),\n",
       " ('Couple', 252294),\n",
       " ('Stayed 1 night', 193645),\n",
       " ('Stayed 2 nights', 133937),\n",
       " ('Solo traveler', 108545),\n",
       " ('Stayed 3 nights', 95821),\n",
       " ('Business trip', 82939),\n",
       " ('Group', 65392),\n",
       " ('Family with young children', 61015),\n",
       " ('Stayed 4 nights', 47817),\n",
       " ('Double Room', 35207),\n",
       " ('Standard Double Room', 32248),\n",
       " ('Superior Double Room', 31393),\n",
       " ('Family with older children', 26349),\n",
       " ('Deluxe Double Room', 24823),\n",
       " ('Double or Twin Room', 22393),\n",
       " ('Stayed 5 nights', 20845),\n",
       " ('Standard Double or Twin Room', 17483),\n",
       " ('Classic Double Room', 16989)]"
      ]
     },
     "execution_count": 152,
     "metadata": {},
     "output_type": "execute_result"
    }
   ],
   "source": [
    "# use counter for finding the most popular tags\n",
    "from collections import Counter\n",
    "tags_counter = Counter(tags_list)\n",
    "\n",
    "# display the 20 most popular tags\n",
    "tags_counter.most_common(20)"
   ]
  },
  {
   "cell_type": "code",
   "execution_count": 153,
   "id": "c48a0ccf",
   "metadata": {
    "execution": {
     "iopub.execute_input": "2022-10-25T11:22:21.902125Z",
     "iopub.status.busy": "2022-10-25T11:22:21.900980Z",
     "iopub.status.idle": "2022-10-25T11:22:22.413319Z",
     "shell.execute_reply": "2022-10-25T11:22:22.413845Z",
     "shell.execute_reply.started": "2022-10-25T11:17:28.249689Z"
    },
    "papermill": {
     "duration": 0.580862,
     "end_time": "2022-10-25T11:22:22.414064",
     "exception": false,
     "start_time": "2022-10-25T11:22:21.833202",
     "status": "completed"
    },
    "tags": []
   },
   "outputs": [],
   "source": [
    "# a goal of trip is one of the most common tag, so let's make two new features\n",
    "data['leisure_trip'] = data['tags'].apply(lambda x: 1 if 'Leisure trip' in x else 0)\n",
    "data['business_trip'] = data['tags'].apply(lambda x: 1 if 'Business trip' in x else 0)"
   ]
  },
  {
   "cell_type": "code",
   "execution_count": 154,
   "id": "d6007076",
   "metadata": {
    "execution": {
     "iopub.execute_input": "2022-10-25T11:22:22.547015Z",
     "iopub.status.busy": "2022-10-25T11:22:22.544553Z",
     "iopub.status.idle": "2022-10-25T11:22:22.816010Z",
     "shell.execute_reply": "2022-10-25T11:22:22.815319Z",
     "shell.execute_reply.started": "2022-10-25T11:17:28.752969Z"
    },
    "papermill": {
     "duration": 0.339025,
     "end_time": "2022-10-25T11:22:22.816200",
     "exception": false,
     "start_time": "2022-10-25T11:22:22.477175",
     "status": "completed"
    },
    "tags": []
   },
   "outputs": [],
   "source": [
    "# is the way of review submission important? - will see\n",
    "data['from_mobile'] = data['tags'].apply(lambda x: 1 if 'Submitted from a mobile device' in x else 0)"
   ]
  },
  {
   "cell_type": "code",
   "execution_count": 155,
   "id": "79b437f9",
   "metadata": {
    "execution": {
     "iopub.execute_input": "2022-10-25T11:22:22.952258Z",
     "iopub.status.busy": "2022-10-25T11:22:22.951200Z",
     "iopub.status.idle": "2022-10-25T11:22:23.808273Z",
     "shell.execute_reply": "2022-10-25T11:22:23.807630Z",
     "shell.execute_reply.started": "2022-10-25T11:17:29.019883Z"
    },
    "papermill": {
     "duration": 0.926242,
     "end_time": "2022-10-25T11:22:23.808460",
     "exception": false,
     "start_time": "2022-10-25T11:22:22.882218",
     "status": "completed"
    },
    "tags": []
   },
   "outputs": [],
   "source": [
    "# create several features from staying duration\n",
    "data['one_night'] = data['tags'].apply(lambda x: 1 if 'Stayed 1 night' in x else 0)\n",
    "data['two_nights'] = data['tags'].apply(lambda x: 1 if 'Stayed 2 nights' in x else 0)\n",
    "data['three_nights'] = data['tags'].apply(lambda x: 1 if 'Stayed 3 nights' in x else 0)"
   ]
  },
  {
   "cell_type": "code",
   "execution_count": 156,
   "id": "925015ab",
   "metadata": {
    "execution": {
     "iopub.execute_input": "2022-10-25T11:22:23.945614Z",
     "iopub.status.busy": "2022-10-25T11:22:23.944754Z",
     "iopub.status.idle": "2022-10-25T11:22:25.062384Z",
     "shell.execute_reply": "2022-10-25T11:22:25.061623Z",
     "shell.execute_reply.started": "2022-10-25T11:17:29.809951Z"
    },
    "papermill": {
     "duration": 1.189162,
     "end_time": "2022-10-25T11:22:25.062677",
     "exception": false,
     "start_time": "2022-10-25T11:22:23.873515",
     "status": "completed"
    },
    "tags": []
   },
   "outputs": [],
   "source": [
    "# create several features from numbers of guests\n",
    "data['solo'] = data['tags'].apply(lambda x: 1 if 'Solo traveler' in x else 0)\n",
    "data['couple'] = data['tags'].apply(lambda x: 1 if 'Couple' in x else 0)\n",
    "data['group'] = data['tags'].apply(lambda x: 1 if 'Group' in x else 0)\n",
    "\n",
    "# and for people with children\n",
    "data['with_children'] = data['tags'].apply(lambda x: 1 if ('Family with young children' in x) \n",
    "                                                        or ('Family with older children' in x) else 0)"
   ]
  },
  {
   "cell_type": "code",
   "execution_count": 157,
   "id": "647c765e",
   "metadata": {
    "execution": {
     "iopub.execute_input": "2022-10-25T11:22:25.203660Z",
     "iopub.status.busy": "2022-10-25T11:22:25.202100Z",
     "iopub.status.idle": "2022-10-25T11:22:25.509318Z",
     "shell.execute_reply": "2022-10-25T11:22:25.509830Z",
     "shell.execute_reply.started": "2022-10-25T11:17:30.932038Z"
    },
    "papermill": {
     "duration": 0.377408,
     "end_time": "2022-10-25T11:22:25.510039",
     "exception": false,
     "start_time": "2022-10-25T11:22:25.132631",
     "status": "completed"
    },
    "tags": []
   },
   "outputs": [],
   "source": [
    "# finally drop this feature\n",
    "data = data.drop(['tags'], axis=1)"
   ]
  },
  {
   "attachments": {},
   "cell_type": "markdown",
   "id": "099e0872",
   "metadata": {},
   "source": [
    "### Days since review"
   ]
  },
  {
   "cell_type": "code",
   "execution_count": 158,
   "id": "6ce4874c",
   "metadata": {},
   "outputs": [],
   "source": [
    "def get_days_since_review(days):\n",
    "    \"\"\"func for transforming value to int\"\"\"\n",
    "    \n",
    "    days = days.split(' ')[0]\n",
    "    \n",
    "    return int(days)\n",
    "\n",
    "# transform the feature to int\n",
    "data['days_since_review'] = data['days_since_review'].apply(get_days_since_review)"
   ]
  },
  {
   "attachments": {},
   "cell_type": "markdown",
   "id": "ae3817bb",
   "metadata": {},
   "source": [
    "### LAT and LNG"
   ]
  },
  {
   "cell_type": "code",
   "execution_count": 159,
   "id": "49c1defe",
   "metadata": {},
   "outputs": [
    {
     "data": {
      "text/html": [
       "<div>\n",
       "<style scoped>\n",
       "    .dataframe tbody tr th:only-of-type {\n",
       "        vertical-align: middle;\n",
       "    }\n",
       "\n",
       "    .dataframe tbody tr th {\n",
       "        vertical-align: top;\n",
       "    }\n",
       "\n",
       "    .dataframe thead th {\n",
       "        text-align: right;\n",
       "    }\n",
       "</style>\n",
       "<table border=\"1\" class=\"dataframe\">\n",
       "  <thead>\n",
       "    <tr style=\"text-align: right;\">\n",
       "      <th></th>\n",
       "      <th>hotel_address</th>\n",
       "      <th>lat</th>\n",
       "      <th>lng</th>\n",
       "    </tr>\n",
       "  </thead>\n",
       "  <tbody>\n",
       "    <tr>\n",
       "      <th>35</th>\n",
       "      <td>W hringer Stra e 33 35 09 Alsergrund 1090 Vien...</td>\n",
       "      <td>NaN</td>\n",
       "      <td>NaN</td>\n",
       "    </tr>\n",
       "    <tr>\n",
       "      <th>476</th>\n",
       "      <td>Gr nentorgasse 30 09 Alsergrund 1090 Vienna Au...</td>\n",
       "      <td>NaN</td>\n",
       "      <td>NaN</td>\n",
       "    </tr>\n",
       "    <tr>\n",
       "      <th>526</th>\n",
       "      <td>23 Rue Damr mont 18th arr 75018 Paris France</td>\n",
       "      <td>NaN</td>\n",
       "      <td>NaN</td>\n",
       "    </tr>\n",
       "    <tr>\n",
       "      <th>569</th>\n",
       "      <td>Josefst dter Stra e 10 12 08 Josefstadt 1080 V...</td>\n",
       "      <td>NaN</td>\n",
       "      <td>NaN</td>\n",
       "    </tr>\n",
       "    <tr>\n",
       "      <th>609</th>\n",
       "      <td>Taborstra e 8 A 02 Leopoldstadt 1020 Vienna Au...</td>\n",
       "      <td>NaN</td>\n",
       "      <td>NaN</td>\n",
       "    </tr>\n",
       "    <tr>\n",
       "      <th>774</th>\n",
       "      <td>Josefst dter Stra e 22 08 Josefstadt 1080 Vien...</td>\n",
       "      <td>NaN</td>\n",
       "      <td>NaN</td>\n",
       "    </tr>\n",
       "    <tr>\n",
       "      <th>1285</th>\n",
       "      <td>Bail n 4 6 Eixample 08010 Barcelona Spain</td>\n",
       "      <td>NaN</td>\n",
       "      <td>NaN</td>\n",
       "    </tr>\n",
       "    <tr>\n",
       "      <th>2389</th>\n",
       "      <td>Landstra er G rtel 5 03 Landstra e 1030 Vienna...</td>\n",
       "      <td>NaN</td>\n",
       "      <td>NaN</td>\n",
       "    </tr>\n",
       "    <tr>\n",
       "      <th>2802</th>\n",
       "      <td>4 rue de la P pini re 8th arr 75008 Paris France</td>\n",
       "      <td>NaN</td>\n",
       "      <td>NaN</td>\n",
       "    </tr>\n",
       "    <tr>\n",
       "      <th>3495</th>\n",
       "      <td>20 Rue De La Ga t 14th arr 75014 Paris France</td>\n",
       "      <td>NaN</td>\n",
       "      <td>NaN</td>\n",
       "    </tr>\n",
       "    <tr>\n",
       "      <th>3535</th>\n",
       "      <td>W hringer Stra e 12 09 Alsergrund 1090 Vienna ...</td>\n",
       "      <td>NaN</td>\n",
       "      <td>NaN</td>\n",
       "    </tr>\n",
       "    <tr>\n",
       "      <th>4173</th>\n",
       "      <td>Savoyenstra e 2 16 Ottakring 1160 Vienna Austria</td>\n",
       "      <td>NaN</td>\n",
       "      <td>NaN</td>\n",
       "    </tr>\n",
       "    <tr>\n",
       "      <th>4298</th>\n",
       "      <td>Pau Clar s 122 Eixample 08009 Barcelona Spain</td>\n",
       "      <td>NaN</td>\n",
       "      <td>NaN</td>\n",
       "    </tr>\n",
       "    <tr>\n",
       "      <th>12597</th>\n",
       "      <td>Sieveringer Stra e 4 19 D bling 1190 Vienna Au...</td>\n",
       "      <td>NaN</td>\n",
       "      <td>NaN</td>\n",
       "    </tr>\n",
       "    <tr>\n",
       "      <th>20923</th>\n",
       "      <td>Paragonstra e 1 11 Simmering 1110 Vienna Austria</td>\n",
       "      <td>NaN</td>\n",
       "      <td>NaN</td>\n",
       "    </tr>\n",
       "    <tr>\n",
       "      <th>20938</th>\n",
       "      <td>Hasenauerstra e 12 19 D bling 1190 Vienna Austria</td>\n",
       "      <td>NaN</td>\n",
       "      <td>NaN</td>\n",
       "    </tr>\n",
       "    <tr>\n",
       "      <th>60386</th>\n",
       "      <td>Sep lveda 180 Eixample 08011 Barcelona Spain</td>\n",
       "      <td>NaN</td>\n",
       "      <td>NaN</td>\n",
       "    </tr>\n",
       "  </tbody>\n",
       "</table>\n",
       "</div>"
      ],
      "text/plain": [
       "                                           hotel_address  lat  lng\n",
       "35     W hringer Stra e 33 35 09 Alsergrund 1090 Vien...  NaN  NaN\n",
       "476    Gr nentorgasse 30 09 Alsergrund 1090 Vienna Au...  NaN  NaN\n",
       "526         23 Rue Damr mont 18th arr 75018 Paris France  NaN  NaN\n",
       "569    Josefst dter Stra e 10 12 08 Josefstadt 1080 V...  NaN  NaN\n",
       "609    Taborstra e 8 A 02 Leopoldstadt 1020 Vienna Au...  NaN  NaN\n",
       "774    Josefst dter Stra e 22 08 Josefstadt 1080 Vien...  NaN  NaN\n",
       "1285           Bail n 4 6 Eixample 08010 Barcelona Spain  NaN  NaN\n",
       "2389   Landstra er G rtel 5 03 Landstra e 1030 Vienna...  NaN  NaN\n",
       "2802    4 rue de la P pini re 8th arr 75008 Paris France  NaN  NaN\n",
       "3495       20 Rue De La Ga t 14th arr 75014 Paris France  NaN  NaN\n",
       "3535   W hringer Stra e 12 09 Alsergrund 1090 Vienna ...  NaN  NaN\n",
       "4173    Savoyenstra e 2 16 Ottakring 1160 Vienna Austria  NaN  NaN\n",
       "4298       Pau Clar s 122 Eixample 08009 Barcelona Spain  NaN  NaN\n",
       "12597  Sieveringer Stra e 4 19 D bling 1190 Vienna Au...  NaN  NaN\n",
       "20923   Paragonstra e 1 11 Simmering 1110 Vienna Austria  NaN  NaN\n",
       "20938  Hasenauerstra e 12 19 D bling 1190 Vienna Austria  NaN  NaN\n",
       "60386       Sep lveda 180 Eixample 08011 Barcelona Spain  NaN  NaN"
      ]
     },
     "execution_count": 159,
     "metadata": {},
     "output_type": "execute_result"
    }
   ],
   "source": [
    "# remember about the gaps in these columns\n",
    "# find all hotels with empty coordinates\n",
    "unique_hotels = data[['hotel_address', 'lat', 'lng']].drop_duplicates()\n",
    "unique_hotels[unique_hotels['lat'].isnull() == True]"
   ]
  },
  {
   "cell_type": "code",
   "execution_count": 160,
   "id": "344c0f03",
   "metadata": {},
   "outputs": [],
   "source": [
    "# fill in the gaps\n",
    "# thanks for Google Maps for that, i don't know any alternatives\n",
    "hotels_coordinates = pd.DataFrame({\n",
    "    'hotel_address':[\n",
    "    'Josefst dter Stra e 10 12 08 Josefstadt 1080 Vienna Austria',\n",
    "    'Taborstra e 8 A 02 Leopoldstadt 1020 Vienna Austria',\n",
    "    'W hringer Stra e 33 35 09 Alsergrund 1090 Vienna Austria',\n",
    "    '4 rue de la P pini re 8th arr 75008 Paris France',\n",
    "    'Landstra er G rtel 5 03 Landstra e 1030 Vienna Austria',\n",
    "    'W hringer Stra e 12 09 Alsergrund 1090 Vienna Austria',\n",
    "    'Savoyenstra e 2 16 Ottakring 1160 Vienna Austria',\n",
    "    'Sieveringer Stra e 4 19 D bling 1190 Vienna Austria',\n",
    "    'Bail n 4 6 Eixample 08010 Barcelona Spain',\n",
    "    'Gr nentorgasse 30 09 Alsergrund 1090 Vienna Austria',\n",
    "    'Hasenauerstra e 12 19 D bling 1190 Vienna Austria',\n",
    "    'Josefst dter Stra e 22 08 Josefstadt 1080 Vienna Austria',\n",
    "    '23 Rue Damr mont 18th arr 75018 Paris France',\n",
    "    'Paragonstra e 1 11 Simmering 1110 Vienna Austria',\n",
    "    '20 Rue De La Ga t 14th arr 75014 Paris France',\n",
    "    'Pau Clar s 122 Eixample 08009 Barcelona Spain',\n",
    "    'Sep lveda 180 Eixample 08011 Barcelona Spain'], \n",
    "    \n",
    "    'lat':[\n",
    "    48.209910,\n",
    "    48.21360,\n",
    "    48.22036,\n",
    "    48.87532,\n",
    "    48.18888,\n",
    "    48.21700,\n",
    "    48.21975,\n",
    "    48.24614,\n",
    "    41.39181,\n",
    "    48.22163,\n",
    "    48.20971,\n",
    "    48.20973,\n",
    "    48.88910,\n",
    "    48.18814,\n",
    "    48.84012,\n",
    "    41.39272,\n",
    "    41.38340], \n",
    "    \n",
    "    'lng':[  \n",
    "    16.353425,\n",
    "    16.37988,\n",
    "    16.35580,\n",
    "    2.32338,\n",
    "    16.38377,\n",
    "    16.35989,\n",
    "    16.28565,\n",
    "    16.34153,\n",
    "    2.17784,\n",
    "    16.36641,\n",
    "    16.35145,\n",
    "    16.35148,\n",
    "    2.33310,\n",
    "    16.42049,\n",
    "    2.32357,\n",
    "    2.16739,\n",
    "    2.16294]\n",
    "})"
   ]
  },
  {
   "cell_type": "code",
   "execution_count": 161,
   "id": "737b8931",
   "metadata": {},
   "outputs": [],
   "source": [
    "# connect these table \n",
    "unique_hotels = (unique_hotels.merge(hotels_coordinates,\n",
    "    on='hotel_address',\n",
    "    how='left',\n",
    "    suffixes=('','\\x00')).sort_index(axis=1).bfill(axis=1)[unique_hotels.columns])\n",
    "\n",
    "# add a city of hotel feature to this table\n",
    "unique_hotels['hotel_city'] = data['hotel_address'].apply(lambda x: 'London' if x.split(' ')[-1] == 'Kingdom' else x.split(' ')[-2])"
   ]
  },
  {
   "cell_type": "code",
   "execution_count": 162,
   "id": "738fb829",
   "metadata": {},
   "outputs": [
    {
     "data": {
      "text/html": [
       "<div>\n",
       "<style scoped>\n",
       "    .dataframe tbody tr th:only-of-type {\n",
       "        vertical-align: middle;\n",
       "    }\n",
       "\n",
       "    .dataframe tbody tr th {\n",
       "        vertical-align: top;\n",
       "    }\n",
       "\n",
       "    .dataframe thead th {\n",
       "        text-align: right;\n",
       "    }\n",
       "</style>\n",
       "<table border=\"1\" class=\"dataframe\">\n",
       "  <thead>\n",
       "    <tr style=\"text-align: right;\">\n",
       "      <th></th>\n",
       "      <th>hotel_city</th>\n",
       "      <th>city_lat</th>\n",
       "      <th>city_lng</th>\n",
       "    </tr>\n",
       "  </thead>\n",
       "  <tbody>\n",
       "    <tr>\n",
       "      <th>0</th>\n",
       "      <td>London</td>\n",
       "      <td>51.507322</td>\n",
       "      <td>-0.127647</td>\n",
       "    </tr>\n",
       "    <tr>\n",
       "      <th>1</th>\n",
       "      <td>Barcelona</td>\n",
       "      <td>41.382894</td>\n",
       "      <td>2.177432</td>\n",
       "    </tr>\n",
       "    <tr>\n",
       "      <th>2</th>\n",
       "      <td>Paris</td>\n",
       "      <td>48.853495</td>\n",
       "      <td>2.348391</td>\n",
       "    </tr>\n",
       "    <tr>\n",
       "      <th>3</th>\n",
       "      <td>Amsterdam</td>\n",
       "      <td>52.372760</td>\n",
       "      <td>4.893604</td>\n",
       "    </tr>\n",
       "    <tr>\n",
       "      <th>4</th>\n",
       "      <td>Vienna</td>\n",
       "      <td>48.208354</td>\n",
       "      <td>16.372504</td>\n",
       "    </tr>\n",
       "    <tr>\n",
       "      <th>5</th>\n",
       "      <td>Milan</td>\n",
       "      <td>45.464194</td>\n",
       "      <td>9.189635</td>\n",
       "    </tr>\n",
       "  </tbody>\n",
       "</table>\n",
       "</div>"
      ],
      "text/plain": [
       "  hotel_city   city_lat   city_lng\n",
       "0     London  51.507322  -0.127647\n",
       "1  Barcelona  41.382894   2.177432\n",
       "2      Paris  48.853495   2.348391\n",
       "3  Amsterdam  52.372760   4.893604\n",
       "4     Vienna  48.208354  16.372504\n",
       "5      Milan  45.464194   9.189635"
      ]
     },
     "execution_count": 162,
     "metadata": {},
     "output_type": "execute_result"
    }
   ],
   "source": [
    "# let's find city center by GoogleMaps\n",
    "city_center = pd.DataFrame({\n",
    "    'hotel_city':[\n",
    "        'London',\n",
    "        'Barcelona',\n",
    "        'Paris',\n",
    "        'Amsterdam',\n",
    "        'Vienna',\n",
    "        'Milan'],\n",
    "    'city_lat':[\n",
    "        51.507322,\n",
    "        41.382894,\n",
    "        48.853495,\n",
    "        52.372760,\n",
    "        48.208354,\n",
    "        45.464194],\n",
    "    'city_lng':[\n",
    "        -0.127647,\n",
    "        2.177432,\n",
    "        2.348391,\n",
    "        4.893604,\n",
    "        16.372504,\n",
    "        9.189635]\n",
    "})\n",
    "\n",
    "# display this table\n",
    "city_center"
   ]
  },
  {
   "cell_type": "code",
   "execution_count": 163,
   "id": "5de5b55f",
   "metadata": {},
   "outputs": [
    {
     "data": {
      "text/html": [
       "<div>\n",
       "<style scoped>\n",
       "    .dataframe tbody tr th:only-of-type {\n",
       "        vertical-align: middle;\n",
       "    }\n",
       "\n",
       "    .dataframe tbody tr th {\n",
       "        vertical-align: top;\n",
       "    }\n",
       "\n",
       "    .dataframe thead th {\n",
       "        text-align: right;\n",
       "    }\n",
       "</style>\n",
       "<table border=\"1\" class=\"dataframe\">\n",
       "  <thead>\n",
       "    <tr style=\"text-align: right;\">\n",
       "      <th></th>\n",
       "      <th>hotel_address</th>\n",
       "      <th>lat</th>\n",
       "      <th>lng</th>\n",
       "      <th>hotel_city</th>\n",
       "      <th>city_lat</th>\n",
       "      <th>city_lng</th>\n",
       "      <th>coordinates</th>\n",
       "    </tr>\n",
       "  </thead>\n",
       "  <tbody>\n",
       "    <tr>\n",
       "      <th>0</th>\n",
       "      <td>Via Senigallia 6 20161 Milan Italy</td>\n",
       "      <td>45.533137</td>\n",
       "      <td>9.171102</td>\n",
       "      <td>Milan</td>\n",
       "      <td>45.464194</td>\n",
       "      <td>9.189635</td>\n",
       "      <td>(45.5331372, 9.1711019, 45.464194, 9.189635)</td>\n",
       "    </tr>\n",
       "    <tr>\n",
       "      <th>1</th>\n",
       "      <td>Arlandaweg 10 Westpoort 1043 EW Amsterdam Neth...</td>\n",
       "      <td>52.385649</td>\n",
       "      <td>4.834443</td>\n",
       "      <td>Amsterdam</td>\n",
       "      <td>52.372760</td>\n",
       "      <td>4.893604</td>\n",
       "      <td>(52.3856494, 4.834443, 52.37276, 4.893604)</td>\n",
       "    </tr>\n",
       "    <tr>\n",
       "      <th>2</th>\n",
       "      <td>Mallorca 251 Eixample 08008 Barcelona Spain</td>\n",
       "      <td>41.393192</td>\n",
       "      <td>2.16152</td>\n",
       "      <td>Barcelona</td>\n",
       "      <td>41.382894</td>\n",
       "      <td>2.177432</td>\n",
       "      <td>(41.3931918, 2.16152, 41.382894, 2.177432)</td>\n",
       "    </tr>\n",
       "    <tr>\n",
       "      <th>3</th>\n",
       "      <td>Piazza Della Repubblica 17 Central Station 201...</td>\n",
       "      <td>45.479888</td>\n",
       "      <td>9.196298</td>\n",
       "      <td>Milan</td>\n",
       "      <td>45.464194</td>\n",
       "      <td>9.189635</td>\n",
       "      <td>(45.479888, 9.1962982, 45.464194, 9.189635)</td>\n",
       "    </tr>\n",
       "    <tr>\n",
       "      <th>4</th>\n",
       "      <td>Singel 303 309 Amsterdam City Center 1012 WJ A...</td>\n",
       "      <td>52.370545</td>\n",
       "      <td>4.888644</td>\n",
       "      <td>Amsterdam</td>\n",
       "      <td>52.372760</td>\n",
       "      <td>4.893604</td>\n",
       "      <td>(52.3705447, 4.8886439, 52.37276, 4.893604)</td>\n",
       "    </tr>\n",
       "  </tbody>\n",
       "</table>\n",
       "</div>"
      ],
      "text/plain": [
       "                                       hotel_address        lat       lng  \\\n",
       "0                 Via Senigallia 6 20161 Milan Italy  45.533137  9.171102   \n",
       "1  Arlandaweg 10 Westpoort 1043 EW Amsterdam Neth...  52.385649  4.834443   \n",
       "2        Mallorca 251 Eixample 08008 Barcelona Spain  41.393192   2.16152   \n",
       "3  Piazza Della Repubblica 17 Central Station 201...  45.479888  9.196298   \n",
       "4  Singel 303 309 Amsterdam City Center 1012 WJ A...  52.370545  4.888644   \n",
       "\n",
       "  hotel_city   city_lat  city_lng  \\\n",
       "0      Milan  45.464194  9.189635   \n",
       "1  Amsterdam  52.372760  4.893604   \n",
       "2  Barcelona  41.382894  2.177432   \n",
       "3      Milan  45.464194  9.189635   \n",
       "4  Amsterdam  52.372760  4.893604   \n",
       "\n",
       "                                    coordinates  \n",
       "0  (45.5331372, 9.1711019, 45.464194, 9.189635)  \n",
       "1    (52.3856494, 4.834443, 52.37276, 4.893604)  \n",
       "2    (41.3931918, 2.16152, 41.382894, 2.177432)  \n",
       "3   (45.479888, 9.1962982, 45.464194, 9.189635)  \n",
       "4   (52.3705447, 4.8886439, 52.37276, 4.893604)  "
      ]
     },
     "execution_count": 163,
     "metadata": {},
     "output_type": "execute_result"
    }
   ],
   "source": [
    "# emmerge table with city centres\n",
    "unique_hotels = unique_hotels.merge(city_center, how='left', on='hotel_city', sort=False)\n",
    "\n",
    "# create new feature - it contains hotel and city center coordinate\n",
    "unique_hotels['coordinates'] = list(zip(\n",
    "    unique_hotels['lat'], \n",
    "    unique_hotels['lng'], \n",
    "    unique_hotels['city_lat'], \n",
    "    unique_hotels['city_lng']\n",
    "))\n",
    "\n",
    "# display this table\n",
    "unique_hotels.head()"
   ]
  },
  {
   "cell_type": "code",
   "execution_count": 164,
   "id": "95a36cf9",
   "metadata": {},
   "outputs": [],
   "source": [
    "def get_distance_to_center(coordinates):\n",
    "    \"\"\"func for calculating distance between center and a hotel\"\"\"\n",
    "    \n",
    "    coord_1 = coordinates[:2]\n",
    "    coord_2 = coordinates[-2:]\n",
    "    \n",
    "    return geodesic(coord_1, coord_2).km\n",
    "\n",
    "\n",
    "# create one more feature\n",
    "unique_hotels['distance_to_center'] = unique_hotels['coordinates'].apply(get_distance_to_center)"
   ]
  },
  {
   "cell_type": "code",
   "execution_count": 165,
   "id": "f89366ba",
   "metadata": {},
   "outputs": [],
   "source": [
    "# discard useless features\n",
    "unique_hotels = unique_hotels.drop(['lat','lng','city_lat','city_lng', 'hotel_city','coordinates'], axis=1)\n",
    "\n",
    "# dinally update our data by the new feature\n",
    "data = data.merge(\n",
    "    right=unique_hotels,\n",
    "    how='left',\n",
    "    on='hotel_address'\n",
    ")"
   ]
  },
  {
   "cell_type": "code",
   "execution_count": 166,
   "id": "1dd29abd",
   "metadata": {},
   "outputs": [],
   "source": [
    "# get rid of the original feature\n",
    "data = data.drop(['lat', 'lng'], axis=1)"
   ]
  },
  {
   "attachments": {},
   "cell_type": "markdown",
   "id": "08f871bd",
   "metadata": {},
   "source": [
    "## <center> **Part III. Feature Selection**"
   ]
  },
  {
   "attachments": {},
   "cell_type": "markdown",
   "id": "6768cc32",
   "metadata": {},
   "source": [
    "### Check for any non-numeric features"
   ]
  },
  {
   "cell_type": "code",
   "execution_count": 167,
   "id": "a460e2e4",
   "metadata": {},
   "outputs": [
    {
     "data": {
      "text/plain": [
       "hotel_address          object\n",
       "hotel_name             object\n",
       "hotel_city             object\n",
       "negative_review_sia    object\n",
       "positive_review_sia    object\n",
       "dtype: object"
      ]
     },
     "execution_count": 167,
     "metadata": {},
     "output_type": "execute_result"
    }
   ],
   "source": [
    "# display it\n",
    "data.dtypes[data.dtypes == 'object']"
   ]
  },
  {
   "cell_type": "code",
   "execution_count": 168,
   "id": "e8275044",
   "metadata": {},
   "outputs": [
    {
     "data": {
      "text/html": [
       "<div>\n",
       "<style scoped>\n",
       "    .dataframe tbody tr th:only-of-type {\n",
       "        vertical-align: middle;\n",
       "    }\n",
       "\n",
       "    .dataframe tbody tr th {\n",
       "        vertical-align: top;\n",
       "    }\n",
       "\n",
       "    .dataframe thead th {\n",
       "        text-align: right;\n",
       "    }\n",
       "</style>\n",
       "<table border=\"1\" class=\"dataframe\">\n",
       "  <thead>\n",
       "    <tr style=\"text-align: right;\">\n",
       "      <th></th>\n",
       "      <th>hotel_address</th>\n",
       "      <th>additional_number_of_scoring</th>\n",
       "      <th>average_score</th>\n",
       "      <th>hotel_name</th>\n",
       "      <th>review_total_negative_word_counts</th>\n",
       "      <th>total_number_of_reviews</th>\n",
       "      <th>review_total_positive_word_counts</th>\n",
       "      <th>total_number_of_reviews_reviewer_has_given</th>\n",
       "      <th>days_since_review</th>\n",
       "      <th>sample</th>\n",
       "      <th>reviewer_score</th>\n",
       "      <th>hotel_city</th>\n",
       "      <th>year_review</th>\n",
       "      <th>season_review_autumn</th>\n",
       "      <th>season_review_spring</th>\n",
       "      <th>season_review_summer</th>\n",
       "      <th>season_review_winter</th>\n",
       "      <th>day</th>\n",
       "      <th>hotel_cat_0</th>\n",
       "      <th>hotel_cat_1</th>\n",
       "      <th>hotel_cat_2</th>\n",
       "      <th>hotel_cat_3</th>\n",
       "      <th>hotel_cat_4</th>\n",
       "      <th>hotel_cat_5</th>\n",
       "      <th>hotel_cat_6</th>\n",
       "      <th>hotel_cat_7</th>\n",
       "      <th>domestic</th>\n",
       "      <th>reviewer_nationality_Australia</th>\n",
       "      <th>reviewer_nationality_Belgium</th>\n",
       "      <th>reviewer_nationality_Canada</th>\n",
       "      <th>reviewer_nationality_China</th>\n",
       "      <th>reviewer_nationality_France</th>\n",
       "      <th>reviewer_nationality_Germany</th>\n",
       "      <th>reviewer_nationality_Greece</th>\n",
       "      <th>reviewer_nationality_Hong Kong</th>\n",
       "      <th>reviewer_nationality_India</th>\n",
       "      <th>reviewer_nationality_Ireland</th>\n",
       "      <th>reviewer_nationality_Israel</th>\n",
       "      <th>reviewer_nationality_Italy</th>\n",
       "      <th>reviewer_nationality_Kuwait</th>\n",
       "      <th>reviewer_nationality_Netherlands</th>\n",
       "      <th>reviewer_nationality_New Zealand</th>\n",
       "      <th>reviewer_nationality_Poland</th>\n",
       "      <th>reviewer_nationality_Qatar</th>\n",
       "      <th>reviewer_nationality_Romania</th>\n",
       "      <th>reviewer_nationality_Russia</th>\n",
       "      <th>reviewer_nationality_Saudi Arabia</th>\n",
       "      <th>reviewer_nationality_Singapore</th>\n",
       "      <th>reviewer_nationality_South Africa</th>\n",
       "      <th>reviewer_nationality_Spain</th>\n",
       "      <th>reviewer_nationality_Sweden</th>\n",
       "      <th>reviewer_nationality_Switzerland</th>\n",
       "      <th>reviewer_nationality_Turkey</th>\n",
       "      <th>reviewer_nationality_United Arab Emirates</th>\n",
       "      <th>reviewer_nationality_United Kingdom</th>\n",
       "      <th>reviewer_nationality_United States of America</th>\n",
       "      <th>reviewer_nationality_other</th>\n",
       "      <th>is_negative</th>\n",
       "      <th>negative_review_sia</th>\n",
       "      <th>negative_neg</th>\n",
       "      <th>negative_neu</th>\n",
       "      <th>negative_pos</th>\n",
       "      <th>negative_compound</th>\n",
       "      <th>afinn_negative</th>\n",
       "      <th>negative_polarity</th>\n",
       "      <th>negative_review_pos</th>\n",
       "      <th>negative_review_class</th>\n",
       "      <th>number_of_negative_words</th>\n",
       "      <th>number_of_reviews_cat</th>\n",
       "      <th>is_positive</th>\n",
       "      <th>positive_review_sia</th>\n",
       "      <th>positive_neg</th>\n",
       "      <th>positive_neu</th>\n",
       "      <th>positive_pos</th>\n",
       "      <th>positive_compound</th>\n",
       "      <th>afinn_positive</th>\n",
       "      <th>positive_polarity</th>\n",
       "      <th>positive_review_pos</th>\n",
       "      <th>positive_review_class</th>\n",
       "      <th>review_total_word_counts</th>\n",
       "      <th>review_positive_word_proportion</th>\n",
       "      <th>counts_diff_norm</th>\n",
       "      <th>positive_words_more</th>\n",
       "      <th>number_of_positive_words</th>\n",
       "      <th>leisure_trip</th>\n",
       "      <th>business_trip</th>\n",
       "      <th>from_mobile</th>\n",
       "      <th>one_night</th>\n",
       "      <th>two_nights</th>\n",
       "      <th>three_nights</th>\n",
       "      <th>solo</th>\n",
       "      <th>couple</th>\n",
       "      <th>group</th>\n",
       "      <th>with_children</th>\n",
       "      <th>distance_to_center</th>\n",
       "    </tr>\n",
       "  </thead>\n",
       "  <tbody>\n",
       "    <tr>\n",
       "      <th>0</th>\n",
       "      <td>Via Senigallia 6 20161 Milan Italy</td>\n",
       "      <td>904</td>\n",
       "      <td>8.1</td>\n",
       "      <td>Hotel Da Vinci</td>\n",
       "      <td>52</td>\n",
       "      <td>16670</td>\n",
       "      <td>62</td>\n",
       "      <td>1</td>\n",
       "      <td>13</td>\n",
       "      <td>0</td>\n",
       "      <td>0.0</td>\n",
       "      <td>Milan</td>\n",
       "      <td>2017</td>\n",
       "      <td>0</td>\n",
       "      <td>0</td>\n",
       "      <td>1</td>\n",
       "      <td>0</td>\n",
       "      <td>21</td>\n",
       "      <td>0</td>\n",
       "      <td>0</td>\n",
       "      <td>0</td>\n",
       "      <td>0</td>\n",
       "      <td>0</td>\n",
       "      <td>0</td>\n",
       "      <td>0</td>\n",
       "      <td>1</td>\n",
       "      <td>0</td>\n",
       "      <td>0</td>\n",
       "      <td>0</td>\n",
       "      <td>0</td>\n",
       "      <td>0</td>\n",
       "      <td>0</td>\n",
       "      <td>0</td>\n",
       "      <td>0</td>\n",
       "      <td>0</td>\n",
       "      <td>0</td>\n",
       "      <td>0</td>\n",
       "      <td>0</td>\n",
       "      <td>0</td>\n",
       "      <td>0</td>\n",
       "      <td>0</td>\n",
       "      <td>0</td>\n",
       "      <td>0</td>\n",
       "      <td>0</td>\n",
       "      <td>0</td>\n",
       "      <td>0</td>\n",
       "      <td>0</td>\n",
       "      <td>0</td>\n",
       "      <td>0</td>\n",
       "      <td>0</td>\n",
       "      <td>0</td>\n",
       "      <td>0</td>\n",
       "      <td>0</td>\n",
       "      <td>0</td>\n",
       "      <td>1</td>\n",
       "      <td>0</td>\n",
       "      <td>0</td>\n",
       "      <td>1</td>\n",
       "      <td>{'neg': 0.129, 'neu': 0.747, 'pos': 0.125, 'co...</td>\n",
       "      <td>0.129</td>\n",
       "      <td>0.747</td>\n",
       "      <td>0.125</td>\n",
       "      <td>-0.0554</td>\n",
       "      <td>5.0</td>\n",
       "      <td>-0.05</td>\n",
       "      <td>0.956721</td>\n",
       "      <td>1</td>\n",
       "      <td>5</td>\n",
       "      <td>6</td>\n",
       "      <td>1</td>\n",
       "      <td>{'neg': 0.0, 'neu': 0.671, 'pos': 0.329, 'comp...</td>\n",
       "      <td>0.0</td>\n",
       "      <td>0.671</td>\n",
       "      <td>0.329</td>\n",
       "      <td>0.9615</td>\n",
       "      <td>20.0</td>\n",
       "      <td>0.461364</td>\n",
       "      <td>0.995351</td>\n",
       "      <td>1</td>\n",
       "      <td>114</td>\n",
       "      <td>0.54386</td>\n",
       "      <td>0.029511</td>\n",
       "      <td>1</td>\n",
       "      <td>5</td>\n",
       "      <td>1</td>\n",
       "      <td>0</td>\n",
       "      <td>0</td>\n",
       "      <td>0</td>\n",
       "      <td>1</td>\n",
       "      <td>0</td>\n",
       "      <td>0</td>\n",
       "      <td>1</td>\n",
       "      <td>0</td>\n",
       "      <td>0</td>\n",
       "      <td>7.79817</td>\n",
       "    </tr>\n",
       "  </tbody>\n",
       "</table>\n",
       "</div>"
      ],
      "text/plain": [
       "                        hotel_address  additional_number_of_scoring  \\\n",
       "0  Via Senigallia 6 20161 Milan Italy                           904   \n",
       "\n",
       "   average_score      hotel_name  review_total_negative_word_counts  \\\n",
       "0            8.1  Hotel Da Vinci                                 52   \n",
       "\n",
       "   total_number_of_reviews  review_total_positive_word_counts  \\\n",
       "0                    16670                                 62   \n",
       "\n",
       "   total_number_of_reviews_reviewer_has_given  days_since_review  sample  \\\n",
       "0                                           1                 13       0   \n",
       "\n",
       "   reviewer_score hotel_city  year_review  season_review_autumn  \\\n",
       "0             0.0      Milan         2017                     0   \n",
       "\n",
       "   season_review_spring  season_review_summer  season_review_winter  day  \\\n",
       "0                     0                     1                     0   21   \n",
       "\n",
       "   hotel_cat_0  hotel_cat_1  hotel_cat_2  hotel_cat_3  hotel_cat_4  \\\n",
       "0            0            0            0            0            0   \n",
       "\n",
       "   hotel_cat_5  hotel_cat_6  hotel_cat_7  domestic  \\\n",
       "0            0            0            1         0   \n",
       "\n",
       "   reviewer_nationality_Australia  reviewer_nationality_Belgium  \\\n",
       "0                               0                             0   \n",
       "\n",
       "   reviewer_nationality_Canada  reviewer_nationality_China  \\\n",
       "0                            0                           0   \n",
       "\n",
       "   reviewer_nationality_France  reviewer_nationality_Germany  \\\n",
       "0                            0                             0   \n",
       "\n",
       "   reviewer_nationality_Greece  reviewer_nationality_Hong Kong  \\\n",
       "0                            0                               0   \n",
       "\n",
       "   reviewer_nationality_India  reviewer_nationality_Ireland  \\\n",
       "0                           0                             0   \n",
       "\n",
       "   reviewer_nationality_Israel  reviewer_nationality_Italy  \\\n",
       "0                            0                           0   \n",
       "\n",
       "   reviewer_nationality_Kuwait  reviewer_nationality_Netherlands  \\\n",
       "0                            0                                 0   \n",
       "\n",
       "   reviewer_nationality_New Zealand  reviewer_nationality_Poland  \\\n",
       "0                                 0                            0   \n",
       "\n",
       "   reviewer_nationality_Qatar  reviewer_nationality_Romania  \\\n",
       "0                           0                             0   \n",
       "\n",
       "   reviewer_nationality_Russia  reviewer_nationality_Saudi Arabia  \\\n",
       "0                            0                                  0   \n",
       "\n",
       "   reviewer_nationality_Singapore  reviewer_nationality_South Africa  \\\n",
       "0                               0                                  0   \n",
       "\n",
       "   reviewer_nationality_Spain  reviewer_nationality_Sweden  \\\n",
       "0                           0                            0   \n",
       "\n",
       "   reviewer_nationality_Switzerland  reviewer_nationality_Turkey  \\\n",
       "0                                 0                            0   \n",
       "\n",
       "   reviewer_nationality_United Arab Emirates  \\\n",
       "0                                          0   \n",
       "\n",
       "   reviewer_nationality_United Kingdom  \\\n",
       "0                                    1   \n",
       "\n",
       "   reviewer_nationality_United States of America  reviewer_nationality_other  \\\n",
       "0                                              0                           0   \n",
       "\n",
       "   is_negative                                negative_review_sia  \\\n",
       "0            1  {'neg': 0.129, 'neu': 0.747, 'pos': 0.125, 'co...   \n",
       "\n",
       "   negative_neg  negative_neu  negative_pos  negative_compound  \\\n",
       "0         0.129         0.747         0.125            -0.0554   \n",
       "\n",
       "   afinn_negative  negative_polarity  negative_review_pos  \\\n",
       "0             5.0              -0.05             0.956721   \n",
       "\n",
       "   negative_review_class  number_of_negative_words  number_of_reviews_cat  \\\n",
       "0                      1                         5                      6   \n",
       "\n",
       "   is_positive                                positive_review_sia  \\\n",
       "0            1  {'neg': 0.0, 'neu': 0.671, 'pos': 0.329, 'comp...   \n",
       "\n",
       "   positive_neg  positive_neu  positive_pos  positive_compound  \\\n",
       "0           0.0         0.671         0.329             0.9615   \n",
       "\n",
       "   afinn_positive  positive_polarity  positive_review_pos  \\\n",
       "0            20.0           0.461364             0.995351   \n",
       "\n",
       "   positive_review_class  review_total_word_counts  \\\n",
       "0                      1                       114   \n",
       "\n",
       "   review_positive_word_proportion  counts_diff_norm  positive_words_more  \\\n",
       "0                          0.54386          0.029511                    1   \n",
       "\n",
       "   number_of_positive_words  leisure_trip  business_trip  from_mobile  \\\n",
       "0                         5             1              0            0   \n",
       "\n",
       "   one_night  two_nights  three_nights  solo  couple  group  with_children  \\\n",
       "0          0           1             0     0       1      0              0   \n",
       "\n",
       "   distance_to_center  \n",
       "0             7.79817  "
      ]
     },
     "execution_count": 168,
     "metadata": {},
     "output_type": "execute_result"
    }
   ],
   "source": [
    "# check manually\n",
    "data.head(1)"
   ]
  },
  {
   "cell_type": "code",
   "execution_count": 169,
   "id": "ef140d8a",
   "metadata": {},
   "outputs": [],
   "source": [
    "# get rid of non-numerical features\n",
    "data = data.drop(['hotel_address', 'hotel_name', 'positive_review_sia', 'negative_review_sia'], axis=1)\n",
    "\n",
    "# use dummies for encoding\n",
    "data = pd.get_dummies(data, columns=['hotel_city'])"
   ]
  },
  {
   "attachments": {},
   "cell_type": "markdown",
   "id": "7bbadc09",
   "metadata": {},
   "source": [
    "### Create new features"
   ]
  },
  {
   "cell_type": "code",
   "execution_count": 170,
   "id": "9df51856",
   "metadata": {},
   "outputs": [],
   "source": [
    "# calculate the difference between pompounds\n",
    "data['diff_compound'] = data['positive_compound'] + data['negative_compound']\n",
    "\n",
    "# multiply this feature on the word proportion\n",
    "data['diff_compound_prop'] = data['diff_compound'] * data['review_positive_word_proportion']\n",
    "\n",
    "# and create one more unclear\n",
    "data['negative_compound_words'] = data['negative_compound'] * data['number_of_negative_words']\n",
    "\n",
    "# calculate which part is dominating\n",
    "data['positive_or_negative'] = data['is_positive'] - data['is_negative']"
   ]
  },
  {
   "attachments": {},
   "cell_type": "markdown",
   "id": "043f4d24",
   "metadata": {},
   "source": [
    "### Correlation"
   ]
  },
  {
   "cell_type": "code",
   "execution_count": 171,
   "id": "aacef291",
   "metadata": {
    "execution": {
     "iopub.execute_input": "2022-10-25T11:22:38.537472Z",
     "iopub.status.busy": "2022-10-25T11:22:38.536765Z",
     "iopub.status.idle": "2022-10-25T11:22:59.149138Z",
     "shell.execute_reply": "2022-10-25T11:22:59.149641Z",
     "shell.execute_reply.started": "2022-10-25T11:17:40.737230Z"
    },
    "papermill": {
     "duration": 20.687871,
     "end_time": "2022-10-25T11:22:59.149866",
     "exception": false,
     "start_time": "2022-10-25T11:22:38.461995",
     "status": "completed"
    },
    "tags": []
   },
   "outputs": [
    {
     "data": {
      "image/png": "[encoded data removed]",
      "text/plain": [
       "<Figure size 3600x3600 with 2 Axes>"
      ]
     },
     "metadata": {
      "needs_background": "light"
     },
     "output_type": "display_data"
    }
   ],
   "source": [
    "# check correlation\n",
    "corr = data.corr()\n",
    "\n",
    "# picturaze\n",
    "fig, ax = plt.subplots(figsize=(50,50))\n",
    "sns.heatmap(round(corr[corr.abs() > 0.85], 2), annot=True, linewidths=0.1, linecolor='gray', ax=ax);"
   ]
  },
  {
   "attachments": {},
   "cell_type": "markdown",
   "id": "696b2664",
   "metadata": {},
   "source": [
    "Yeah-yeah. I know you can't see anything, but i've used an expanded graph."
   ]
  },
  {
   "attachments": {},
   "cell_type": "markdown",
   "id": "c6e8a4cf",
   "metadata": {},
   "source": [
    "### Correlation with the target feature"
   ]
  },
  {
   "cell_type": "code",
   "execution_count": 172,
   "id": "9dfb0845",
   "metadata": {},
   "outputs": [
    {
     "data": {
      "application/vnd.plotly.v1+json": {
       "config": {
        "plotlyServerURL": "https://plot.ly"
       },
       "data": [
        {
         "alignmentgroup": "True",
         "hovertemplate": "value=%{marker.color}<br>index=%{y}<extra></extra>",
         "legendgroup": "",
         "marker": {
          "color": [
           -0.442,
           -0.39,
           -0.383,
           -0.368,
           -0.297,
           -0.233,
           -0.23,
           -0.17,
           -0.133,
           -0.114,
           -0.113,
           -0.083,
           -0.076,
           -0.073,
           -0.062,
           -0.044,
           -0.044,
           -0.042,
           -0.039,
           -0.034,
           -0.026,
           -0.025,
           -0.023,
           -0.022,
           -0.021,
           -0.021,
           -0.02,
           -0.019,
           -0.018,
           -0.015,
           -0.015,
           -0.014,
           -0.014,
           -0.013,
           -0.012,
           -0.011,
           -0.01,
           -0.008,
           -0.007,
           -0.007,
           -0.007,
           -0.004,
           -0.002,
           0.002,
           0.002,
           0.002,
           0.003,
           0.005,
           0.005,
           0.007,
           0.009,
           0.011,
           0.011,
           0.011,
           0.012,
           0.012,
           0.012,
           0.014,
           0.015,
           0.016,
           0.021,
           0.025,
           0.027,
           0.029,
           0.035,
           0.053,
           0.056,
           0.064,
           0.07,
           0.092,
           0.118,
           0.118,
           0.121,
           0.131,
           0.14,
           0.14,
           0.143,
           0.194,
           0.22,
           0.251,
           0.254,
           0.284,
           0.301,
           0.313,
           0.331,
           0.331,
           0.333,
           0.364,
           0.364,
           0.41,
           0.418,
           0.429,
           0.447,
           0.466,
           0.492,
           0.538,
           0.544,
           0.561,
           1,
           null
          ],
          "coloraxis": "coloraxis",
          "pattern": {
           "shape": ""
          }
         },
         "name": "",
         "offsetgroup": "",
         "orientation": "h",
         "showlegend": false,
         "textposition": "auto",
         "type": "bar",
         "x": [
          -0.442,
          -0.39,
          -0.383,
          -0.368,
          -0.297,
          -0.233,
          -0.23,
          -0.17,
          -0.133,
          -0.114,
          -0.113,
          -0.083,
          -0.076,
          -0.073,
          -0.062,
          -0.044,
          -0.044,
          -0.042,
          -0.039,
          -0.034,
          -0.026,
          -0.025,
          -0.023,
          -0.022,
          -0.021,
          -0.021,
          -0.02,
          -0.019,
          -0.018,
          -0.015,
          -0.015,
          -0.014,
          -0.014,
          -0.013,
          -0.012,
          -0.011,
          -0.01,
          -0.008,
          -0.007,
          -0.007,
          -0.007,
          -0.004,
          -0.002,
          0.002,
          0.002,
          0.002,
          0.003,
          0.005,
          0.005,
          0.007,
          0.009,
          0.011,
          0.011,
          0.011,
          0.012,
          0.012,
          0.012,
          0.014,
          0.015,
          0.016,
          0.021,
          0.025,
          0.027,
          0.029,
          0.035,
          0.053,
          0.056,
          0.064,
          0.07,
          0.092,
          0.118,
          0.118,
          0.121,
          0.131,
          0.14,
          0.14,
          0.143,
          0.194,
          0.22,
          0.251,
          0.254,
          0.284,
          0.301,
          0.313,
          0.331,
          0.331,
          0.333,
          0.364,
          0.364,
          0.41,
          0.418,
          0.429,
          0.447,
          0.466,
          0.492,
          0.538,
          0.544,
          0.561,
          1,
          null
         ],
         "xaxis": "x",
         "y": [
          "number_of_negative_words",
          "is_negative",
          "review_total_negative_word_counts",
          "negative_neu",
          "positive_neg",
          "negative_neg",
          "negative_review_class",
          "review_total_word_counts",
          "hotel_cat_7",
          "negative_review_pos",
          "business_trip",
          "solo",
          "number_of_reviews_cat",
          "total_number_of_reviews",
          "additional_number_of_scoring",
          "reviewer_nationality_United Arab Emirates",
          "hotel_city_London",
          "reviewer_nationality_Saudi Arabia",
          "reviewer_nationality_other",
          "season_review_autumn",
          "reviewer_nationality_India",
          "reviewer_nationality_Turkey",
          "reviewer_nationality_Qatar",
          "reviewer_nationality_Kuwait",
          "reviewer_nationality_Germany",
          "reviewer_nationality_Netherlands",
          "reviewer_nationality_Italy",
          "reviewer_nationality_Switzerland",
          "reviewer_nationality_France",
          "reviewer_nationality_Belgium",
          "reviewer_nationality_Hong Kong",
          "with_children",
          "reviewer_nationality_Spain",
          "reviewer_nationality_Romania",
          "reviewer_nationality_Singapore",
          "reviewer_nationality_Greece",
          "reviewer_nationality_Sweden",
          "reviewer_nationality_Poland",
          "reviewer_nationality_Russia",
          "hotel_city_Milan",
          "season_review_summer",
          "two_nights",
          "reviewer_nationality_South Africa",
          "day",
          "days_since_review",
          "total_number_of_reviews_reviewer_has_given",
          "reviewer_nationality_China",
          "one_night",
          "hotel_city_Paris",
          "reviewer_nationality_Ireland",
          "domestic",
          "three_nights",
          "year_review",
          "hotel_city_Amsterdam",
          "group",
          "reviewer_nationality_New Zealand",
          "season_review_spring",
          "reviewer_nationality_Canada",
          "from_mobile",
          "distance_to_center",
          "reviewer_nationality_Israel",
          "reviewer_nationality_Australia",
          "hotel_city_Vienna",
          "season_review_winter",
          "hotel_city_Barcelona",
          "reviewer_nationality_United Kingdom",
          "positive_neu",
          "reviewer_nationality_United States of America",
          "couple",
          "hotel_cat_0",
          "leisure_trip",
          "hotel_cat_1",
          "hotel_cat_2",
          "hotel_cat_4",
          "hotel_cat_5",
          "hotel_cat_6",
          "hotel_cat_3",
          "positive_review_class",
          "review_total_positive_word_counts",
          "negative_compound_words",
          "positive_pos",
          "is_positive",
          "positive_polarity",
          "positive_review_pos",
          "negative_polarity",
          "number_of_positive_words",
          "afinn_negative",
          "average_score",
          "afinn_positive",
          "negative_pos",
          "negative_compound",
          "positive_compound",
          "positive_or_negative",
          "counts_diff_norm",
          "positive_words_more",
          "diff_compound_prop",
          "diff_compound",
          "review_positive_word_proportion",
          "reviewer_score",
          "sample"
         ],
         "yaxis": "y"
        }
       ],
       "layout": {
        "barmode": "relative",
        "coloraxis": {
         "colorbar": {
          "title": {
           "text": "value"
          }
         },
         "colorscale": [
          [
           0,
           "#0d0887"
          ],
          [
           0.1111111111111111,
           "#46039f"
          ],
          [
           0.2222222222222222,
           "#7201a8"
          ],
          [
           0.3333333333333333,
           "#9c179e"
          ],
          [
           0.4444444444444444,
           "#bd3786"
          ],
          [
           0.5555555555555556,
           "#d8576b"
          ],
          [
           0.6666666666666666,
           "#ed7953"
          ],
          [
           0.7777777777777778,
           "#fb9f3a"
          ],
          [
           0.8888888888888888,
           "#fdca26"
          ],
          [
           1,
           "#f0f921"
          ]
         ]
        },
        "height": 2000,
        "legend": {
         "tracegroupgap": 0
        },
        "template": {
         "data": {
          "bar": [
           {
            "error_x": {
             "color": "#2a3f5f"
            },
            "error_y": {
             "color": "#2a3f5f"
            },
            "marker": {
             "line": {
              "color": "#E5ECF6",
              "width": 0.5
             },
             "pattern": {
              "fillmode": "overlay",
              "size": 10,
              "solidity": 0.2
             }
            },
            "type": "bar"
           }
          ],
          "barpolar": [
           {
            "marker": {
             "line": {
              "color": "#E5ECF6",
              "width": 0.5
             },
             "pattern": {
              "fillmode": "overlay",
              "size": 10,
              "solidity": 0.2
             }
            },
            "type": "barpolar"
           }
          ],
          "carpet": [
           {
            "aaxis": {
             "endlinecolor": "#2a3f5f",
             "gridcolor": "white",
             "linecolor": "white",
             "minorgridcolor": "white",
             "startlinecolor": "#2a3f5f"
            },
            "baxis": {
             "endlinecolor": "#2a3f5f",
             "gridcolor": "white",
             "linecolor": "white",
             "minorgridcolor": "white",
             "startlinecolor": "#2a3f5f"
            },
            "type": "carpet"
           }
          ],
          "choropleth": [
           {
            "colorbar": {
             "outlinewidth": 0,
             "ticks": ""
            },
            "type": "choropleth"
           }
          ],
          "contour": [
           {
            "colorbar": {
             "outlinewidth": 0,
             "ticks": ""
            },
            "colorscale": [
             [
              0,
              "#0d0887"
             ],
             [
              0.1111111111111111,
              "#46039f"
             ],
             [
              0.2222222222222222,
              "#7201a8"
             ],
             [
              0.3333333333333333,
              "#9c179e"
             ],
             [
              0.4444444444444444,
              "#bd3786"
             ],
             [
              0.5555555555555556,
              "#d8576b"
             ],
             [
              0.6666666666666666,
              "#ed7953"
             ],
             [
              0.7777777777777778,
              "#fb9f3a"
             ],
             [
              0.8888888888888888,
              "#fdca26"
             ],
             [
              1,
              "#f0f921"
             ]
            ],
            "type": "contour"
           }
          ],
          "contourcarpet": [
           {
            "colorbar": {
             "outlinewidth": 0,
             "ticks": ""
            },
            "type": "contourcarpet"
           }
          ],
          "heatmap": [
           {
            "colorbar": {
             "outlinewidth": 0,
             "ticks": ""
            },
            "colorscale": [
             [
              0,
              "#0d0887"
             ],
             [
              0.1111111111111111,
              "#46039f"
             ],
             [
              0.2222222222222222,
              "#7201a8"
             ],
             [
              0.3333333333333333,
              "#9c179e"
             ],
             [
              0.4444444444444444,
              "#bd3786"
             ],
             [
              0.5555555555555556,
              "#d8576b"
             ],
             [
              0.6666666666666666,
              "#ed7953"
             ],
             [
              0.7777777777777778,
              "#fb9f3a"
             ],
             [
              0.8888888888888888,
              "#fdca26"
             ],
             [
              1,
              "#f0f921"
             ]
            ],
            "type": "heatmap"
           }
          ],
          "heatmapgl": [
           {
            "colorbar": {
             "outlinewidth": 0,
             "ticks": ""
            },
            "colorscale": [
             [
              0,
              "#0d0887"
             ],
             [
              0.1111111111111111,
              "#46039f"
             ],
             [
              0.2222222222222222,
              "#7201a8"
             ],
             [
              0.3333333333333333,
              "#9c179e"
             ],
             [
              0.4444444444444444,
              "#bd3786"
             ],
             [
              0.5555555555555556,
              "#d8576b"
             ],
             [
              0.6666666666666666,
              "#ed7953"
             ],
             [
              0.7777777777777778,
              "#fb9f3a"
             ],
             [
              0.8888888888888888,
              "#fdca26"
             ],
             [
              1,
              "#f0f921"
             ]
            ],
            "type": "heatmapgl"
           }
          ],
          "histogram": [
           {
            "marker": {
             "pattern": {
              "fillmode": "overlay",
              "size": 10,
              "solidity": 0.2
             }
            },
            "type": "histogram"
           }
          ],
          "histogram2d": [
           {
            "colorbar": {
             "outlinewidth": 0,
             "ticks": ""
            },
            "colorscale": [
             [
              0,
              "#0d0887"
             ],
             [
              0.1111111111111111,
              "#46039f"
             ],
             [
              0.2222222222222222,
              "#7201a8"
             ],
             [
              0.3333333333333333,
              "#9c179e"
             ],
             [
              0.4444444444444444,
              "#bd3786"
             ],
             [
              0.5555555555555556,
              "#d8576b"
             ],
             [
              0.6666666666666666,
              "#ed7953"
             ],
             [
              0.7777777777777778,
              "#fb9f3a"
             ],
             [
              0.8888888888888888,
              "#fdca26"
             ],
             [
              1,
              "#f0f921"
             ]
            ],
            "type": "histogram2d"
           }
          ],
          "histogram2dcontour": [
           {
            "colorbar": {
             "outlinewidth": 0,
             "ticks": ""
            },
            "colorscale": [
             [
              0,
              "#0d0887"
             ],
             [
              0.1111111111111111,
              "#46039f"
             ],
             [
              0.2222222222222222,
              "#7201a8"
             ],
             [
              0.3333333333333333,
              "#9c179e"
             ],
             [
              0.4444444444444444,
              "#bd3786"
             ],
             [
              0.5555555555555556,
              "#d8576b"
             ],
             [
              0.6666666666666666,
              "#ed7953"
             ],
             [
              0.7777777777777778,
              "#fb9f3a"
             ],
             [
              0.8888888888888888,
              "#fdca26"
             ],
             [
              1,
              "#f0f921"
             ]
            ],
            "type": "histogram2dcontour"
           }
          ],
          "mesh3d": [
           {
            "colorbar": {
             "outlinewidth": 0,
             "ticks": ""
            },
            "type": "mesh3d"
           }
          ],
          "parcoords": [
           {
            "line": {
             "colorbar": {
              "outlinewidth": 0,
              "ticks": ""
             }
            },
            "type": "parcoords"
           }
          ],
          "pie": [
           {
            "automargin": true,
            "type": "pie"
           }
          ],
          "scatter": [
           {
            "fillpattern": {
             "fillmode": "overlay",
             "size": 10,
             "solidity": 0.2
            },
            "type": "scatter"
           }
          ],
          "scatter3d": [
           {
            "line": {
             "colorbar": {
              "outlinewidth": 0,
              "ticks": ""
             }
            },
            "marker": {
             "colorbar": {
              "outlinewidth": 0,
              "ticks": ""
             }
            },
            "type": "scatter3d"
           }
          ],
          "scattercarpet": [
           {
            "marker": {
             "colorbar": {
              "outlinewidth": 0,
              "ticks": ""
             }
            },
            "type": "scattercarpet"
           }
          ],
          "scattergeo": [
           {
            "marker": {
             "colorbar": {
              "outlinewidth": 0,
              "ticks": ""
             }
            },
            "type": "scattergeo"
           }
          ],
          "scattergl": [
           {
            "marker": {
             "colorbar": {
              "outlinewidth": 0,
              "ticks": ""
             }
            },
            "type": "scattergl"
           }
          ],
          "scattermapbox": [
           {
            "marker": {
             "colorbar": {
              "outlinewidth": 0,
              "ticks": ""
             }
            },
            "type": "scattermapbox"
           }
          ],
          "scatterpolar": [
           {
            "marker": {
             "colorbar": {
              "outlinewidth": 0,
              "ticks": ""
             }
            },
            "type": "scatterpolar"
           }
          ],
          "scatterpolargl": [
           {
            "marker": {
             "colorbar": {
              "outlinewidth": 0,
              "ticks": ""
             }
            },
            "type": "scatterpolargl"
           }
          ],
          "scatterternary": [
           {
            "marker": {
             "colorbar": {
              "outlinewidth": 0,
              "ticks": ""
             }
            },
            "type": "scatterternary"
           }
          ],
          "surface": [
           {
            "colorbar": {
             "outlinewidth": 0,
             "ticks": ""
            },
            "colorscale": [
             [
              0,
              "#0d0887"
             ],
             [
              0.1111111111111111,
              "#46039f"
             ],
             [
              0.2222222222222222,
              "#7201a8"
             ],
             [
              0.3333333333333333,
              "#9c179e"
             ],
             [
              0.4444444444444444,
              "#bd3786"
             ],
             [
              0.5555555555555556,
              "#d8576b"
             ],
             [
              0.6666666666666666,
              "#ed7953"
             ],
             [
              0.7777777777777778,
              "#fb9f3a"
             ],
             [
              0.8888888888888888,
              "#fdca26"
             ],
             [
              1,
              "#f0f921"
             ]
            ],
            "type": "surface"
           }
          ],
          "table": [
           {
            "cells": {
             "fill": {
              "color": "#EBF0F8"
             },
             "line": {
              "color": "white"
             }
            },
            "header": {
             "fill": {
              "color": "#C8D4E3"
             },
             "line": {
              "color": "white"
             }
            },
            "type": "table"
           }
          ]
         },
         "layout": {
          "annotationdefaults": {
           "arrowcolor": "#2a3f5f",
           "arrowhead": 0,
           "arrowwidth": 1
          },
          "autotypenumbers": "strict",
          "coloraxis": {
           "colorbar": {
            "outlinewidth": 0,
            "ticks": ""
           }
          },
          "colorscale": {
           "diverging": [
            [
             0,
             "#8e0152"
            ],
            [
             0.1,
             "#c51b7d"
            ],
            [
             0.2,
             "#de77ae"
            ],
            [
             0.3,
             "#f1b6da"
            ],
            [
             0.4,
             "#fde0ef"
            ],
            [
             0.5,
             "#f7f7f7"
            ],
            [
             0.6,
             "#e6f5d0"
            ],
            [
             0.7,
             "#b8e186"
            ],
            [
             0.8,
             "#7fbc41"
            ],
            [
             0.9,
             "#4d9221"
            ],
            [
             1,
             "#276419"
            ]
           ],
           "sequential": [
            [
             0,
             "#0d0887"
            ],
            [
             0.1111111111111111,
             "#46039f"
            ],
            [
             0.2222222222222222,
             "#7201a8"
            ],
            [
             0.3333333333333333,
             "#9c179e"
            ],
            [
             0.4444444444444444,
             "#bd3786"
            ],
            [
             0.5555555555555556,
             "#d8576b"
            ],
            [
             0.6666666666666666,
             "#ed7953"
            ],
            [
             0.7777777777777778,
             "#fb9f3a"
            ],
            [
             0.8888888888888888,
             "#fdca26"
            ],
            [
             1,
             "#f0f921"
            ]
           ],
           "sequentialminus": [
            [
             0,
             "#0d0887"
            ],
            [
             0.1111111111111111,
             "#46039f"
            ],
            [
             0.2222222222222222,
             "#7201a8"
            ],
            [
             0.3333333333333333,
             "#9c179e"
            ],
            [
             0.4444444444444444,
             "#bd3786"
            ],
            [
             0.5555555555555556,
             "#d8576b"
            ],
            [
             0.6666666666666666,
             "#ed7953"
            ],
            [
             0.7777777777777778,
             "#fb9f3a"
            ],
            [
             0.8888888888888888,
             "#fdca26"
            ],
            [
             1,
             "#f0f921"
            ]
           ]
          },
          "colorway": [
           "#636efa",
           "#EF553B",
           "#00cc96",
           "#ab63fa",
           "#FFA15A",
           "#19d3f3",
           "#FF6692",
           "#B6E880",
           "#FF97FF",
           "#FECB52"
          ],
          "font": {
           "color": "#2a3f5f"
          },
          "geo": {
           "bgcolor": "white",
           "lakecolor": "white",
           "landcolor": "#E5ECF6",
           "showlakes": true,
           "showland": true,
           "subunitcolor": "white"
          },
          "hoverlabel": {
           "align": "left"
          },
          "hovermode": "closest",
          "mapbox": {
           "style": "light"
          },
          "paper_bgcolor": "white",
          "plot_bgcolor": "#E5ECF6",
          "polar": {
           "angularaxis": {
            "gridcolor": "white",
            "linecolor": "white",
            "ticks": ""
           },
           "bgcolor": "#E5ECF6",
           "radialaxis": {
            "gridcolor": "white",
            "linecolor": "white",
            "ticks": ""
           }
          },
          "scene": {
           "xaxis": {
            "backgroundcolor": "#E5ECF6",
            "gridcolor": "white",
            "gridwidth": 2,
            "linecolor": "white",
            "showbackground": true,
            "ticks": "",
            "zerolinecolor": "white"
           },
           "yaxis": {
            "backgroundcolor": "#E5ECF6",
            "gridcolor": "white",
            "gridwidth": 2,
            "linecolor": "white",
            "showbackground": true,
            "ticks": "",
            "zerolinecolor": "white"
           },
           "zaxis": {
            "backgroundcolor": "#E5ECF6",
            "gridcolor": "white",
            "gridwidth": 2,
            "linecolor": "white",
            "showbackground": true,
            "ticks": "",
            "zerolinecolor": "white"
           }
          },
          "shapedefaults": {
           "line": {
            "color": "#2a3f5f"
           }
          },
          "ternary": {
           "aaxis": {
            "gridcolor": "white",
            "linecolor": "white",
            "ticks": ""
           },
           "baxis": {
            "gridcolor": "white",
            "linecolor": "white",
            "ticks": ""
           },
           "bgcolor": "#E5ECF6",
           "caxis": {
            "gridcolor": "white",
            "linecolor": "white",
            "ticks": ""
           }
          },
          "title": {
           "x": 0.05
          },
          "xaxis": {
           "automargin": true,
           "gridcolor": "white",
           "linecolor": "white",
           "ticks": "",
           "title": {
            "standoff": 15
           },
           "zerolinecolor": "white",
           "zerolinewidth": 2
          },
          "yaxis": {
           "automargin": true,
           "gridcolor": "white",
           "linecolor": "white",
           "ticks": "",
           "title": {
            "standoff": 15
           },
           "zerolinecolor": "white",
           "zerolinewidth": 2
          }
         }
        },
        "title": {
         "font": {
          "size": 20
         },
         "text": "Correlation with target vaue",
         "x": 0.5,
         "xanchor": "center"
        },
        "width": 800,
        "xaxis": {
         "anchor": "y",
         "domain": [
          0,
          1
         ],
         "title": {
          "text": "value"
         }
        },
        "yaxis": {
         "anchor": "x",
         "domain": [
          0,
          1
         ],
         "title": {
          "text": "index"
         }
        }
       }
      }
     },
     "metadata": {},
     "output_type": "display_data"
    }
   ],
   "source": [
    "# group data\n",
    "corr = data[data['sample'] == 1].corr()\n",
    "corr_df = round(corr['reviewer_score'].sort_values(ascending=True), 3)\n",
    "\n",
    "# picturaze\n",
    "target_corr = px.bar(\n",
    "    data_frame=corr_df,\n",
    "    orientation='h',\n",
    "    color='value',\n",
    "    height=2000,\n",
    "    width=800,\n",
    "    title='Correlation with target vaue'\n",
    ")\n",
    "target_corr.update_layout(title=dict(x=.5, xanchor='center'),\n",
    "                           title_font_size=20)\n",
    "\n",
    "# display\n",
    "target_corr.show() #'png'"
   ]
  },
  {
   "cell_type": "code",
   "execution_count": 173,
   "id": "e3194fbc",
   "metadata": {
    "execution": {
     "iopub.execute_input": "2022-10-25T11:22:59.312572Z",
     "iopub.status.busy": "2022-10-25T11:22:59.311814Z",
     "iopub.status.idle": "2022-10-25T11:22:59.315275Z",
     "shell.execute_reply": "2022-10-25T11:22:59.315835Z",
     "shell.execute_reply.started": "2022-10-25T11:17:59.250738Z"
    },
    "papermill": {
     "duration": 0.085873,
     "end_time": "2022-10-25T11:22:59.316027",
     "exception": false,
     "start_time": "2022-10-25T11:22:59.230154",
     "status": "completed"
    },
    "tags": []
   },
   "outputs": [],
   "source": [
    "# let's get rid of some features\n",
    "# 'sample' will be dropped soon\n",
    "data = data.drop(['days_since_review', 'total_number_of_reviews', 'positive_neg', 'negative_pos', 'negative_neu'], axis=1)"
   ]
  },
  {
   "attachments": {},
   "cell_type": "markdown",
   "id": "acb12dd0",
   "metadata": {
    "papermill": {
     "duration": 0.080216,
     "end_time": "2022-10-25T11:22:59.855067",
     "exception": false,
     "start_time": "2022-10-25T11:22:59.774851",
     "status": "completed"
    },
    "tags": []
   },
   "source": [
    "## <center> **Part IV. Machine learing**"
   ]
  },
  {
   "attachments": {},
   "cell_type": "markdown",
   "id": "1ea41fe4",
   "metadata": {},
   "source": [
    "### Gradient Boosting Regressor"
   ]
  },
  {
   "cell_type": "code",
   "execution_count": 186,
   "id": "cb657fef",
   "metadata": {
    "execution": {
     "iopub.execute_input": "2022-10-25T11:23:00.017362Z",
     "iopub.status.busy": "2022-10-25T11:23:00.016500Z",
     "iopub.status.idle": "2022-10-25T11:23:00.313342Z",
     "shell.execute_reply": "2022-10-25T11:23:00.313944Z",
     "shell.execute_reply.started": "2022-10-25T11:17:59.328983Z"
    },
    "papermill": {
     "duration": 0.380252,
     "end_time": "2022-10-25T11:23:00.314166",
     "exception": false,
     "start_time": "2022-10-25T11:22:59.933914",
     "status": "completed"
    },
    "tags": []
   },
   "outputs": [],
   "source": [
    "# separate set to train and test\n",
    "train_data = data.query('sample == 1').drop(['sample'], axis=1)\n",
    "test_data = data.query('sample == 0').drop(['sample'], axis=1)\n",
    "\n",
    "# define x and y\n",
    "y = train_data.reviewer_score.values\n",
    "X = train_data.drop(['reviewer_score'], axis=1)\n",
    "\n",
    "# splitting\n",
    "X_train, X_test, y_train, y_test = train_test_split(X, y, test_size=0.2, random_state=40)"
   ]
  },
  {
   "cell_type": "code",
   "execution_count": 176,
   "id": "d5c63e89",
   "metadata": {},
   "outputs": [
    {
     "name": "stdout",
     "output_type": "stream",
     "text": [
      "Train MAPE: 0.1169\n",
      "Test MAPE: 0.1185\n"
     ]
    }
   ],
   "source": [
    "# build a model\n",
    "model = GradientBoostingRegressor(\n",
    "    learning_rate = 0.05,\n",
    "    n_estimators = 300,\n",
    "    min_samples_leaf = 5,\n",
    "    max_depth = 5,\n",
    "    random_state = 40\n",
    ")\n",
    "\n",
    "# training the model\n",
    "model.fit(X_train, y_train)\n",
    "\n",
    "# predict and calculate results for the training sample\n",
    "y_train_pred = model.predict(X_train)\n",
    "print('Train MAPE: {:.4f}'.format(metrics.mean_absolute_percentage_error(y_train, y_train_pred)))\n",
    "\n",
    "# predict and calculate results for the testing sample\n",
    "y_test_pred = model.predict(X_test)\n",
    "print('Test MAPE: {:.4f}'.format(metrics.mean_absolute_percentage_error(y_test, y_test_pred)))"
   ]
  },
  {
   "cell_type": "code",
   "execution_count": 177,
   "id": "df5eae0e",
   "metadata": {},
   "outputs": [
    {
     "data": {
      "text/html": [
       "<div>\n",
       "<style scoped>\n",
       "    .dataframe tbody tr th:only-of-type {\n",
       "        vertical-align: middle;\n",
       "    }\n",
       "\n",
       "    .dataframe tbody tr th {\n",
       "        vertical-align: top;\n",
       "    }\n",
       "\n",
       "    .dataframe thead th {\n",
       "        text-align: right;\n",
       "    }\n",
       "</style>\n",
       "<table border=\"1\" class=\"dataframe\">\n",
       "  <thead>\n",
       "    <tr style=\"text-align: right;\">\n",
       "      <th></th>\n",
       "      <th>reviewer_score</th>\n",
       "      <th>id</th>\n",
       "    </tr>\n",
       "  </thead>\n",
       "  <tbody>\n",
       "    <tr>\n",
       "      <th>0</th>\n",
       "      <td>8.748132</td>\n",
       "      <td>488440</td>\n",
       "    </tr>\n",
       "    <tr>\n",
       "      <th>1</th>\n",
       "      <td>7.770285</td>\n",
       "      <td>274649</td>\n",
       "    </tr>\n",
       "    <tr>\n",
       "      <th>2</th>\n",
       "      <td>8.284639</td>\n",
       "      <td>374688</td>\n",
       "    </tr>\n",
       "    <tr>\n",
       "      <th>3</th>\n",
       "      <td>9.667836</td>\n",
       "      <td>404352</td>\n",
       "    </tr>\n",
       "    <tr>\n",
       "      <th>4</th>\n",
       "      <td>9.457275</td>\n",
       "      <td>451596</td>\n",
       "    </tr>\n",
       "    <tr>\n",
       "      <th>5</th>\n",
       "      <td>9.178486</td>\n",
       "      <td>302161</td>\n",
       "    </tr>\n",
       "    <tr>\n",
       "      <th>6</th>\n",
       "      <td>8.042774</td>\n",
       "      <td>317079</td>\n",
       "    </tr>\n",
       "    <tr>\n",
       "      <th>7</th>\n",
       "      <td>8.228621</td>\n",
       "      <td>13963</td>\n",
       "    </tr>\n",
       "    <tr>\n",
       "      <th>8</th>\n",
       "      <td>8.362936</td>\n",
       "      <td>159785</td>\n",
       "    </tr>\n",
       "    <tr>\n",
       "      <th>9</th>\n",
       "      <td>7.583365</td>\n",
       "      <td>195089</td>\n",
       "    </tr>\n",
       "  </tbody>\n",
       "</table>\n",
       "</div>"
      ],
      "text/plain": [
       "   reviewer_score      id\n",
       "0        8.748132  488440\n",
       "1        7.770285  274649\n",
       "2        8.284639  374688\n",
       "3        9.667836  404352\n",
       "4        9.457275  451596\n",
       "5        9.178486  302161\n",
       "6        8.042774  317079\n",
       "7        8.228621   13963\n",
       "8        8.362936  159785\n",
       "9        7.583365  195089"
      ]
     },
     "execution_count": 177,
     "metadata": {},
     "output_type": "execute_result"
    }
   ],
   "source": [
    "# get rid of the id feature\n",
    "test_data = test_data.drop(['reviewer_score'], axis=1)\n",
    "\n",
    "# predict for the whole test sample\n",
    "predict_submission = model.predict(test_data)\n",
    "submission['reviewer_score'] = predict_submission\n",
    "\n",
    "# save and diaplsy results\n",
    "submission.to_csv('submission.csv', index=False)\n",
    "submission.head(10)"
   ]
  },
  {
   "attachments": {},
   "cell_type": "markdown",
   "id": "779b23af",
   "metadata": {},
   "source": [
    "_____________"
   ]
  },
  {
   "attachments": {},
   "cell_type": "markdown",
   "id": "b73dc711",
   "metadata": {},
   "source": [
    "### Gradient Boosting Regressor with scaling"
   ]
  },
  {
   "cell_type": "code",
   "execution_count": 204,
   "id": "dc8de9a0",
   "metadata": {},
   "outputs": [],
   "source": [
    "# separate set to train and test\n",
    "train_data = data.query('sample == 1').drop(['sample'], axis=1)\n",
    "test_data = data.query('sample == 0').drop(['sample'], axis=1)\n",
    "\n",
    "# define x and y\n",
    "y = train_data.reviewer_score.values\n",
    "X = train_data.drop(['reviewer_score'], axis=1)\n",
    "\n",
    "# splitting\n",
    "X_train, X_test, y_train, y_test = train_test_split(X, y, test_size=0.2, random_state=40)"
   ]
  },
  {
   "cell_type": "code",
   "execution_count": 195,
   "id": "e963ef16",
   "metadata": {},
   "outputs": [],
   "source": [
    "# call a scaler\n",
    "robust_scaler = preprocessing.RobustScaler()\n",
    "\n",
    "# fit on the training\n",
    "robust_scaler.fit(X_train, y_train)\n",
    "\n",
    "# transform both samples\n",
    "X_train_scaled = robust_scaler.transform(X_train)\n",
    "X_test_scaled = robust_scaler.transform(X_test)"
   ]
  },
  {
   "cell_type": "code",
   "execution_count": 196,
   "id": "77195040",
   "metadata": {},
   "outputs": [
    {
     "name": "stdout",
     "output_type": "stream",
     "text": [
      "Train MAPE: 0.1169\n",
      "Test MAPE: 0.1185\n"
     ]
    }
   ],
   "source": [
    "# build a model\n",
    "gradient_boost = GradientBoostingRegressor(\n",
    "    learning_rate = 0.05,\n",
    "    n_estimators = 300,\n",
    "    min_samples_leaf = 5,\n",
    "    max_depth = 5,\n",
    "    random_state = 40\n",
    ")\n",
    "\n",
    "# training the model\n",
    "gradient_boost.fit(X_train_scaled, y_train)\n",
    "\n",
    "# predict and calculate results for the training sample\n",
    "y_train_pred = gradient_boost.predict(X_train_scaled)\n",
    "print('Train MAPE: {:.4f}'.format(metrics.mean_absolute_percentage_error(y_train, y_train_pred)))\n",
    "\n",
    "# predict and calculate results for the testing sample\n",
    "y_test_pred = gradient_boost.predict(X_test_scaled)\n",
    "print('Test MAPE: {:.4f}'.format(metrics.mean_absolute_percentage_error(y_test, y_test_pred)))"
   ]
  },
  {
   "cell_type": "code",
   "execution_count": 200,
   "id": "c20201e1",
   "metadata": {},
   "outputs": [
    {
     "data": {
      "text/html": [
       "<div>\n",
       "<style scoped>\n",
       "    .dataframe tbody tr th:only-of-type {\n",
       "        vertical-align: middle;\n",
       "    }\n",
       "\n",
       "    .dataframe tbody tr th {\n",
       "        vertical-align: top;\n",
       "    }\n",
       "\n",
       "    .dataframe thead th {\n",
       "        text-align: right;\n",
       "    }\n",
       "</style>\n",
       "<table border=\"1\" class=\"dataframe\">\n",
       "  <thead>\n",
       "    <tr style=\"text-align: right;\">\n",
       "      <th></th>\n",
       "      <th>reviewer_score</th>\n",
       "      <th>id</th>\n",
       "    </tr>\n",
       "  </thead>\n",
       "  <tbody>\n",
       "    <tr>\n",
       "      <th>0</th>\n",
       "      <td>8.751766</td>\n",
       "      <td>488440</td>\n",
       "    </tr>\n",
       "    <tr>\n",
       "      <th>1</th>\n",
       "      <td>7.752895</td>\n",
       "      <td>274649</td>\n",
       "    </tr>\n",
       "    <tr>\n",
       "      <th>2</th>\n",
       "      <td>8.295964</td>\n",
       "      <td>374688</td>\n",
       "    </tr>\n",
       "    <tr>\n",
       "      <th>3</th>\n",
       "      <td>9.660345</td>\n",
       "      <td>404352</td>\n",
       "    </tr>\n",
       "    <tr>\n",
       "      <th>4</th>\n",
       "      <td>9.457263</td>\n",
       "      <td>451596</td>\n",
       "    </tr>\n",
       "    <tr>\n",
       "      <th>5</th>\n",
       "      <td>9.173939</td>\n",
       "      <td>302161</td>\n",
       "    </tr>\n",
       "    <tr>\n",
       "      <th>6</th>\n",
       "      <td>8.049397</td>\n",
       "      <td>317079</td>\n",
       "    </tr>\n",
       "    <tr>\n",
       "      <th>7</th>\n",
       "      <td>8.224026</td>\n",
       "      <td>13963</td>\n",
       "    </tr>\n",
       "    <tr>\n",
       "      <th>8</th>\n",
       "      <td>8.388748</td>\n",
       "      <td>159785</td>\n",
       "    </tr>\n",
       "    <tr>\n",
       "      <th>9</th>\n",
       "      <td>7.580834</td>\n",
       "      <td>195089</td>\n",
       "    </tr>\n",
       "  </tbody>\n",
       "</table>\n",
       "</div>"
      ],
      "text/plain": [
       "   reviewer_score      id\n",
       "0        8.751766  488440\n",
       "1        7.752895  274649\n",
       "2        8.295964  374688\n",
       "3        9.660345  404352\n",
       "4        9.457263  451596\n",
       "5        9.173939  302161\n",
       "6        8.049397  317079\n",
       "7        8.224026   13963\n",
       "8        8.388748  159785\n",
       "9        7.580834  195089"
      ]
     },
     "execution_count": 200,
     "metadata": {},
     "output_type": "execute_result"
    }
   ],
   "source": [
    "# get rid of the id feature\n",
    "test_data = test_data.drop(['reviewer_score'], axis=1)\n",
    "\n",
    "# scaling test data\n",
    "test_data = robust_scaler.transform(test_data)\n",
    "\n",
    "# predict for the whole test sample\n",
    "predict_submission = gradient_boost.predict(test_data)\n",
    "submission['reviewer_score'] = predict_submission\n",
    "\n",
    "# save and diaplsy results\n",
    "submission.to_csv('submission_gbr.csv', index=False)\n",
    "submission.head(10)"
   ]
  },
  {
   "attachments": {},
   "cell_type": "markdown",
   "id": "a687e6c2",
   "metadata": {},
   "source": [
    "_____________"
   ]
  },
  {
   "attachments": {},
   "cell_type": "markdown",
   "id": "5aaf7e41",
   "metadata": {},
   "source": [
    "### Random forest regressor"
   ]
  },
  {
   "cell_type": "code",
   "execution_count": 70,
   "id": "5bcd03c2",
   "metadata": {
    "execution": {
     "iopub.execute_input": "2022-10-25T11:23:01.039591Z",
     "iopub.status.busy": "2022-10-25T11:23:01.038639Z",
     "iopub.status.idle": "2022-10-25T11:23:01.042648Z",
     "shell.execute_reply": "2022-10-25T11:23:01.043208Z",
     "shell.execute_reply.started": "2022-10-25T11:17:59.808277Z"
    },
    "papermill": {
     "duration": 0.088445,
     "end_time": "2022-10-25T11:23:01.043413",
     "exception": false,
     "start_time": "2022-10-25T11:23:00.954968",
     "status": "completed"
    },
    "tags": []
   },
   "outputs": [
    {
     "name": "stderr",
     "output_type": "stream",
     "text": [
      "[Parallel(n_jobs=-1)]: Using backend ThreadingBackend with 8 concurrent workers.\n",
      "[Parallel(n_jobs=-1)]: Done  34 tasks      | elapsed:  1.9min\n",
      "[Parallel(n_jobs=-1)]: Done 100 out of 100 | elapsed:  4.7min finished\n",
      "[Parallel(n_jobs=8)]: Using backend ThreadingBackend with 8 concurrent workers.\n",
      "[Parallel(n_jobs=8)]: Done  34 tasks      | elapsed:    2.5s\n",
      "[Parallel(n_jobs=8)]: Done 100 out of 100 | elapsed:    6.5s finished\n",
      "[Parallel(n_jobs=8)]: Using backend ThreadingBackend with 8 concurrent workers.\n"
     ]
    },
    {
     "name": "stdout",
     "output_type": "stream",
     "text": [
      "Train MAPE: 4.4819\n"
     ]
    },
    {
     "name": "stderr",
     "output_type": "stream",
     "text": [
      "[Parallel(n_jobs=8)]: Done  34 tasks      | elapsed:    0.5s\n"
     ]
    },
    {
     "name": "stdout",
     "output_type": "stream",
     "text": [
      "Test MAPE: 12.0611\n"
     ]
    },
    {
     "name": "stderr",
     "output_type": "stream",
     "text": [
      "[Parallel(n_jobs=8)]: Done 100 out of 100 | elapsed:    1.4s finished\n"
     ]
    }
   ],
   "source": [
    "# model building\n",
    "model = RandomForestRegressor(\n",
    "    n_estimators=100, \n",
    "    verbose=1, \n",
    "    n_jobs=-1, \n",
    "    random_state=40)\n",
    "\n",
    "# train the model\n",
    "model.fit(X_train, y_train)\n",
    "\n",
    "# predict and caltulate metric for the training\n",
    "y_train_pred = model.predict(X_train)\n",
    "print('Train MAPE: {:.4f}'.format(metrics.mean_absolute_percentage_error(y_train, y_train_pred) * 100))\n",
    "\n",
    "# predict and caltulate metric for the testing\n",
    "y_test_pred = model.predict(X_test)\n",
    "print('Test MAPE: {:.4f}'.format(metrics.mean_absolute_percentage_error(y_test, y_test_pred) * 100))"
   ]
  },
  {
   "attachments": {},
   "cell_type": "markdown",
   "id": "ce4fb922",
   "metadata": {},
   "source": [
    "### Updated random forest regressor"
   ]
  },
  {
   "cell_type": "code",
   "execution_count": 72,
   "id": "1aeeac3c",
   "metadata": {},
   "outputs": [
    {
     "name": "stderr",
     "output_type": "stream",
     "text": [
      "[Parallel(n_jobs=-1)]: Using backend ThreadingBackend with 8 concurrent workers.\n",
      "[Parallel(n_jobs=-1)]: Done  34 tasks      | elapsed:  1.3min\n",
      "[Parallel(n_jobs=-1)]: Done 184 tasks      | elapsed:  6.1min\n",
      "[Parallel(n_jobs=-1)]: Done 434 tasks      | elapsed: 14.2min\n",
      "[Parallel(n_jobs=-1)]: Done 500 out of 500 | elapsed: 16.3min finished\n",
      "[Parallel(n_jobs=8)]: Using backend ThreadingBackend with 8 concurrent workers.\n",
      "[Parallel(n_jobs=8)]: Done  34 tasks      | elapsed:    0.5s\n",
      "[Parallel(n_jobs=8)]: Done 184 tasks      | elapsed:    2.9s\n",
      "[Parallel(n_jobs=8)]: Done 434 tasks      | elapsed:    6.8s\n",
      "[Parallel(n_jobs=8)]: Done 500 out of 500 | elapsed:    7.8s finished\n",
      "[Parallel(n_jobs=8)]: Using backend ThreadingBackend with 8 concurrent workers.\n"
     ]
    },
    {
     "name": "stdout",
     "output_type": "stream",
     "text": [
      "Train: 0.1013\n"
     ]
    },
    {
     "name": "stderr",
     "output_type": "stream",
     "text": [
      "[Parallel(n_jobs=8)]: Done  34 tasks      | elapsed:    0.1s\n",
      "[Parallel(n_jobs=8)]: Done 184 tasks      | elapsed:    0.7s\n",
      "[Parallel(n_jobs=8)]: Done 434 tasks      | elapsed:    1.7s\n"
     ]
    },
    {
     "name": "stdout",
     "output_type": "stream",
     "text": [
      "Test: 0.1202\n"
     ]
    },
    {
     "name": "stderr",
     "output_type": "stream",
     "text": [
      "[Parallel(n_jobs=8)]: Done 500 out of 500 | elapsed:    2.0s finished\n"
     ]
    }
   ],
   "source": [
    "# model building\n",
    "random_forest = RandomForestRegressor(\n",
    "    n_estimators=500,\n",
    "    max_depth=15,\n",
    "    min_samples_leaf=5, \n",
    "    verbose=1, \n",
    "    n_jobs=-1, \n",
    "    random_state=40\n",
    ")\n",
    "\n",
    "# training this model\n",
    "random_forest.fit(X_train, y_train)\n",
    "\n",
    "# predict and caltulate metric for the training\n",
    "y_train_pred = random_forest.predict(X_train)\n",
    "print('Train: {:.4f}'.format(metrics.mean_absolute_percentage_error(y_train, y_train_pred)))\n",
    "\n",
    "# predict and caltulate metric for the testing\n",
    "y_test_pred = random_forest.predict(X_test)\n",
    "print('Test: {:.4f}'.format(metrics.mean_absolute_percentage_error(y_test, y_test_pred)))"
   ]
  },
  {
   "attachments": {},
   "cell_type": "markdown",
   "id": "c5a40339",
   "metadata": {},
   "source": [
    "### Random Forest with the scaled data"
   ]
  },
  {
   "cell_type": "code",
   "execution_count": 75,
   "id": "15891dbe",
   "metadata": {},
   "outputs": [
    {
     "name": "stderr",
     "output_type": "stream",
     "text": [
      "[Parallel(n_jobs=-1)]: Using backend ThreadingBackend with 8 concurrent workers.\n",
      "[Parallel(n_jobs=-1)]: Done  34 tasks      | elapsed:  1.3min\n",
      "[Parallel(n_jobs=-1)]: Done 184 tasks      | elapsed:  6.1min\n",
      "[Parallel(n_jobs=-1)]: Done 434 tasks      | elapsed: 14.3min\n",
      "[Parallel(n_jobs=-1)]: Done 500 out of 500 | elapsed: 16.3min finished\n",
      "[Parallel(n_jobs=8)]: Using backend ThreadingBackend with 8 concurrent workers.\n",
      "[Parallel(n_jobs=8)]: Done  34 tasks      | elapsed:    0.5s\n",
      "[Parallel(n_jobs=8)]: Done 184 tasks      | elapsed:    2.7s\n",
      "[Parallel(n_jobs=8)]: Done 434 tasks      | elapsed:    6.4s\n",
      "[Parallel(n_jobs=8)]: Done 500 out of 500 | elapsed:    7.3s finished\n",
      "[Parallel(n_jobs=8)]: Using backend ThreadingBackend with 8 concurrent workers.\n",
      "[Parallel(n_jobs=8)]: Done  34 tasks      | elapsed:    0.0s\n"
     ]
    },
    {
     "name": "stdout",
     "output_type": "stream",
     "text": [
      "Train: 0.1013\n"
     ]
    },
    {
     "name": "stderr",
     "output_type": "stream",
     "text": [
      "[Parallel(n_jobs=8)]: Done 184 tasks      | elapsed:    0.6s\n",
      "[Parallel(n_jobs=8)]: Done 434 tasks      | elapsed:    1.5s\n"
     ]
    },
    {
     "name": "stdout",
     "output_type": "stream",
     "text": [
      "Test: 0.1202\n"
     ]
    },
    {
     "name": "stderr",
     "output_type": "stream",
     "text": [
      "[Parallel(n_jobs=8)]: Done 500 out of 500 | elapsed:    1.7s finished\n"
     ]
    }
   ],
   "source": [
    "# build a model\n",
    "random_forest = RandomForestRegressor(\n",
    "    n_estimators=500,\n",
    "    max_depth=15,\n",
    "    min_samples_leaf=5, \n",
    "    verbose=1, \n",
    "    n_jobs=-1, \n",
    "    random_state=40\n",
    ")\n",
    "\n",
    "# training this model\n",
    "random_forest.fit(X_train_scaled, y_train)\n",
    "\n",
    "# predict and caltulate metric for the training\n",
    "y_train_pred = random_forest.predict(X_train_scaled)\n",
    "print('Train: {:.4f}'.format(metrics.mean_absolute_percentage_error(y_train, y_train_pred)))\n",
    "\n",
    "# predict and caltulate metric for the testing\n",
    "y_test_pred = random_forest.predict(X_test_scaled)\n",
    "print('Test: {:.4f}'.format(metrics.mean_absolute_percentage_error(y_test, y_test_pred)))"
   ]
  },
  {
   "attachments": {},
   "cell_type": "markdown",
   "id": "9abd4a6b",
   "metadata": {},
   "source": [
    "### Linear Regression"
   ]
  },
  {
   "cell_type": "code",
   "execution_count": 76,
   "id": "36372bf3",
   "metadata": {},
   "outputs": [
    {
     "name": "stdout",
     "output_type": "stream",
     "text": [
      "Test MAPE: 12.7178\n"
     ]
    }
   ],
   "source": [
    "# build a moedl\n",
    "log_reg = linear_model.LinearRegression()\n",
    "\n",
    "# training this model\n",
    "log_reg.fit(X_train_scaled, y_train)\n",
    "\n",
    "# predict and caltulate metric for the training\n",
    "y_train_pred = log_reg.predict(X_train_scaled)\n",
    "print('Train MAPE: {:.4f}'.format(metrics.mean_absolute_percentage_error(y_train, y_train_pred) * 100))\n",
    "\n",
    "# predict and caltulate metric for the testing\n",
    "y_test_pred = log_reg.predict(X_test_scaled)\n",
    "print('Test MAPE: {:.4f}'.format(metrics.mean_absolute_percentage_error(y_test, y_test_pred) * 100))"
   ]
  },
  {
   "attachments": {},
   "cell_type": "markdown",
   "id": "d916dc52",
   "metadata": {},
   "source": [
    "### SGD"
   ]
  },
  {
   "cell_type": "code",
   "execution_count": 79,
   "id": "308eeedb",
   "metadata": {},
   "outputs": [
    {
     "name": "stdout",
     "output_type": "stream",
     "text": [
      "Train MAPE: 0.1272\n",
      "Test MAPE: 0.1273\n"
     ]
    }
   ],
   "source": [
    "# build a model\n",
    "sgd_lr = linear_model.SGDRegressor(random_state=40)\n",
    "\n",
    "# train the model\n",
    "sgd_lr.fit(X_train_scaled, y_train)\n",
    "\n",
    "# predict and calculate results for the training sample\n",
    "y_train_pred = sgd_lr.predict(X_train_scaled)\n",
    "print('Train MAPE: {:.4f}'.format(metrics.mean_absolute_percentage_error(y_train, y_train_pred)))\n",
    "\n",
    "# predict and calculate results for the testing sample\n",
    "y_test_pred = sgd_lr.predict(X_test_scaled)\n",
    "print('Test MAPE: {:.4f}'.format(metrics.mean_absolute_percentage_error(y_test, y_test_pred)))"
   ]
  },
  {
   "attachments": {},
   "cell_type": "markdown",
   "id": "65e6c255",
   "metadata": {},
   "source": [
    "### STACKING"
   ]
  },
  {
   "cell_type": "code",
   "execution_count": 82,
   "id": "c87715b4",
   "metadata": {},
   "outputs": [
    {
     "name": "stderr",
     "output_type": "stream",
     "text": [
      "[Parallel(n_jobs=-1)]: Using backend LokyBackend with 8 concurrent workers.\n",
      "[Parallel(n_jobs=-1)]: Done  34 tasks      | elapsed:  1.5min\n",
      "[Parallel(n_jobs=-1)]: Done 184 tasks      | elapsed:  6.6min\n",
      "[Parallel(n_jobs=-1)]: Done 434 tasks      | elapsed: 15.6min\n",
      "[Parallel(n_jobs=-1)]: Done 500 out of 500 | elapsed: 18.0min finished\n",
      "[Parallel(n_jobs=-1)]: Using backend LokyBackend with 8 concurrent workers.\n",
      "[Parallel(n_jobs=-1)]: Done  34 tasks      | elapsed:  1.4min\n",
      "[Parallel(n_jobs=-1)]: Done 184 tasks      | elapsed:  5.7min\n",
      "[Parallel(n_jobs=-1)]: Done 434 tasks      | elapsed: 13.4min\n",
      "[Parallel(n_jobs=-1)]: Done 500 out of 500 | elapsed: 15.3min finished\n",
      "[Parallel(n_jobs=8)]: Using backend ThreadingBackend with 8 concurrent workers.\n",
      "[Parallel(n_jobs=8)]: Done  34 tasks      | elapsed:    0.1s\n",
      "[Parallel(n_jobs=8)]: Done 184 tasks      | elapsed:    0.6s\n",
      "[Parallel(n_jobs=8)]: Done 434 tasks      | elapsed:    1.5s\n",
      "[Parallel(n_jobs=8)]: Done 500 out of 500 | elapsed:    1.7s finished\n",
      "[Parallel(n_jobs=-1)]: Using backend LokyBackend with 8 concurrent workers.\n",
      "[Parallel(n_jobs=-1)]: Done  34 tasks      | elapsed:  1.0min\n",
      "[Parallel(n_jobs=-1)]: Done 184 tasks      | elapsed:  4.8min\n",
      "[Parallel(n_jobs=-1)]: Done 434 tasks      | elapsed: 11.5min\n",
      "[Parallel(n_jobs=-1)]: Done 500 out of 500 | elapsed: 13.2min finished\n",
      "[Parallel(n_jobs=8)]: Using backend ThreadingBackend with 8 concurrent workers.\n",
      "[Parallel(n_jobs=8)]: Done  34 tasks      | elapsed:    0.1s\n",
      "[Parallel(n_jobs=8)]: Done 184 tasks      | elapsed:    0.6s\n",
      "[Parallel(n_jobs=8)]: Done 434 tasks      | elapsed:    1.4s\n",
      "[Parallel(n_jobs=8)]: Done 500 out of 500 | elapsed:    1.6s finished\n",
      "[Parallel(n_jobs=-1)]: Using backend LokyBackend with 8 concurrent workers.\n",
      "[Parallel(n_jobs=-1)]: Done  34 tasks      | elapsed:  1.0min\n",
      "[Parallel(n_jobs=-1)]: Done 184 tasks      | elapsed:  5.2min\n",
      "[Parallel(n_jobs=-1)]: Done 434 tasks      | elapsed: 11.9min\n",
      "[Parallel(n_jobs=-1)]: Done 500 out of 500 | elapsed: 13.8min finished\n",
      "[Parallel(n_jobs=8)]: Using backend ThreadingBackend with 8 concurrent workers.\n",
      "[Parallel(n_jobs=8)]: Done  34 tasks      | elapsed:    0.0s\n",
      "[Parallel(n_jobs=8)]: Done 184 tasks      | elapsed:    0.6s\n",
      "[Parallel(n_jobs=8)]: Done 434 tasks      | elapsed:    1.4s\n",
      "[Parallel(n_jobs=8)]: Done 500 out of 500 | elapsed:    1.7s finished\n",
      "[Parallel(n_jobs=-1)]: Using backend LokyBackend with 8 concurrent workers.\n",
      "[Parallel(n_jobs=-1)]: Done  34 tasks      | elapsed:  1.0min\n",
      "[Parallel(n_jobs=-1)]: Done 184 tasks      | elapsed:  5.1min\n",
      "[Parallel(n_jobs=-1)]: Done 434 tasks      | elapsed: 12.0min\n",
      "[Parallel(n_jobs=-1)]: Done 500 out of 500 | elapsed: 13.6min finished\n",
      "[Parallel(n_jobs=8)]: Using backend ThreadingBackend with 8 concurrent workers.\n",
      "[Parallel(n_jobs=8)]: Done  34 tasks      | elapsed:    0.0s\n",
      "[Parallel(n_jobs=8)]: Done 184 tasks      | elapsed:    0.6s\n",
      "[Parallel(n_jobs=8)]: Done 434 tasks      | elapsed:    1.4s\n",
      "[Parallel(n_jobs=8)]: Done 500 out of 500 | elapsed:    1.7s finished\n",
      "[Parallel(n_jobs=-1)]: Using backend LokyBackend with 8 concurrent workers.\n",
      "[Parallel(n_jobs=-1)]: Done  34 tasks      | elapsed:  1.0min\n",
      "[Parallel(n_jobs=-1)]: Done 184 tasks      | elapsed:  4.8min\n",
      "[Parallel(n_jobs=-1)]: Done 434 tasks      | elapsed: 11.8min\n",
      "[Parallel(n_jobs=-1)]: Done 500 out of 500 | elapsed: 13.5min finished\n",
      "[Parallel(n_jobs=8)]: Using backend ThreadingBackend with 8 concurrent workers.\n",
      "[Parallel(n_jobs=8)]: Done  34 tasks      | elapsed:    0.0s\n",
      "[Parallel(n_jobs=8)]: Done 184 tasks      | elapsed:    0.5s\n",
      "[Parallel(n_jobs=8)]: Done 434 tasks      | elapsed:    1.4s\n",
      "[Parallel(n_jobs=8)]: Done 500 out of 500 | elapsed:    1.6s finished\n",
      "[Parallel(n_jobs=8)]: Using backend ThreadingBackend with 8 concurrent workers.\n",
      "[Parallel(n_jobs=8)]: Done  34 tasks      | elapsed:    0.5s\n",
      "[Parallel(n_jobs=8)]: Done 184 tasks      | elapsed:    3.0s\n",
      "[Parallel(n_jobs=8)]: Done 434 tasks      | elapsed:    7.0s\n",
      "[Parallel(n_jobs=8)]: Done 500 out of 500 | elapsed:    8.1s finished\n"
     ]
    },
    {
     "name": "stdout",
     "output_type": "stream",
     "text": [
      "Train MAPE: 0.1153\n"
     ]
    },
    {
     "name": "stderr",
     "output_type": "stream",
     "text": [
      "[Parallel(n_jobs=8)]: Using backend ThreadingBackend with 8 concurrent workers.\n",
      "[Parallel(n_jobs=8)]: Done  34 tasks      | elapsed:    0.1s\n",
      "[Parallel(n_jobs=8)]: Done 184 tasks      | elapsed:    0.7s\n",
      "[Parallel(n_jobs=8)]: Done 434 tasks      | elapsed:    1.7s\n",
      "[Parallel(n_jobs=8)]: Done 500 out of 500 | elapsed:    1.9s finished\n"
     ]
    },
    {
     "name": "stdout",
     "output_type": "stream",
     "text": [
      "Test MAPE: 0.1180\n"
     ]
    }
   ],
   "source": [
    "# all models\n",
    "estimators = [\n",
    "    ('rf', random_forest),\n",
    "    ('lr', log_reg),\n",
    "    ('gb', gradient_boost),\n",
    "    ('sgd', sgd_lr)\n",
    "]\n",
    "\n",
    "# call a stack model\n",
    "stack_forest = StackingRegressor(\n",
    "    estimators=estimators,\n",
    "    final_estimator=ensemble.RandomForestRegressor(n_estimators=100,\n",
    "                                                    max_depth=7,\n",
    "                                                    min_samples_leaf=3,\n",
    "                                                    random_state=40)\n",
    ")\n",
    "\n",
    "# training the model\n",
    "stack_forest.fit(X_train_scaled, y_train)\n",
    "\n",
    "# predict and calculate results for the training sample\n",
    "y_train_pred = stack_forest.predict(X_train_scaled)\n",
    "print('Train MAPE: {:.4f}'.format(metrics.mean_absolute_percentage_error(y_train, y_train_pred)))\n",
    "\n",
    "# predict and calculate results for the testing sample\n",
    "y_test_pred = stack_forest.predict(X_test_scaled)\n",
    "print('Test MAPE: {:.4f}'.format(metrics.mean_absolute_percentage_error(y_test, y_test_pred)))"
   ]
  },
  {
   "cell_type": "code",
   "execution_count": 205,
   "id": "0ae0b9f8",
   "metadata": {},
   "outputs": [
    {
     "name": "stderr",
     "output_type": "stream",
     "text": [
      "[Parallel(n_jobs=8)]: Using backend ThreadingBackend with 8 concurrent workers.\n",
      "[Parallel(n_jobs=8)]: Done  34 tasks      | elapsed:    0.3s\n",
      "[Parallel(n_jobs=8)]: Done 184 tasks      | elapsed:    1.4s\n",
      "[Parallel(n_jobs=8)]: Done 434 tasks      | elapsed:    3.5s\n",
      "[Parallel(n_jobs=8)]: Done 500 out of 500 | elapsed:    4.0s finished\n"
     ]
    },
    {
     "data": {
      "text/html": [
       "<div>\n",
       "<style scoped>\n",
       "    .dataframe tbody tr th:only-of-type {\n",
       "        vertical-align: middle;\n",
       "    }\n",
       "\n",
       "    .dataframe tbody tr th {\n",
       "        vertical-align: top;\n",
       "    }\n",
       "\n",
       "    .dataframe thead th {\n",
       "        text-align: right;\n",
       "    }\n",
       "</style>\n",
       "<table border=\"1\" class=\"dataframe\">\n",
       "  <thead>\n",
       "    <tr style=\"text-align: right;\">\n",
       "      <th></th>\n",
       "      <th>reviewer_score</th>\n",
       "      <th>id</th>\n",
       "    </tr>\n",
       "  </thead>\n",
       "  <tbody>\n",
       "    <tr>\n",
       "      <th>0</th>\n",
       "      <td>8.749923</td>\n",
       "      <td>488440</td>\n",
       "    </tr>\n",
       "    <tr>\n",
       "      <th>1</th>\n",
       "      <td>7.685632</td>\n",
       "      <td>274649</td>\n",
       "    </tr>\n",
       "    <tr>\n",
       "      <th>2</th>\n",
       "      <td>8.322552</td>\n",
       "      <td>374688</td>\n",
       "    </tr>\n",
       "    <tr>\n",
       "      <th>3</th>\n",
       "      <td>9.715697</td>\n",
       "      <td>404352</td>\n",
       "    </tr>\n",
       "    <tr>\n",
       "      <th>4</th>\n",
       "      <td>9.508409</td>\n",
       "      <td>451596</td>\n",
       "    </tr>\n",
       "    <tr>\n",
       "      <th>5</th>\n",
       "      <td>9.188668</td>\n",
       "      <td>302161</td>\n",
       "    </tr>\n",
       "    <tr>\n",
       "      <th>6</th>\n",
       "      <td>8.048213</td>\n",
       "      <td>317079</td>\n",
       "    </tr>\n",
       "    <tr>\n",
       "      <th>7</th>\n",
       "      <td>8.236865</td>\n",
       "      <td>13963</td>\n",
       "    </tr>\n",
       "    <tr>\n",
       "      <th>8</th>\n",
       "      <td>8.375993</td>\n",
       "      <td>159785</td>\n",
       "    </tr>\n",
       "    <tr>\n",
       "      <th>9</th>\n",
       "      <td>7.650313</td>\n",
       "      <td>195089</td>\n",
       "    </tr>\n",
       "  </tbody>\n",
       "</table>\n",
       "</div>"
      ],
      "text/plain": [
       "   reviewer_score      id\n",
       "0        8.749923  488440\n",
       "1        7.685632  274649\n",
       "2        8.322552  374688\n",
       "3        9.715697  404352\n",
       "4        9.508409  451596\n",
       "5        9.188668  302161\n",
       "6        8.048213  317079\n",
       "7        8.236865   13963\n",
       "8        8.375993  159785\n",
       "9        7.650313  195089"
      ]
     },
     "execution_count": 205,
     "metadata": {},
     "output_type": "execute_result"
    }
   ],
   "source": [
    "# load again the original test sample\n",
    "test_data = data.query('sample == 0').drop(['sample'], axis=1)\n",
    "\n",
    "# get rid of the target value\n",
    "test_data = test_data.drop(['reviewer_score'], axis=1)\n",
    "\n",
    "# scaling the test sample\n",
    "test_data = robust_scaler.transform(test_data)\n",
    "\n",
    "# predict results\n",
    "predict_submission = stack_forest.predict(test_data)\n",
    "submission['reviewer_score'] = predict_submission\n",
    "\n",
    "# save and display results\n",
    "submission.to_csv('submission_sf.csv', index=False)\n",
    "submission.head(10)"
   ]
  },
  {
   "attachments": {},
   "cell_type": "markdown",
   "id": "99bcb134",
   "metadata": {},
   "source": [
    "## <center> **Conclusion**\n",
    "Work was carried out with each feature separately, a large number of new highly correlated features with the target was created. Several machine learning models have been built. Using the stacking regressor model, we managed to achieve the target metric (MAPE) less than 12%.   \n",
    "At the end of December 2022, the result is in the top 10 in [this competition](https://www.kaggle.com/competitions/sf-booking/leaderboard)."
   ]
  },
  {
   "attachments": {
    "image.png": {
     "image/png": "[encoded data removed]"
    }
   },
   "cell_type": "markdown",
   "id": "5999716d",
   "metadata": {},
   "source": [
    "![image.png](attachment:image.png)"
   ]
  }
 ],
 "metadata": {
  "kernelspec": {
   "display_name": "Python 3",
   "language": "python",
   "name": "python3"
  },
  "language_info": {
   "codemirror_mode": {
    "name": "ipython",
    "version": 3
   },
   "file_extension": ".py",
   "mimetype": "text/x-python",
   "name": "python",
   "nbconvert_exporter": "python",
   "pygments_lexer": "ipython3",
   "version": "3.9.10"
  },
  "papermill": {
   "default_parameters": {},
   "duration": 272.905719,
   "end_time": "2022-10-25T11:25:54.268125",
   "environment_variables": {},
   "exception": null,
   "input_path": "__notebook__.ipynb",
   "output_path": "__notebook__.ipynb",
   "parameters": {},
   "start_time": "2022-10-25T11:21:21.362406",
   "version": "2.3.3"
  },
  "vscode": {
   "interpreter": {
    "hash": "4d181b88a5681332783464b335ffcae2a192662c591f914e6515f1b7dbb1ef53"
   }
  }
 },
 "nbformat": 4,
 "nbformat_minor": 5
}
